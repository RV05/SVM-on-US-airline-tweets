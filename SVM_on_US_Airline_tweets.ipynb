{
  "nbformat": 4,
  "nbformat_minor": 0,
  "metadata": {
    "kernelspec": {
      "display_name": "Python 3",
      "language": "python",
      "name": "python3"
    },
    "language_info": {
      "codemirror_mode": {
        "name": "ipython",
        "version": 3
      },
      "file_extension": ".py",
      "mimetype": "text/x-python",
      "name": "python",
      "nbconvert_exporter": "python",
      "pygments_lexer": "ipython3",
      "version": "3.7.1"
    },
    "colab": {
      "name": "SVM on US Airline tweets.ipynb",
      "provenance": [],
      "collapsed_sections": [],
      "include_colab_link": true
    }
  },
  "cells": [
    {
      "cell_type": "markdown",
      "metadata": {
        "id": "view-in-github",
        "colab_type": "text"
      },
      "source": [
        "<a href=\"https://colab.research.google.com/github/RV05/SVM-on-US-airline-tweets/blob/main/SVM_on_US_Airline_tweets.ipynb\" target=\"_parent\"><img src=\"https://colab.research.google.com/assets/colab-badge.svg\" alt=\"Open In Colab\"/></a>"
      ]
    },
    {
      "cell_type": "markdown",
      "metadata": {
        "id": "PYsTFWXYjCxF"
      },
      "source": [
        "# <u><b> Objective </b></u>\n",
        "## <b> You are given a data of US Airline tweets and their sentiment. The task is to do sentiment analysis about the problems of each major U.S. airline. Twitter data was scraped from February of 2015 and contributors were asked to first classify positive, negative, and neutral tweets, followed by categorizing negative reasons (such as \"late flight\" or \"rude service\"). </b>\n",
        "\n",
        "<br>\n",
        "<br>\n",
        "\n",
        "## <b>Things to do :</b>\n",
        "* ### Read the tweets.csv data, clean and tokenize the tweets using nltk library.\n",
        "* ### Count vectorize the tweets so that you end up with a sparse matrix (which will be your $X$). \n",
        "* ### You are supposed to build a SVM classifier (a binary classification in fact). Since the data contains three levels of sentiment(positive, negative and neutral), you should remove the sentences which are neutral. Once you do that you will have two classes only (positive and negative). You can set the label of positive tweets to 1 and negative tweets to 0.\n",
        "* ### Once you have built the SVM classifier, evaluate this model across various metrics. Also plot the ROC curve and Precision-Recall curve. Report the areas under these two curves along with other metrics.\n",
        "* ### Perform GridSearch cross validation for various values of $C$ and $gamma$. These will be the hyperparameters which you would play around with.\n",
        "* ### Explain your observations and the underlying reasons for these.\n",
        "* ### Try checking if <code>tfidfvectorizer</code> helps you gain lift in model's performance.\n",
        "\n",
        "\n",
        "\n"
      ]
    },
    {
      "cell_type": "code",
      "metadata": {
        "id": "Ah_20SDKV7Ao"
      },
      "source": [
        "#Load the necessary python libraries\n",
        "import numpy as np\n",
        "import pandas as pd\n",
        "import matplotlib.pyplot as plt\n",
        "plt.style.use('ggplot')"
      ],
      "execution_count": 1,
      "outputs": []
    },
    {
      "cell_type": "code",
      "metadata": {
        "colab": {
          "base_uri": "https://localhost:8080/"
        },
        "id": "j73AYcpwK9pK",
        "outputId": "5f0d2b4e-f718-4949-d949-2760380d52b9"
      },
      "source": [
        "from google.colab import drive\n",
        "drive.mount('/content/drive')"
      ],
      "execution_count": 2,
      "outputs": [
        {
          "output_type": "stream",
          "text": [
            "Drive already mounted at /content/drive; to attempt to forcibly remount, call drive.mount(\"/content/drive\", force_remount=True).\n"
          ],
          "name": "stdout"
        }
      ]
    },
    {
      "cell_type": "code",
      "metadata": {
        "colab": {
          "base_uri": "https://localhost:8080/",
          "height": 445
        },
        "id": "wTvjKt5GK-KB",
        "outputId": "4dd1f2a2-e9ad-4318-e7d4-2a118a111f47"
      },
      "source": [
        "message = pd.read_csv('/content/drive/MyDrive/alma/Tweets.csv')\n",
        "message.head()"
      ],
      "execution_count": 3,
      "outputs": [
        {
          "output_type": "execute_result",
          "data": {
            "text/html": [
              "<div>\n",
              "<style scoped>\n",
              "    .dataframe tbody tr th:only-of-type {\n",
              "        vertical-align: middle;\n",
              "    }\n",
              "\n",
              "    .dataframe tbody tr th {\n",
              "        vertical-align: top;\n",
              "    }\n",
              "\n",
              "    .dataframe thead th {\n",
              "        text-align: right;\n",
              "    }\n",
              "</style>\n",
              "<table border=\"1\" class=\"dataframe\">\n",
              "  <thead>\n",
              "    <tr style=\"text-align: right;\">\n",
              "      <th></th>\n",
              "      <th>tweet_id</th>\n",
              "      <th>airline_sentiment</th>\n",
              "      <th>airline_sentiment_confidence</th>\n",
              "      <th>negativereason</th>\n",
              "      <th>negativereason_confidence</th>\n",
              "      <th>airline</th>\n",
              "      <th>airline_sentiment_gold</th>\n",
              "      <th>name</th>\n",
              "      <th>negativereason_gold</th>\n",
              "      <th>retweet_count</th>\n",
              "      <th>text</th>\n",
              "      <th>tweet_coord</th>\n",
              "      <th>tweet_created</th>\n",
              "      <th>tweet_location</th>\n",
              "      <th>user_timezone</th>\n",
              "    </tr>\n",
              "  </thead>\n",
              "  <tbody>\n",
              "    <tr>\n",
              "      <th>0</th>\n",
              "      <td>570306133677760513</td>\n",
              "      <td>neutral</td>\n",
              "      <td>1.0000</td>\n",
              "      <td>NaN</td>\n",
              "      <td>NaN</td>\n",
              "      <td>Virgin America</td>\n",
              "      <td>NaN</td>\n",
              "      <td>cairdin</td>\n",
              "      <td>NaN</td>\n",
              "      <td>0</td>\n",
              "      <td>@VirginAmerica What @dhepburn said.</td>\n",
              "      <td>NaN</td>\n",
              "      <td>2015-02-24 11:35:52 -0800</td>\n",
              "      <td>NaN</td>\n",
              "      <td>Eastern Time (US &amp; Canada)</td>\n",
              "    </tr>\n",
              "    <tr>\n",
              "      <th>1</th>\n",
              "      <td>570301130888122368</td>\n",
              "      <td>positive</td>\n",
              "      <td>0.3486</td>\n",
              "      <td>NaN</td>\n",
              "      <td>0.0000</td>\n",
              "      <td>Virgin America</td>\n",
              "      <td>NaN</td>\n",
              "      <td>jnardino</td>\n",
              "      <td>NaN</td>\n",
              "      <td>0</td>\n",
              "      <td>@VirginAmerica plus you've added commercials t...</td>\n",
              "      <td>NaN</td>\n",
              "      <td>2015-02-24 11:15:59 -0800</td>\n",
              "      <td>NaN</td>\n",
              "      <td>Pacific Time (US &amp; Canada)</td>\n",
              "    </tr>\n",
              "    <tr>\n",
              "      <th>2</th>\n",
              "      <td>570301083672813571</td>\n",
              "      <td>neutral</td>\n",
              "      <td>0.6837</td>\n",
              "      <td>NaN</td>\n",
              "      <td>NaN</td>\n",
              "      <td>Virgin America</td>\n",
              "      <td>NaN</td>\n",
              "      <td>yvonnalynn</td>\n",
              "      <td>NaN</td>\n",
              "      <td>0</td>\n",
              "      <td>@VirginAmerica I didn't today... Must mean I n...</td>\n",
              "      <td>NaN</td>\n",
              "      <td>2015-02-24 11:15:48 -0800</td>\n",
              "      <td>Lets Play</td>\n",
              "      <td>Central Time (US &amp; Canada)</td>\n",
              "    </tr>\n",
              "    <tr>\n",
              "      <th>3</th>\n",
              "      <td>570301031407624196</td>\n",
              "      <td>negative</td>\n",
              "      <td>1.0000</td>\n",
              "      <td>Bad Flight</td>\n",
              "      <td>0.7033</td>\n",
              "      <td>Virgin America</td>\n",
              "      <td>NaN</td>\n",
              "      <td>jnardino</td>\n",
              "      <td>NaN</td>\n",
              "      <td>0</td>\n",
              "      <td>@VirginAmerica it's really aggressive to blast...</td>\n",
              "      <td>NaN</td>\n",
              "      <td>2015-02-24 11:15:36 -0800</td>\n",
              "      <td>NaN</td>\n",
              "      <td>Pacific Time (US &amp; Canada)</td>\n",
              "    </tr>\n",
              "    <tr>\n",
              "      <th>4</th>\n",
              "      <td>570300817074462722</td>\n",
              "      <td>negative</td>\n",
              "      <td>1.0000</td>\n",
              "      <td>Can't Tell</td>\n",
              "      <td>1.0000</td>\n",
              "      <td>Virgin America</td>\n",
              "      <td>NaN</td>\n",
              "      <td>jnardino</td>\n",
              "      <td>NaN</td>\n",
              "      <td>0</td>\n",
              "      <td>@VirginAmerica and it's a really big bad thing...</td>\n",
              "      <td>NaN</td>\n",
              "      <td>2015-02-24 11:14:45 -0800</td>\n",
              "      <td>NaN</td>\n",
              "      <td>Pacific Time (US &amp; Canada)</td>\n",
              "    </tr>\n",
              "  </tbody>\n",
              "</table>\n",
              "</div>"
            ],
            "text/plain": [
              "             tweet_id  ...               user_timezone\n",
              "0  570306133677760513  ...  Eastern Time (US & Canada)\n",
              "1  570301130888122368  ...  Pacific Time (US & Canada)\n",
              "2  570301083672813571  ...  Central Time (US & Canada)\n",
              "3  570301031407624196  ...  Pacific Time (US & Canada)\n",
              "4  570300817074462722  ...  Pacific Time (US & Canada)\n",
              "\n",
              "[5 rows x 15 columns]"
            ]
          },
          "metadata": {
            "tags": []
          },
          "execution_count": 3
        }
      ]
    },
    {
      "cell_type": "code",
      "metadata": {
        "id": "RtTLPnnOLdCn"
      },
      "source": [
        "message_req=message[message['airline_sentiment']!='neutral']"
      ],
      "execution_count": 4,
      "outputs": []
    },
    {
      "cell_type": "code",
      "metadata": {
        "colab": {
          "base_uri": "https://localhost:8080/",
          "height": 462
        },
        "id": "RW00JljTNBI6",
        "outputId": "d6f8c1a7-e2e2-40d3-a94d-839d1392e59e"
      },
      "source": [
        "message_req.head()"
      ],
      "execution_count": 5,
      "outputs": [
        {
          "output_type": "execute_result",
          "data": {
            "text/html": [
              "<div>\n",
              "<style scoped>\n",
              "    .dataframe tbody tr th:only-of-type {\n",
              "        vertical-align: middle;\n",
              "    }\n",
              "\n",
              "    .dataframe tbody tr th {\n",
              "        vertical-align: top;\n",
              "    }\n",
              "\n",
              "    .dataframe thead th {\n",
              "        text-align: right;\n",
              "    }\n",
              "</style>\n",
              "<table border=\"1\" class=\"dataframe\">\n",
              "  <thead>\n",
              "    <tr style=\"text-align: right;\">\n",
              "      <th></th>\n",
              "      <th>tweet_id</th>\n",
              "      <th>airline_sentiment</th>\n",
              "      <th>airline_sentiment_confidence</th>\n",
              "      <th>negativereason</th>\n",
              "      <th>negativereason_confidence</th>\n",
              "      <th>airline</th>\n",
              "      <th>airline_sentiment_gold</th>\n",
              "      <th>name</th>\n",
              "      <th>negativereason_gold</th>\n",
              "      <th>retweet_count</th>\n",
              "      <th>text</th>\n",
              "      <th>tweet_coord</th>\n",
              "      <th>tweet_created</th>\n",
              "      <th>tweet_location</th>\n",
              "      <th>user_timezone</th>\n",
              "    </tr>\n",
              "  </thead>\n",
              "  <tbody>\n",
              "    <tr>\n",
              "      <th>1</th>\n",
              "      <td>570301130888122368</td>\n",
              "      <td>positive</td>\n",
              "      <td>0.3486</td>\n",
              "      <td>NaN</td>\n",
              "      <td>0.0000</td>\n",
              "      <td>Virgin America</td>\n",
              "      <td>NaN</td>\n",
              "      <td>jnardino</td>\n",
              "      <td>NaN</td>\n",
              "      <td>0</td>\n",
              "      <td>@VirginAmerica plus you've added commercials t...</td>\n",
              "      <td>NaN</td>\n",
              "      <td>2015-02-24 11:15:59 -0800</td>\n",
              "      <td>NaN</td>\n",
              "      <td>Pacific Time (US &amp; Canada)</td>\n",
              "    </tr>\n",
              "    <tr>\n",
              "      <th>3</th>\n",
              "      <td>570301031407624196</td>\n",
              "      <td>negative</td>\n",
              "      <td>1.0000</td>\n",
              "      <td>Bad Flight</td>\n",
              "      <td>0.7033</td>\n",
              "      <td>Virgin America</td>\n",
              "      <td>NaN</td>\n",
              "      <td>jnardino</td>\n",
              "      <td>NaN</td>\n",
              "      <td>0</td>\n",
              "      <td>@VirginAmerica it's really aggressive to blast...</td>\n",
              "      <td>NaN</td>\n",
              "      <td>2015-02-24 11:15:36 -0800</td>\n",
              "      <td>NaN</td>\n",
              "      <td>Pacific Time (US &amp; Canada)</td>\n",
              "    </tr>\n",
              "    <tr>\n",
              "      <th>4</th>\n",
              "      <td>570300817074462722</td>\n",
              "      <td>negative</td>\n",
              "      <td>1.0000</td>\n",
              "      <td>Can't Tell</td>\n",
              "      <td>1.0000</td>\n",
              "      <td>Virgin America</td>\n",
              "      <td>NaN</td>\n",
              "      <td>jnardino</td>\n",
              "      <td>NaN</td>\n",
              "      <td>0</td>\n",
              "      <td>@VirginAmerica and it's a really big bad thing...</td>\n",
              "      <td>NaN</td>\n",
              "      <td>2015-02-24 11:14:45 -0800</td>\n",
              "      <td>NaN</td>\n",
              "      <td>Pacific Time (US &amp; Canada)</td>\n",
              "    </tr>\n",
              "    <tr>\n",
              "      <th>5</th>\n",
              "      <td>570300767074181121</td>\n",
              "      <td>negative</td>\n",
              "      <td>1.0000</td>\n",
              "      <td>Can't Tell</td>\n",
              "      <td>0.6842</td>\n",
              "      <td>Virgin America</td>\n",
              "      <td>NaN</td>\n",
              "      <td>jnardino</td>\n",
              "      <td>NaN</td>\n",
              "      <td>0</td>\n",
              "      <td>@VirginAmerica seriously would pay $30 a fligh...</td>\n",
              "      <td>NaN</td>\n",
              "      <td>2015-02-24 11:14:33 -0800</td>\n",
              "      <td>NaN</td>\n",
              "      <td>Pacific Time (US &amp; Canada)</td>\n",
              "    </tr>\n",
              "    <tr>\n",
              "      <th>6</th>\n",
              "      <td>570300616901320704</td>\n",
              "      <td>positive</td>\n",
              "      <td>0.6745</td>\n",
              "      <td>NaN</td>\n",
              "      <td>0.0000</td>\n",
              "      <td>Virgin America</td>\n",
              "      <td>NaN</td>\n",
              "      <td>cjmcginnis</td>\n",
              "      <td>NaN</td>\n",
              "      <td>0</td>\n",
              "      <td>@VirginAmerica yes, nearly every time I fly VX...</td>\n",
              "      <td>NaN</td>\n",
              "      <td>2015-02-24 11:13:57 -0800</td>\n",
              "      <td>San Francisco CA</td>\n",
              "      <td>Pacific Time (US &amp; Canada)</td>\n",
              "    </tr>\n",
              "  </tbody>\n",
              "</table>\n",
              "</div>"
            ],
            "text/plain": [
              "             tweet_id  ...               user_timezone\n",
              "1  570301130888122368  ...  Pacific Time (US & Canada)\n",
              "3  570301031407624196  ...  Pacific Time (US & Canada)\n",
              "4  570300817074462722  ...  Pacific Time (US & Canada)\n",
              "5  570300767074181121  ...  Pacific Time (US & Canada)\n",
              "6  570300616901320704  ...  Pacific Time (US & Canada)\n",
              "\n",
              "[5 rows x 15 columns]"
            ]
          },
          "metadata": {
            "tags": []
          },
          "execution_count": 5
        }
      ]
    },
    {
      "cell_type": "code",
      "metadata": {
        "colab": {
          "base_uri": "https://localhost:8080/"
        },
        "id": "qFl_Qfh4NHG_",
        "outputId": "995e74ae-19a5-4224-b081-79b02a83ae80"
      },
      "source": [
        "message_req['negativereason'].fillna(\"Can't Tell\",inplace=True)"
      ],
      "execution_count": 6,
      "outputs": [
        {
          "output_type": "stream",
          "text": [
            "/usr/local/lib/python3.7/dist-packages/pandas/core/series.py:4536: SettingWithCopyWarning: \n",
            "A value is trying to be set on a copy of a slice from a DataFrame\n",
            "\n",
            "See the caveats in the documentation: https://pandas.pydata.org/pandas-docs/stable/user_guide/indexing.html#returning-a-view-versus-a-copy\n",
            "  downcast=downcast,\n"
          ],
          "name": "stderr"
        }
      ]
    },
    {
      "cell_type": "code",
      "metadata": {
        "colab": {
          "base_uri": "https://localhost:8080/",
          "height": 462
        },
        "id": "O7vz29DqNRfz",
        "outputId": "64f44b5d-46c3-4b2f-d5c7-93153e98bd0f"
      },
      "source": [
        "message_req.head()"
      ],
      "execution_count": 7,
      "outputs": [
        {
          "output_type": "execute_result",
          "data": {
            "text/html": [
              "<div>\n",
              "<style scoped>\n",
              "    .dataframe tbody tr th:only-of-type {\n",
              "        vertical-align: middle;\n",
              "    }\n",
              "\n",
              "    .dataframe tbody tr th {\n",
              "        vertical-align: top;\n",
              "    }\n",
              "\n",
              "    .dataframe thead th {\n",
              "        text-align: right;\n",
              "    }\n",
              "</style>\n",
              "<table border=\"1\" class=\"dataframe\">\n",
              "  <thead>\n",
              "    <tr style=\"text-align: right;\">\n",
              "      <th></th>\n",
              "      <th>tweet_id</th>\n",
              "      <th>airline_sentiment</th>\n",
              "      <th>airline_sentiment_confidence</th>\n",
              "      <th>negativereason</th>\n",
              "      <th>negativereason_confidence</th>\n",
              "      <th>airline</th>\n",
              "      <th>airline_sentiment_gold</th>\n",
              "      <th>name</th>\n",
              "      <th>negativereason_gold</th>\n",
              "      <th>retweet_count</th>\n",
              "      <th>text</th>\n",
              "      <th>tweet_coord</th>\n",
              "      <th>tweet_created</th>\n",
              "      <th>tweet_location</th>\n",
              "      <th>user_timezone</th>\n",
              "    </tr>\n",
              "  </thead>\n",
              "  <tbody>\n",
              "    <tr>\n",
              "      <th>1</th>\n",
              "      <td>570301130888122368</td>\n",
              "      <td>positive</td>\n",
              "      <td>0.3486</td>\n",
              "      <td>Can't Tell</td>\n",
              "      <td>0.0000</td>\n",
              "      <td>Virgin America</td>\n",
              "      <td>NaN</td>\n",
              "      <td>jnardino</td>\n",
              "      <td>NaN</td>\n",
              "      <td>0</td>\n",
              "      <td>@VirginAmerica plus you've added commercials t...</td>\n",
              "      <td>NaN</td>\n",
              "      <td>2015-02-24 11:15:59 -0800</td>\n",
              "      <td>NaN</td>\n",
              "      <td>Pacific Time (US &amp; Canada)</td>\n",
              "    </tr>\n",
              "    <tr>\n",
              "      <th>3</th>\n",
              "      <td>570301031407624196</td>\n",
              "      <td>negative</td>\n",
              "      <td>1.0000</td>\n",
              "      <td>Bad Flight</td>\n",
              "      <td>0.7033</td>\n",
              "      <td>Virgin America</td>\n",
              "      <td>NaN</td>\n",
              "      <td>jnardino</td>\n",
              "      <td>NaN</td>\n",
              "      <td>0</td>\n",
              "      <td>@VirginAmerica it's really aggressive to blast...</td>\n",
              "      <td>NaN</td>\n",
              "      <td>2015-02-24 11:15:36 -0800</td>\n",
              "      <td>NaN</td>\n",
              "      <td>Pacific Time (US &amp; Canada)</td>\n",
              "    </tr>\n",
              "    <tr>\n",
              "      <th>4</th>\n",
              "      <td>570300817074462722</td>\n",
              "      <td>negative</td>\n",
              "      <td>1.0000</td>\n",
              "      <td>Can't Tell</td>\n",
              "      <td>1.0000</td>\n",
              "      <td>Virgin America</td>\n",
              "      <td>NaN</td>\n",
              "      <td>jnardino</td>\n",
              "      <td>NaN</td>\n",
              "      <td>0</td>\n",
              "      <td>@VirginAmerica and it's a really big bad thing...</td>\n",
              "      <td>NaN</td>\n",
              "      <td>2015-02-24 11:14:45 -0800</td>\n",
              "      <td>NaN</td>\n",
              "      <td>Pacific Time (US &amp; Canada)</td>\n",
              "    </tr>\n",
              "    <tr>\n",
              "      <th>5</th>\n",
              "      <td>570300767074181121</td>\n",
              "      <td>negative</td>\n",
              "      <td>1.0000</td>\n",
              "      <td>Can't Tell</td>\n",
              "      <td>0.6842</td>\n",
              "      <td>Virgin America</td>\n",
              "      <td>NaN</td>\n",
              "      <td>jnardino</td>\n",
              "      <td>NaN</td>\n",
              "      <td>0</td>\n",
              "      <td>@VirginAmerica seriously would pay $30 a fligh...</td>\n",
              "      <td>NaN</td>\n",
              "      <td>2015-02-24 11:14:33 -0800</td>\n",
              "      <td>NaN</td>\n",
              "      <td>Pacific Time (US &amp; Canada)</td>\n",
              "    </tr>\n",
              "    <tr>\n",
              "      <th>6</th>\n",
              "      <td>570300616901320704</td>\n",
              "      <td>positive</td>\n",
              "      <td>0.6745</td>\n",
              "      <td>Can't Tell</td>\n",
              "      <td>0.0000</td>\n",
              "      <td>Virgin America</td>\n",
              "      <td>NaN</td>\n",
              "      <td>cjmcginnis</td>\n",
              "      <td>NaN</td>\n",
              "      <td>0</td>\n",
              "      <td>@VirginAmerica yes, nearly every time I fly VX...</td>\n",
              "      <td>NaN</td>\n",
              "      <td>2015-02-24 11:13:57 -0800</td>\n",
              "      <td>San Francisco CA</td>\n",
              "      <td>Pacific Time (US &amp; Canada)</td>\n",
              "    </tr>\n",
              "  </tbody>\n",
              "</table>\n",
              "</div>"
            ],
            "text/plain": [
              "             tweet_id  ...               user_timezone\n",
              "1  570301130888122368  ...  Pacific Time (US & Canada)\n",
              "3  570301031407624196  ...  Pacific Time (US & Canada)\n",
              "4  570300817074462722  ...  Pacific Time (US & Canada)\n",
              "5  570300767074181121  ...  Pacific Time (US & Canada)\n",
              "6  570300616901320704  ...  Pacific Time (US & Canada)\n",
              "\n",
              "[5 rows x 15 columns]"
            ]
          },
          "metadata": {
            "tags": []
          },
          "execution_count": 7
        }
      ]
    },
    {
      "cell_type": "code",
      "metadata": {
        "colab": {
          "base_uri": "https://localhost:8080/"
        },
        "id": "5mFoXmoSP7Jn",
        "outputId": "52559ce1-9b77-48b9-fd89-fac566d776a2"
      },
      "source": [
        "message_req['sentiment']=message_req['airline_sentiment'].apply(lambda x : 1 if x=='positive' else 0)"
      ],
      "execution_count": 8,
      "outputs": [
        {
          "output_type": "stream",
          "text": [
            "/usr/local/lib/python3.7/dist-packages/ipykernel_launcher.py:1: SettingWithCopyWarning: \n",
            "A value is trying to be set on a copy of a slice from a DataFrame.\n",
            "Try using .loc[row_indexer,col_indexer] = value instead\n",
            "\n",
            "See the caveats in the documentation: https://pandas.pydata.org/pandas-docs/stable/user_guide/indexing.html#returning-a-view-versus-a-copy\n",
            "  \"\"\"Entry point for launching an IPython kernel.\n"
          ],
          "name": "stderr"
        }
      ]
    },
    {
      "cell_type": "code",
      "metadata": {
        "colab": {
          "base_uri": "https://localhost:8080/",
          "height": 564
        },
        "id": "xa2fp11mTAuk",
        "outputId": "35426dc0-db36-4141-f6db-64dbb0a0b200"
      },
      "source": [
        "message_req['length']=message_req['text'].apply(len)\n",
        "message_req.head()"
      ],
      "execution_count": 9,
      "outputs": [
        {
          "output_type": "stream",
          "text": [
            "/usr/local/lib/python3.7/dist-packages/ipykernel_launcher.py:1: SettingWithCopyWarning: \n",
            "A value is trying to be set on a copy of a slice from a DataFrame.\n",
            "Try using .loc[row_indexer,col_indexer] = value instead\n",
            "\n",
            "See the caveats in the documentation: https://pandas.pydata.org/pandas-docs/stable/user_guide/indexing.html#returning-a-view-versus-a-copy\n",
            "  \"\"\"Entry point for launching an IPython kernel.\n"
          ],
          "name": "stderr"
        },
        {
          "output_type": "execute_result",
          "data": {
            "text/html": [
              "<div>\n",
              "<style scoped>\n",
              "    .dataframe tbody tr th:only-of-type {\n",
              "        vertical-align: middle;\n",
              "    }\n",
              "\n",
              "    .dataframe tbody tr th {\n",
              "        vertical-align: top;\n",
              "    }\n",
              "\n",
              "    .dataframe thead th {\n",
              "        text-align: right;\n",
              "    }\n",
              "</style>\n",
              "<table border=\"1\" class=\"dataframe\">\n",
              "  <thead>\n",
              "    <tr style=\"text-align: right;\">\n",
              "      <th></th>\n",
              "      <th>tweet_id</th>\n",
              "      <th>airline_sentiment</th>\n",
              "      <th>airline_sentiment_confidence</th>\n",
              "      <th>negativereason</th>\n",
              "      <th>negativereason_confidence</th>\n",
              "      <th>airline</th>\n",
              "      <th>airline_sentiment_gold</th>\n",
              "      <th>name</th>\n",
              "      <th>negativereason_gold</th>\n",
              "      <th>retweet_count</th>\n",
              "      <th>text</th>\n",
              "      <th>tweet_coord</th>\n",
              "      <th>tweet_created</th>\n",
              "      <th>tweet_location</th>\n",
              "      <th>user_timezone</th>\n",
              "      <th>sentiment</th>\n",
              "      <th>length</th>\n",
              "    </tr>\n",
              "  </thead>\n",
              "  <tbody>\n",
              "    <tr>\n",
              "      <th>1</th>\n",
              "      <td>570301130888122368</td>\n",
              "      <td>positive</td>\n",
              "      <td>0.3486</td>\n",
              "      <td>Can't Tell</td>\n",
              "      <td>0.0000</td>\n",
              "      <td>Virgin America</td>\n",
              "      <td>NaN</td>\n",
              "      <td>jnardino</td>\n",
              "      <td>NaN</td>\n",
              "      <td>0</td>\n",
              "      <td>@VirginAmerica plus you've added commercials t...</td>\n",
              "      <td>NaN</td>\n",
              "      <td>2015-02-24 11:15:59 -0800</td>\n",
              "      <td>NaN</td>\n",
              "      <td>Pacific Time (US &amp; Canada)</td>\n",
              "      <td>1</td>\n",
              "      <td>72</td>\n",
              "    </tr>\n",
              "    <tr>\n",
              "      <th>3</th>\n",
              "      <td>570301031407624196</td>\n",
              "      <td>negative</td>\n",
              "      <td>1.0000</td>\n",
              "      <td>Bad Flight</td>\n",
              "      <td>0.7033</td>\n",
              "      <td>Virgin America</td>\n",
              "      <td>NaN</td>\n",
              "      <td>jnardino</td>\n",
              "      <td>NaN</td>\n",
              "      <td>0</td>\n",
              "      <td>@VirginAmerica it's really aggressive to blast...</td>\n",
              "      <td>NaN</td>\n",
              "      <td>2015-02-24 11:15:36 -0800</td>\n",
              "      <td>NaN</td>\n",
              "      <td>Pacific Time (US &amp; Canada)</td>\n",
              "      <td>0</td>\n",
              "      <td>126</td>\n",
              "    </tr>\n",
              "    <tr>\n",
              "      <th>4</th>\n",
              "      <td>570300817074462722</td>\n",
              "      <td>negative</td>\n",
              "      <td>1.0000</td>\n",
              "      <td>Can't Tell</td>\n",
              "      <td>1.0000</td>\n",
              "      <td>Virgin America</td>\n",
              "      <td>NaN</td>\n",
              "      <td>jnardino</td>\n",
              "      <td>NaN</td>\n",
              "      <td>0</td>\n",
              "      <td>@VirginAmerica and it's a really big bad thing...</td>\n",
              "      <td>NaN</td>\n",
              "      <td>2015-02-24 11:14:45 -0800</td>\n",
              "      <td>NaN</td>\n",
              "      <td>Pacific Time (US &amp; Canada)</td>\n",
              "      <td>0</td>\n",
              "      <td>55</td>\n",
              "    </tr>\n",
              "    <tr>\n",
              "      <th>5</th>\n",
              "      <td>570300767074181121</td>\n",
              "      <td>negative</td>\n",
              "      <td>1.0000</td>\n",
              "      <td>Can't Tell</td>\n",
              "      <td>0.6842</td>\n",
              "      <td>Virgin America</td>\n",
              "      <td>NaN</td>\n",
              "      <td>jnardino</td>\n",
              "      <td>NaN</td>\n",
              "      <td>0</td>\n",
              "      <td>@VirginAmerica seriously would pay $30 a fligh...</td>\n",
              "      <td>NaN</td>\n",
              "      <td>2015-02-24 11:14:33 -0800</td>\n",
              "      <td>NaN</td>\n",
              "      <td>Pacific Time (US &amp; Canada)</td>\n",
              "      <td>0</td>\n",
              "      <td>135</td>\n",
              "    </tr>\n",
              "    <tr>\n",
              "      <th>6</th>\n",
              "      <td>570300616901320704</td>\n",
              "      <td>positive</td>\n",
              "      <td>0.6745</td>\n",
              "      <td>Can't Tell</td>\n",
              "      <td>0.0000</td>\n",
              "      <td>Virgin America</td>\n",
              "      <td>NaN</td>\n",
              "      <td>cjmcginnis</td>\n",
              "      <td>NaN</td>\n",
              "      <td>0</td>\n",
              "      <td>@VirginAmerica yes, nearly every time I fly VX...</td>\n",
              "      <td>NaN</td>\n",
              "      <td>2015-02-24 11:13:57 -0800</td>\n",
              "      <td>San Francisco CA</td>\n",
              "      <td>Pacific Time (US &amp; Canada)</td>\n",
              "      <td>1</td>\n",
              "      <td>79</td>\n",
              "    </tr>\n",
              "  </tbody>\n",
              "</table>\n",
              "</div>"
            ],
            "text/plain": [
              "             tweet_id airline_sentiment  ...  sentiment length\n",
              "1  570301130888122368          positive  ...          1     72\n",
              "3  570301031407624196          negative  ...          0    126\n",
              "4  570300817074462722          negative  ...          0     55\n",
              "5  570300767074181121          negative  ...          0    135\n",
              "6  570300616901320704          positive  ...          1     79\n",
              "\n",
              "[5 rows x 17 columns]"
            ]
          },
          "metadata": {
            "tags": []
          },
          "execution_count": 9
        }
      ]
    },
    {
      "cell_type": "code",
      "metadata": {
        "colab": {
          "base_uri": "https://localhost:8080/"
        },
        "id": "HWnpyeu2OKza",
        "outputId": "16a08631-fa32-49f0-ca38-e940351bfd49"
      },
      "source": [
        "import nltk\n",
        "nltk.download('stopwords')"
      ],
      "execution_count": 10,
      "outputs": [
        {
          "output_type": "stream",
          "text": [
            "[nltk_data] Downloading package stopwords to /root/nltk_data...\n",
            "[nltk_data]   Package stopwords is already up-to-date!\n"
          ],
          "name": "stdout"
        },
        {
          "output_type": "execute_result",
          "data": {
            "text/plain": [
              "True"
            ]
          },
          "metadata": {
            "tags": []
          },
          "execution_count": 10
        }
      ]
    },
    {
      "cell_type": "code",
      "metadata": {
        "id": "w24V4DaPSr_x"
      },
      "source": [
        "import string\n",
        "from nltk.corpus import stopwords"
      ],
      "execution_count": 11,
      "outputs": []
    },
    {
      "cell_type": "code",
      "metadata": {
        "colab": {
          "base_uri": "https://localhost:8080/"
        },
        "id": "f9pFgYpDStdk",
        "outputId": "3520783e-4245-4c2d-9ab2-d8b1eef13ce3"
      },
      "source": [
        "stopwords.words('english')"
      ],
      "execution_count": 12,
      "outputs": [
        {
          "output_type": "execute_result",
          "data": {
            "text/plain": [
              "['i',\n",
              " 'me',\n",
              " 'my',\n",
              " 'myself',\n",
              " 'we',\n",
              " 'our',\n",
              " 'ours',\n",
              " 'ourselves',\n",
              " 'you',\n",
              " \"you're\",\n",
              " \"you've\",\n",
              " \"you'll\",\n",
              " \"you'd\",\n",
              " 'your',\n",
              " 'yours',\n",
              " 'yourself',\n",
              " 'yourselves',\n",
              " 'he',\n",
              " 'him',\n",
              " 'his',\n",
              " 'himself',\n",
              " 'she',\n",
              " \"she's\",\n",
              " 'her',\n",
              " 'hers',\n",
              " 'herself',\n",
              " 'it',\n",
              " \"it's\",\n",
              " 'its',\n",
              " 'itself',\n",
              " 'they',\n",
              " 'them',\n",
              " 'their',\n",
              " 'theirs',\n",
              " 'themselves',\n",
              " 'what',\n",
              " 'which',\n",
              " 'who',\n",
              " 'whom',\n",
              " 'this',\n",
              " 'that',\n",
              " \"that'll\",\n",
              " 'these',\n",
              " 'those',\n",
              " 'am',\n",
              " 'is',\n",
              " 'are',\n",
              " 'was',\n",
              " 'were',\n",
              " 'be',\n",
              " 'been',\n",
              " 'being',\n",
              " 'have',\n",
              " 'has',\n",
              " 'had',\n",
              " 'having',\n",
              " 'do',\n",
              " 'does',\n",
              " 'did',\n",
              " 'doing',\n",
              " 'a',\n",
              " 'an',\n",
              " 'the',\n",
              " 'and',\n",
              " 'but',\n",
              " 'if',\n",
              " 'or',\n",
              " 'because',\n",
              " 'as',\n",
              " 'until',\n",
              " 'while',\n",
              " 'of',\n",
              " 'at',\n",
              " 'by',\n",
              " 'for',\n",
              " 'with',\n",
              " 'about',\n",
              " 'against',\n",
              " 'between',\n",
              " 'into',\n",
              " 'through',\n",
              " 'during',\n",
              " 'before',\n",
              " 'after',\n",
              " 'above',\n",
              " 'below',\n",
              " 'to',\n",
              " 'from',\n",
              " 'up',\n",
              " 'down',\n",
              " 'in',\n",
              " 'out',\n",
              " 'on',\n",
              " 'off',\n",
              " 'over',\n",
              " 'under',\n",
              " 'again',\n",
              " 'further',\n",
              " 'then',\n",
              " 'once',\n",
              " 'here',\n",
              " 'there',\n",
              " 'when',\n",
              " 'where',\n",
              " 'why',\n",
              " 'how',\n",
              " 'all',\n",
              " 'any',\n",
              " 'both',\n",
              " 'each',\n",
              " 'few',\n",
              " 'more',\n",
              " 'most',\n",
              " 'other',\n",
              " 'some',\n",
              " 'such',\n",
              " 'no',\n",
              " 'nor',\n",
              " 'not',\n",
              " 'only',\n",
              " 'own',\n",
              " 'same',\n",
              " 'so',\n",
              " 'than',\n",
              " 'too',\n",
              " 'very',\n",
              " 's',\n",
              " 't',\n",
              " 'can',\n",
              " 'will',\n",
              " 'just',\n",
              " 'don',\n",
              " \"don't\",\n",
              " 'should',\n",
              " \"should've\",\n",
              " 'now',\n",
              " 'd',\n",
              " 'll',\n",
              " 'm',\n",
              " 'o',\n",
              " 're',\n",
              " 've',\n",
              " 'y',\n",
              " 'ain',\n",
              " 'aren',\n",
              " \"aren't\",\n",
              " 'couldn',\n",
              " \"couldn't\",\n",
              " 'didn',\n",
              " \"didn't\",\n",
              " 'doesn',\n",
              " \"doesn't\",\n",
              " 'hadn',\n",
              " \"hadn't\",\n",
              " 'hasn',\n",
              " \"hasn't\",\n",
              " 'haven',\n",
              " \"haven't\",\n",
              " 'isn',\n",
              " \"isn't\",\n",
              " 'ma',\n",
              " 'mightn',\n",
              " \"mightn't\",\n",
              " 'mustn',\n",
              " \"mustn't\",\n",
              " 'needn',\n",
              " \"needn't\",\n",
              " 'shan',\n",
              " \"shan't\",\n",
              " 'shouldn',\n",
              " \"shouldn't\",\n",
              " 'wasn',\n",
              " \"wasn't\",\n",
              " 'weren',\n",
              " \"weren't\",\n",
              " 'won',\n",
              " \"won't\",\n",
              " 'wouldn',\n",
              " \"wouldn't\"]"
            ]
          },
          "metadata": {
            "tags": []
          },
          "execution_count": 12
        }
      ]
    },
    {
      "cell_type": "code",
      "metadata": {
        "colab": {
          "base_uri": "https://localhost:8080/"
        },
        "id": "mSgZxWFmSumy",
        "outputId": "81f6d12f-47b1-4da4-a4e6-dae3fffe1a79"
      },
      "source": [
        "[punc for punc in string.punctuation]"
      ],
      "execution_count": 13,
      "outputs": [
        {
          "output_type": "execute_result",
          "data": {
            "text/plain": [
              "['!',\n",
              " '\"',\n",
              " '#',\n",
              " '$',\n",
              " '%',\n",
              " '&',\n",
              " \"'\",\n",
              " '(',\n",
              " ')',\n",
              " '*',\n",
              " '+',\n",
              " ',',\n",
              " '-',\n",
              " '.',\n",
              " '/',\n",
              " ':',\n",
              " ';',\n",
              " '<',\n",
              " '=',\n",
              " '>',\n",
              " '?',\n",
              " '@',\n",
              " '[',\n",
              " '\\\\',\n",
              " ']',\n",
              " '^',\n",
              " '_',\n",
              " '`',\n",
              " '{',\n",
              " '|',\n",
              " '}',\n",
              " '~']"
            ]
          },
          "metadata": {
            "tags": []
          },
          "execution_count": 13
        }
      ]
    },
    {
      "cell_type": "code",
      "metadata": {
        "id": "0a_LdUc3Sx22"
      },
      "source": [
        "def text_process(msg):\n",
        "    nopunc =[char for char in msg if char not in string.punctuation]\n",
        "    nopunc=''.join(nopunc)\n",
        "    return ' '.join([word for word in nopunc.split() if word.lower() not in stopwords.words('english')])"
      ],
      "execution_count": 14,
      "outputs": []
    },
    {
      "cell_type": "code",
      "metadata": {
        "colab": {
          "base_uri": "https://localhost:8080/"
        },
        "id": "Cw14gX6MS4R3",
        "outputId": "0279a0e7-bb51-4373-f958-19ac26f914e8"
      },
      "source": [
        "message_req['tokenised_message']=message_req['text'].apply(text_process)"
      ],
      "execution_count": 15,
      "outputs": [
        {
          "output_type": "stream",
          "text": [
            "/usr/local/lib/python3.7/dist-packages/ipykernel_launcher.py:1: SettingWithCopyWarning: \n",
            "A value is trying to be set on a copy of a slice from a DataFrame.\n",
            "Try using .loc[row_indexer,col_indexer] = value instead\n",
            "\n",
            "See the caveats in the documentation: https://pandas.pydata.org/pandas-docs/stable/user_guide/indexing.html#returning-a-view-versus-a-copy\n",
            "  \"\"\"Entry point for launching an IPython kernel.\n"
          ],
          "name": "stderr"
        }
      ]
    },
    {
      "cell_type": "code",
      "metadata": {
        "colab": {
          "base_uri": "https://localhost:8080/",
          "height": 462
        },
        "id": "0UiRUqEwTpjC",
        "outputId": "7c81b0f0-5d10-4ffc-90ba-e6abda9cf8df"
      },
      "source": [
        "message_req.head()"
      ],
      "execution_count": 16,
      "outputs": [
        {
          "output_type": "execute_result",
          "data": {
            "text/html": [
              "<div>\n",
              "<style scoped>\n",
              "    .dataframe tbody tr th:only-of-type {\n",
              "        vertical-align: middle;\n",
              "    }\n",
              "\n",
              "    .dataframe tbody tr th {\n",
              "        vertical-align: top;\n",
              "    }\n",
              "\n",
              "    .dataframe thead th {\n",
              "        text-align: right;\n",
              "    }\n",
              "</style>\n",
              "<table border=\"1\" class=\"dataframe\">\n",
              "  <thead>\n",
              "    <tr style=\"text-align: right;\">\n",
              "      <th></th>\n",
              "      <th>tweet_id</th>\n",
              "      <th>airline_sentiment</th>\n",
              "      <th>airline_sentiment_confidence</th>\n",
              "      <th>negativereason</th>\n",
              "      <th>negativereason_confidence</th>\n",
              "      <th>airline</th>\n",
              "      <th>airline_sentiment_gold</th>\n",
              "      <th>name</th>\n",
              "      <th>negativereason_gold</th>\n",
              "      <th>retweet_count</th>\n",
              "      <th>text</th>\n",
              "      <th>tweet_coord</th>\n",
              "      <th>tweet_created</th>\n",
              "      <th>tweet_location</th>\n",
              "      <th>user_timezone</th>\n",
              "      <th>sentiment</th>\n",
              "      <th>length</th>\n",
              "      <th>tokenised_message</th>\n",
              "    </tr>\n",
              "  </thead>\n",
              "  <tbody>\n",
              "    <tr>\n",
              "      <th>1</th>\n",
              "      <td>570301130888122368</td>\n",
              "      <td>positive</td>\n",
              "      <td>0.3486</td>\n",
              "      <td>Can't Tell</td>\n",
              "      <td>0.0000</td>\n",
              "      <td>Virgin America</td>\n",
              "      <td>NaN</td>\n",
              "      <td>jnardino</td>\n",
              "      <td>NaN</td>\n",
              "      <td>0</td>\n",
              "      <td>@VirginAmerica plus you've added commercials t...</td>\n",
              "      <td>NaN</td>\n",
              "      <td>2015-02-24 11:15:59 -0800</td>\n",
              "      <td>NaN</td>\n",
              "      <td>Pacific Time (US &amp; Canada)</td>\n",
              "      <td>1</td>\n",
              "      <td>72</td>\n",
              "      <td>VirginAmerica plus youve added commercials exp...</td>\n",
              "    </tr>\n",
              "    <tr>\n",
              "      <th>3</th>\n",
              "      <td>570301031407624196</td>\n",
              "      <td>negative</td>\n",
              "      <td>1.0000</td>\n",
              "      <td>Bad Flight</td>\n",
              "      <td>0.7033</td>\n",
              "      <td>Virgin America</td>\n",
              "      <td>NaN</td>\n",
              "      <td>jnardino</td>\n",
              "      <td>NaN</td>\n",
              "      <td>0</td>\n",
              "      <td>@VirginAmerica it's really aggressive to blast...</td>\n",
              "      <td>NaN</td>\n",
              "      <td>2015-02-24 11:15:36 -0800</td>\n",
              "      <td>NaN</td>\n",
              "      <td>Pacific Time (US &amp; Canada)</td>\n",
              "      <td>0</td>\n",
              "      <td>126</td>\n",
              "      <td>VirginAmerica really aggressive blast obnoxiou...</td>\n",
              "    </tr>\n",
              "    <tr>\n",
              "      <th>4</th>\n",
              "      <td>570300817074462722</td>\n",
              "      <td>negative</td>\n",
              "      <td>1.0000</td>\n",
              "      <td>Can't Tell</td>\n",
              "      <td>1.0000</td>\n",
              "      <td>Virgin America</td>\n",
              "      <td>NaN</td>\n",
              "      <td>jnardino</td>\n",
              "      <td>NaN</td>\n",
              "      <td>0</td>\n",
              "      <td>@VirginAmerica and it's a really big bad thing...</td>\n",
              "      <td>NaN</td>\n",
              "      <td>2015-02-24 11:14:45 -0800</td>\n",
              "      <td>NaN</td>\n",
              "      <td>Pacific Time (US &amp; Canada)</td>\n",
              "      <td>0</td>\n",
              "      <td>55</td>\n",
              "      <td>VirginAmerica really big bad thing</td>\n",
              "    </tr>\n",
              "    <tr>\n",
              "      <th>5</th>\n",
              "      <td>570300767074181121</td>\n",
              "      <td>negative</td>\n",
              "      <td>1.0000</td>\n",
              "      <td>Can't Tell</td>\n",
              "      <td>0.6842</td>\n",
              "      <td>Virgin America</td>\n",
              "      <td>NaN</td>\n",
              "      <td>jnardino</td>\n",
              "      <td>NaN</td>\n",
              "      <td>0</td>\n",
              "      <td>@VirginAmerica seriously would pay $30 a fligh...</td>\n",
              "      <td>NaN</td>\n",
              "      <td>2015-02-24 11:14:33 -0800</td>\n",
              "      <td>NaN</td>\n",
              "      <td>Pacific Time (US &amp; Canada)</td>\n",
              "      <td>0</td>\n",
              "      <td>135</td>\n",
              "      <td>VirginAmerica seriously would pay 30 flight se...</td>\n",
              "    </tr>\n",
              "    <tr>\n",
              "      <th>6</th>\n",
              "      <td>570300616901320704</td>\n",
              "      <td>positive</td>\n",
              "      <td>0.6745</td>\n",
              "      <td>Can't Tell</td>\n",
              "      <td>0.0000</td>\n",
              "      <td>Virgin America</td>\n",
              "      <td>NaN</td>\n",
              "      <td>cjmcginnis</td>\n",
              "      <td>NaN</td>\n",
              "      <td>0</td>\n",
              "      <td>@VirginAmerica yes, nearly every time I fly VX...</td>\n",
              "      <td>NaN</td>\n",
              "      <td>2015-02-24 11:13:57 -0800</td>\n",
              "      <td>San Francisco CA</td>\n",
              "      <td>Pacific Time (US &amp; Canada)</td>\n",
              "      <td>1</td>\n",
              "      <td>79</td>\n",
              "      <td>VirginAmerica yes nearly every time fly VX “ea...</td>\n",
              "    </tr>\n",
              "  </tbody>\n",
              "</table>\n",
              "</div>"
            ],
            "text/plain": [
              "             tweet_id  ...                                  tokenised_message\n",
              "1  570301130888122368  ...  VirginAmerica plus youve added commercials exp...\n",
              "3  570301031407624196  ...  VirginAmerica really aggressive blast obnoxiou...\n",
              "4  570300817074462722  ...                 VirginAmerica really big bad thing\n",
              "5  570300767074181121  ...  VirginAmerica seriously would pay 30 flight se...\n",
              "6  570300616901320704  ...  VirginAmerica yes nearly every time fly VX “ea...\n",
              "\n",
              "[5 rows x 18 columns]"
            ]
          },
          "metadata": {
            "tags": []
          },
          "execution_count": 16
        }
      ]
    },
    {
      "cell_type": "code",
      "metadata": {
        "id": "p1QIvv3iTxeh"
      },
      "source": [
        "from sklearn.feature_extraction.text import CountVectorizer"
      ],
      "execution_count": 17,
      "outputs": []
    },
    {
      "cell_type": "code",
      "metadata": {
        "id": "xwbzOCYmT2vu"
      },
      "source": [
        "vectorizer = CountVectorizer()\n",
        "X = vectorizer.fit_transform(message_req['tokenised_message'])"
      ],
      "execution_count": 18,
      "outputs": []
    },
    {
      "cell_type": "code",
      "metadata": {
        "colab": {
          "base_uri": "https://localhost:8080/"
        },
        "id": "bWgE63QRT8MS",
        "outputId": "a822a09d-2bda-4409-a1f4-39614138b00c"
      },
      "source": [
        "print(vectorizer.get_feature_names())"
      ],
      "execution_count": 19,
      "outputs": [
        {
          "output_type": "stream",
          "text": [
            "['0016', '0162389030167', '0162424965446', '0162431184663', '0214', '021mbps', '022015', '0223', '02282015', '03', '0303', '03032015', '0316', '0372389047497', '0400', '0510', '0600', '0638', '0671', '0xjareds', '10', '100', '1000', '10000', '10000lbs', '1000p', '1000pm', '1001', '1001pm', '1002', '1005pm', '1007', '1007p', '100s', '101', '1010', '101030', '1014am', '1015', '1015am', '1019', '102', '1020', '1020pm', '1027', '1028', '103', '1030', '1030a', '1030pm', '1032', '1035', '1038', '1039', '104', '1045', '1045pm', '1046', '105', '1050', '1050am', '1051', '1051pm', '1055', '1055pm', '106', '1071', '1074', '1079871763', '1080', '1081', '1086', '108639', '1099', '10a', '10am', '10f', '10hour', '10hrs', '10m', '10min', '10mins', '10minute', '10p', '10pm', '10th', '10voucherwhatajoke', '10x', '10yr', '11', '110', '1100', '1100pm', '1101', '1106', '1108', '1109', '1110p', '1114', '1115', '1115p', '1117', '112', '1120', '1120am', '1121p', '1123', '1130', '1130a', '1130am', '1130pm', '1131', '1135', '1136', '1137', '1138', '1140', '1140am', '1142', '1145am', '1146', '1147', '115', '1150', '1150pm', '1151', '1152', '1155am', '1156', '1159', '1161', '117', '1170', '1171', '1172', '118', '1180', '1181', '11a', '11am', '11pm', '11th', '12', '120', '1200', '1200dont', '1208', '1212', '1213ewrlax', '1215', '1217', '1217pm', '1219', '122', '1220', '122322', '1225', '1226pm', '1228', '1229', '123', '1230', '1230am', '1240', '1242', '1245am', '1249', '125', '12500', '1254', '125k', '1261', '1265', '127', '1274', '1278', '128', '1285', '12888155964', '129', '12amsound', '12amtoday', '12b', '12h30am', '12pm', '12th', '13', '130', '1300', '13001885409', '13015', '130am', '130pm', '1316', '1318', '132', '1320oranything', '1326', '1337', '1338', '134', '1348', '135', '136', '138', '1384', '1389', '13cant', '13th', '14', '140', '1401', '1408', '140pm', '1415', '1416', '1418', '1427', '1449', '145', '145pm', '1463', '1472', '1491', '1491plane', '14am', '14hrs', '15', '150', '1500', '150000', '150202000419', '1503', '150am', '1510', '1514', '1518', '152', '152202', '1530', '1531', '1533', '1534', '1535', '154', '1547', '1553', '1557', '1558', '1562', '1565', '1568', '157', '1572', '1580', '1583', '1584', '1589', '159', '1591', '1599', '15hr', '15hrs', '15lb', '15min', '15mins', '15minsits', '15minutes', '15th', '15yr', '16', '160', '1600', '16000', '1601', '1605', '1610', '1612', '1613', '16132440', '1614', '1618', '162', '1620', '1623', '1625', '1627', '1629', '1632', '1636', '1641', '1642', '1644', '165', '1651', '1657', '1665', '167', '1672', '1679', '1680', '1684', '16866853', '1687', '1689', '1691', '16h', '16hr', '17', '170', '1700', '1701', '1702', '1703', '1706', '1707', '1708', '1712', '1715', '1729', '1735', '174', '1748', '175', '1750', '1758', '1769', '1773', '1776', '1777', '1786', '179', '1791', '1796', '1798', '17a', '17th', '18', '180', '1800', '18004337300', '1800iflyswa', '1801', '1802', '1808', '1818', '1820', '1826', '1831', '1836', '1838', '1839', '184', '1843', '1848', '1851', '1855', '1856', '1857', '1874get', '1875', '188', '1881', '1898', '1899', '18feb', '18hrs', '18th', '19', '1903', '1907', '1914', '1917', '1918', '1923', '1925', '1937', '1943', '195', '1951', '1970', '1971', '1997', '1999', '19b', '1a', '1am', '1amp2', '1at', '1b', '1f', '1h', '1h08', '1h40m', '1hour', '1hr', '1k', '1k2mm', '1ker', '1lesscustomer', '1m', '1mnth', '1other', '1perhr', '1person', '1pm', '1pm1015', '1st', '1stclass', '1sttimeflyer', '1the', '1thingafteranother', '1tix', '1way', '1world', '20', '200', '2000', '2007', '2009', '200pm', '200trip', '2010', '2011', '2012', '2014', '2015', '2016', '2017', '2020', '2022', '2023', '20288', '2030', '2031', '2033823312', '2034', '2046', '2053', '206', '2062', '2063', '2066', '2069', '2070', '20748', '2078', '2086', '209', '20hrs', '20k', '20l', '20min', '20mins', '20minute', '20minutes', '20th30th', '20years', '20yr', '21', '210', '2100', '2102', '210pm', '211', '21115', '2118', '2119', '211ord', '211pilot', '212', '2120', '21215', '213', '2133', '2139', '214', '2147251966', '215', '21515', '216', '2160', '2168', '217', '218', '219', '219221', '21feb15', '21l', '21st', '22', '220', '2202', '221', '2214', '2218', '222', '22214', '2222', '2224', '222i', '222mdw', '223', '224', '224227', '2244', '225', '2251', '2258', '226', '22614', '2275', '227just', '228', '2284', '229', '2293', '2298', '22nd', '23', '230', '2301', '2302', '230am', '2312', '2321', '2324', '2330', '2334', '2339', '23483499', '2350', '235pm', '236', '2373', '2390', '2396', '23rd', '24', '240', '240minute', '2416', '2417', '2424', '2426', '245', '245hrs', '2463', '2464', '247', '2470', '2488', '249', '24951170', '24h', '24hours', '24hr', '24hrs', '24th', '25', '250', '25000', '250pm', '25100', '2516', '253', '25367', '255', '2559', '256746438028', '259', '2595', '25a', '25bag', '25hours', '25hrs', '25m', '25min', '25mins', '25mn', '25oct', '25th', '25yrs', '26', '2601', '2646', '2672', '2692', '2696', '26min', '27', '27000', '2702', '2705', '275', '277', '27a', '27l', '28', '285', '2851', '28hrs', '29', '290', '293', '2934', '2954', '2955', '295lav', '296', '2962', '297', '298033455', '299', '29daystogo', '2a', '2am', '2ambut', '2b', '2bestfriends', '2check', '2chng', '2d', '2day', '2days', '2daysofhell', '2daysofunitedfailures', '2emailed', '2fails', '2go', '2h30m', '2hours', '2hourwaitsucks', '2hr', '2hr15min', '2hr30', '2hr30min', '2hrs', '2hrs35minonhold', '2k', '2k424j0', '2littlebirds', '2maro', '2min', '2morrow', '2nd', '2ndary', '2nite', '2nt', '2of2', '2oz', '2plains', '2pm', '2rent', '2rsw', '2wks', '2x', '2xday', '2xmost', '2yo', '2yr', '30', '300', '3000', '30000ft', '300am', '300rt', '300s', '304', '304min', '305', '3056', '305pm', '3060', '307', '3075', '3076', '3078', '30k', '30min', '30mins', '30th', '30timesenough', '31', '310', '3104', '3113', '312', '3121', '3130', '31317', '3138', '315', '317', '32', '320', '3200', '322', '3231dtw', '324', '325', '3252', '33', '330', '330am', '330pm', '33115', '3322', '333', '3336', '3349', '335', '3359', '336', '3367', '337', '338', '3389', '3397', '33for', '34', '340', '3415', '343', '3444', '3466', '348', '3487', '3494', '35', '350', '35000', '350pm', '3511', '354', '355', '355pm', '356', '3574', '358', '3586', '3589', '359', '35a', '35hrs', '35x', '36', '360', '3611', '3618', '362', '36min', '37', '37000ft', '3709', '3710', '372', '3739', '375', '3750', '3751', '3763', '3797', '37d', '38', '380', '381', '3818', '382', '3825', '3837', '384', '3841', '386', '3866', '3867', '3870', '3875', '3883', '38950', '38e', '39', '390', '3913', '3933', '3935', '395', '3960', '3970', '3999', '3a', '3am', '3d', '3days', '3hourdelay', '3hours', '3hr', '3hr30min', '3hrdelay', '3hrs', '3min', '3months', '3pm', '3rd', '3rdtimethishashappened', '3thparty', '3x', '3xs', '3yr', '3yroldtwins', '40', '400', '40000', '4007', '4009', '400a', '400ticket', '400we', '4011', '4016', '4016688561', '402', '4028', '403', '404', '4040', '4047', '405', '4050', '4053', '408', '409', '4097', '40k', '40min', '40mins', '40th', '410', '411', '4110', '411541715', '4124', '4125', '413', '4146', '415', '4158', '416', '41715', '4179', '417pm', '419', '4199', '41cgqueen', '41g', '41min', '42', '4200', '4210', '4223', '4229', '423', '4232', '424', '42415', '4251', '4275', '4278', '428', '4284322', '4285', '4297', '43', '430', '430am', '433', '4333', '4348', '435', '436', '4369', '437', '4386', '43rd', '44', '440', '44000', '440pm', '441', '4411', '4420', '442998', '4435', '4438', '4439', '443min', '4443', '4443we', '445', '4454', '445pm', '4461', '4465', '4471', '4473', '4478', '4487', '449', '4491', '44stocker', '45', '450', '4500', '4524', '4532', '454', '455', '4553', '456', '4565', '4567', '457', '4595', '45min', '45minflight', '45minhour', '45mins', '45minutes', '46', '460', '4603', '4606', '4609', '463', '464', '4649', '4651', '4663', '46hrs', '46min', '46mins', '47', '470', '471', '472', '4720', '475', '4781', '479', '48', '4827', '4828', '4840', '48413', '486', '489', '48hrs', '49', '4914', '493', '494', '495', '496', '4968', '4972', '4994', '49min', '4am', '4c', '4daysampapologise', '4geiger', '4h2m', '4helped', '4hr', '4hrs', '4me', '4minute', '4pm', '4th', '4ward', '4x', '4yr', '50', '500', '5000', '50000', '5001', '5012', '5015', '502', '504', '505', '5077', '5080', '5097', '50hrs', '50k', '50lbs', '50m', '50min', '50minssss', '50th', '51', '5102newflight', '510pm', '512', '5136', '5137', '513mph', '514', '5141', '5163', '5182', '5187', '518758', '519', '52', '5202', '5203', '521', '522', '5237', '5238', '526', '5268', '528', '5283', '529557', '53', '530', '5302', '533', '5347', '5350', '539', '5396', '54', '540pm', '5418', '544pm', '545', '547', '5491', '55', '550', '551', '5534', '5545', '5547', '555', '5559', '556', '558', '559', '559pm', '55hrs', '55min', '55mins', '56', '561', '5612', '5639', '5644', '5653', '56680', '57', '5721', '574', '577', '578', '58', '580815', '581', '584', '587701925count', '589', '58pm', '59', '5903', '5957', '597', '5979', '599', '5am', '5ammisery', '5h2m', '5hours', '5hourwait', '5hr', '5hrs', '5hs', '5lbs', '5minute', '5pm', '5th', '60', '600', '6000', '600am', '600mph', '601', '603', '604', '605', '606', '607', '60min', '60th', '610362749899', '610pm', '611', '614', '615', '616', '6166', '6170', '6176533040', '618', '619', '62', '620', '620still', '6212massive', '622', '623', '6232', '623544', '625', '628', '630', '630a', '630am', '633', '634', '635', '636', '6373', '6377', '639', '639p', '64', '640', '644', '645', '6457', '647', '6475', '648', '6491', '65', '6500', '65000', '651', '653', '654', '655but', '655pm', '656xx', '65hr', '6600', '666', '667', '668', '669', '67', '670', '672', '673', '676', '68', '680', '683', '686', '689', '69', '691', '695', '699', '6a', '6am', '6amstuck', '6delays', '6f', '6hour', '6hr', '6hrs', '6in', '6mos', '6pm', '6so', '6th', '6wks', '6x', '6yearold', '6yo', '70', '700', '702', '703', '704', '705', '70min', '70oz', '70plus', '70s', '710', '711', '713', '715', '717', '719', '72', '721', '728', '728feb', '729', '72h', '73', '730', '730a', '730am', '730pmtold', '732', '734', '734pm', '736', '737', '737800', '737900s', '737s', '738', '74', '740', '7403607771', '740pm', '742', '744', '745', '746', '747', '747s', '75', '750', '7500', '750pm', '754pm', '755', '757300', '757s', '759', '75each', '75yo', '763', '767300', '768', '769', '77', '7700', '77620', '777', '77770', '779', '77min', '78', '787', '788', '79', '790', '791', '795', '799', '7a', '7am', '7d', '7day', '7f', '7hour', '7hours', '7hrs', '7min', '7pm', '7th', '7unnecessary', '80', '800', '8000', '8003352247', '8004284322', '8004337300', '800iflyswa', '800number', '80100', '805am', '806', '80s', '80th', '810', '813', '815', '816', '820', '820pm', '823', '825', '826', '8273993', '830', '830a', '830am', '830pm', '833', '834', '835', '837', '838', '841am', '845am', '8465981', '8473573', '8477733', '849s', '85', '850', '851ticket', '8544484', '855', '855pm', '85681', '857am', '858', '85832', '86', '863', '87', '878', '880', '883', '89', '890', '893', '894', '899', '89ish', '8am', '8c', '8d', '8found', '8h', '8hh4p2', '8hr', '8hrs', '8hrsampwaiting', '8pm', '8q6mfd', '8th', '8thtime5monthsold', '8uxzj2', '8x7xvm', '90', '900', '904', '904am', '905', '905am', '905pm', '906', '908', '90mins', '90s', '910', '912', '9148445695', '915', '917', '918', '919', '919pm', '920', '925', '930', '930a', '930am', '930pm', '94', '940pm', '947', '948', '95', '950', '950am', '950pm', '951pm', '952', '953', '955', '956', '958', '959', '96', '964012', '964077', '964078', '98', '989', '99', '992', '994', '9999999999', '9a', '9am', '9c', '9h', '9hour', '9hours', '9hr', '9hrs', '9news', '9newsbusiness', '9pm', '9year', '9º', 'a1', 'a18', 'a30', 'a319', 'a320', 'a320s', 'a330', 'a3zz0f', 'a4', 'a49', 'a60', 'a9', 'aa', 'aa104', 'aa106', 'aa1061', 'aa1103', 'aa111', 'aa1119', 'aa1224', 'aa1237', 'aa1344', 'aa138', 'aa1401', 'aa1457', 'aa1458', 'aa153', 'aa157', 'aa1657', 'aa1675', 'aa1679', 'aa1691', 'aa200', 'aa215', 'aa2227', 'aa223', 'aa2334', 'aa2401', 'aa2402', 'aa2416', 'aa2444', 'aa2450', 'aa291', 'aa2924', 'aa3031so', 'aa304', 'aa3181', 'aa3186', 'aa3195', 'aa3230', 'aa3390', 'aa3465', 'aa3490', 'aa362', 'aa363', 'aa3688', 'aa375', 'aa4285', 'aa45', 'aa504', 'aa5411', 'aa65', 'aa76', 'aa91', 'aa919', 'aa951', 'aa953', 'aa977', 'aaaand', 'aaadvantage', 'aacom', 'aacustomerservice', 'aadelay', 'aadfw', 'aadv', 'aadvantage', 'aafail', 'aal', 'aal65', 'aampc', 'aano', 'aaron', 'aarp', 'aas', 'aateam', 'aaus', 'ab', 'aback', 'abandon', 'abandoned', 'abandonment', 'abassinet', 'abc', 'abc11wtvd', 'abc7newsbayarea', 'abcletjetbluestreamfeed', 'abcnetwork', 'abcnetworks', 'abcnews', 'abcs', 'abidfw', 'abigailedge', 'abilities', 'ability', 'able', 'aboard', 'aboout', 'abounds', 'abq', 'abroad', 'absolute', 'absolutely', 'absorb', 'absorber', 'absurd', 'absurdity', 'abt', 'abundance', 'abuse', 'abused', 'abysmal', 'ac', 'acarl4hotmailcom', 'acc', 'accelerate', 'accept', 'acceptable', 'accepted', 'accepting', 'access', 'accessibility', 'accessible', 'accessing', 'accident', 'accidents', 'accomidating', 'accommodate', 'accommodated', 'accommodates', 'accommodating', 'accommodation', 'accommodations', 'accompaniments', 'accompany', 'accomplish', 'accomplished', 'according', 'accordingly', 'account', 'accountability', 'accountable', 'accounts', 'accrue', 'accruing', 'acct', 'acctits', 'accts', 'accurate', 'accurately', 'accuratetraveltimes', 'accused', 'achieve', 'achieving', 'ack', 'acknowledge', 'acknowledgement', 'acknowledgment', 'acnewsguy', 'acosta', 'acoustic', 'acpt', 'acquired', 'acquisition', 'across', 'act', 'acted', 'acting', 'actingoutmgmnt', 'action', 'actions', 'activate', 'activated', 'active', 'activealy', 'actively', 'activities', 'activity', 'acts', 'actual', 'actually', 'actualy', 'acy', 'ad', 'ada', 'adam', 'adams', 'add', 'added', 'adding', 'addition', 'additional', 'additionally', 'addr', 'address', 'addressed', 'addressing', 'addressusername', 'addtl', 'adjacent', 'adjusting', 'adjustment', 'adjustments', 'admin', 'admiral', 'admirals', 'admit', 'admitted', 'adopted', 'adopting', 'adore', 'ads', 'adv', 'advan', 'advance', 'advantage', 'adventure', 'advertise', 'advertised', 'advertising', 'advice', 'advis', 'advise', 'advised', 'advising', 'advisories', 'advisory', 'advisorynow', 'advisoryreally', 'advsry', 'aegeanairlines', 'aerocivilcol', 'aerojobmarket', 'af', 'affairs', 'affect', 'affected', 'affecting', 'affects', 'affiliate', 'affiliated', 'afford', 'affordable', 'aflame', 'aforementioned', 'afraid', 'african', 'aft', 'after2', 'afternoon', 'afterward', 'aftr', 'again', 'againestimated', 'againflying', 'againget', 'againlate', 'againlost', 'againto', 'age', 'agencies', 'agency', 'agent', 'agentbooked', 'agenti', 'agents', 'agentthen', 'ages', 'aggravated', 'aggravating', 'aggravation', 'aggressive', 'agianand', 'aging', 'agnt', 'ago', 'agovacationfail', 'agoyet', 'agree', 'agreement', 'agt', 'agtb', 'agts', 'ah', 'aha', 'ahah', 'ahead', 'ahem', 'ahhhh', 'ahhhhh', 'ahold', 'ahoy', 'aimed', 'aint', 'air', 'airat', 'airborne', 'airbus', 'airbus321seat14fproblems', 'aircanada', 'aircraft', 'aircraftrunways', 'aircrafts', 'aircrft', 'aired', 'aires', 'airfare', 'airfares', 'airline', 'airlineadviser', 'airlinegave', 'airlinehate', 'airlinehave', 'airlineive', 'airlinequality', 'airliner', 'airlines', 'airlinesecurity', 'airlinesyour', 'airmiles', 'airnzusa', 'airplane', 'airplanemodewason', 'airplanes', 'airport', 'airport2', 'airportcalledplease', 'airportcardio', 'airporthave', 'airportheld', 'airports', 'airportwide', 'airpt', 'airs', 'airserv', 'airsouthwest', 'airstairs', 'airtahitinui', 'airtran', 'airway', 'airways', 'ais', 'aisle', 'aisles', 'aka', 'akron', 'al', 'alabama', 'alamo', 'alan', 'alanbledsoe', 'alarm', 'alas', 'alaska', 'alaskaair', 'alavera', 'alb', 'albany', 'albanyairport', 'albeit', 'albums', 'albuquer', 'albuquerque', 'alcohol', 'alert', 'alerted', 'alerts', 'alex', 'alfamilyoffour', 'ali', 'alicia', 'alifestory', 'aligned', 'alison', 'alist', 'alistey', 'alistpreferred', 'alittlebetter', 'alive', 'all', 'allegiantair', 'allegianttravel', 'allergic', 'allergies', 'allergy', 'alleviate', 'allgood', 'alliance', 'allll', 'allow', 'allowabl', 'allowable', 'allowances', 'allowed', 'allowing', 'allows', 'allready', 'allrepresentativesbusy', 'alls', 'allyoucanjetpass', 'almost', 'alone', 'along', 'alot', 'already', 'alreadygot', 'alreadyrebookedonce', 'alright', 'als', 'also', 'alsonodrinkcartcomingaround', 'alsoyayforsnacks', 'alstdi', 'alt', 'alternate', 'alternative', 'alternatively', 'alternatives', 'although', 'altitude', 'altonbrownlive', 'always', 'alwaysdelayed', 'alwaysdelayedonunited', 'alwayshappensthere', 'alwayslate', 'alynewton', 'amagrino', 'amarillo', 'amateur', 'amateurish', 'amateurs', 'amazed', 'amazefor', 'amazing', 'amazingflightcrew', 'amazingly', 'amazings', 'ambassador', 'ambivalence', 'amend', 'amenities', 'america', 'american', 'americanair', 'americanaireveryone', 'americanairif', 'americanairlines', 'americanairlinesfail', 'americanairlnes', 'americanairother', 'americanairs', 'americanairstill', 'americanairsucks', 'americandairlinessucks', 'americanforlife', 'americanisbetter', 'americanone', 'americant', 'americanview', 'americas', 'amex', 'amexserve', 'ami', 'amid', 'amiga', 'amiltx3', 'amnt', 'among', 'amongst', 'amount', 'amounts', 'amp', 'amp250', 'ampamp', 'ampfeel', 'amponly', 'ampsock', 'ampwebsite', 'ams', 'amso', 'amsterdam', 'amt', 'amtrak', 'amy', 'amybruni', 'ana', 'analystdoc', 'anamarketers', 'anarchy', 'anchorage', 'andor', 'andrew', 'andrewbiga', 'andrewfallis', 'andrews', 'andrewwasila', 'android', 'andthewinneris', 'andyellwood', 'angel', 'angeles', 'angelo', 'angering', 'angriest', 'angry', 'angryairtravel', 'angryandsober', 'angrybird', 'angrycustomer', 'angrytraveler', 'angstiest', 'anhour', 'animal', 'animals', 'anku', 'ann', 'anna', 'annamarie', 'annettenaif', 'anni', 'anniversary', 'annnndddd', 'annnnddddd', 'annnnnd', 'announce', 'announced', 'announcement', 'announcementno', 'announcements', 'announcer', 'announces', 'announcing', 'annoyed', 'annoying', 'annricord', 'annual', 'another', 'anotherdisappointment', 'anotherfail', 'ans', 'answer', 'answered', 'answering', 'answeringdont', 'answerphone', 'answers', 'answersno', 'answerthephone', 'answerthis', 'ant', 'anthony', 'anticipate', 'anticipation', 'anticonsumer', 'antitrust', 'antonio', 'anxiety', 'anxious', 'any', 'any1', 'anybody', 'anyhelp', 'anymore', 'anyone', 'anyone40min', 'anyones', 'anythin', 'anything', 'anythingjust', 'anytime', 'anyway', 'anywhere', 'aok', 'ap', 'apart', 'apathetic', 'apathy', 'apeared', 'api', 'apollochplayers', 'apologies', 'apologise', 'apologize', 'apologized', 'apologizes', 'apologizing', 'apology', 'apology25', 'apostrophe', 'apostrophefail', 'app', 'appalled', 'appalling', 'apparent', 'apparently', 'appealing', 'appear', 'appeared', 'appears', 'appease', 'applaud', 'applauded', 'applause', 'apple', 'applepay', 'appleton', 'applicable', 'application', 'applied', 'apply', 'applying', 'appointed', 'appointment', 'appointments', 'appreciate', 'appreciated', 'appreciates', 'appreciation', 'approach', 'approaching', 'appropriate', 'appropriately', 'appropriation', 'approproately', 'approvals', 'approve', 'approved', 'approx', 'approximate', 'approximately', 'apps', 'april', 'apron', 'apt', 'apx', 'aquadilla', 'ar', 'arbitrarily', 'arbitrary', 'archaic', 'area', 'arehis', 'aren', 'arent', 'ares', 'argentina', 'argentinaclaiming', 'argg', 'argh', 'argue', 'argued', 'argueing', 'arguing', 'argument', 'arizona', 'arkansas', 'arminrosen', 'armrest', 'arms', 'army', 'arose', 'around', 'arpt', 'arranged', 'arrangement', 'arrangements', 'arrival', 'arrivals', 'arrive', 'arrived', 'arrives', 'arriving', 'arrogant', 'art', 'article', 'artisanal', 'artluggage', 'aruba', 'aruna', 'arvls', 'asap', 'ase', 'ase24766m', 'asgmnt', 'asha', 'ashamed', 'ashevilleair', 'ashley', 'ashleykatherton', 'asia', 'aside', 'ask', 'asked', 'asking', 'askpaypal', 'asks', 'asleep', 'aspen', 'aspenbaggagefail', 'ass', 'assaulted', 'assed', 'asses', 'asset', 'assets', 'asshole', 'assholes', 'assign', 'assigned', 'assignment', 'assignments', 'assist', 'assistance', 'assistanceyou', 'assistants', 'assisted', 'assisting', 'associated', 'assuage', 'assult', 'assume', 'assuming', 'assurance', 'assurances', 'assure', 'assured', 'assuring', 'astoria', 'astounded', 'astounding', 'astounds', 'at', 'atc', 'atgate', 'ath', 'athlete', 'athletes', 'atl', 'atlanta', 'atlantic', 'atlaus', 'atleast', 'atlhou', 'atlno', 'atlord', 'atrocious', 'att', 'attached', 'attackingbabymomma', 'attdt', 'attempt', 'attempted', 'attempting', 'attempts', 'attend', 'attendant', 'attendanteliz', 'attendants', 'attendanttrue', 'attended', 'attendees', 'attendent', 'attendents', 'attending', 'attention', 'attentive', 'attentiveness', 'attire', 'attitude', 'attitudeissues', 'attitudes', 'attitudycustomer', 'attndt', 'atx', 'au1066', 'auciello', 'auckland', 'auction', 'audience', 'audio', 'audition', 'auf', 'aug', 'august', 'auh', 'aumilo1', 'aunties', 'aunts', 'aurorabiz', 'aus', 'auscun', 'austic', 'austin', 'austinbergstrom', 'australia', 'austrian', 'authoritative', 'authority', 'authorize', 'authors', 'auto', 'automated', 'automatic', 'automatically', 'automobiles', 'autorebooked', 'autoreflight', 'autoresponse', 'av8b', 'avail', 'availab', 'availability', 'available', 'availableyour', 'avalible', 'avduffy', 'avenue', 'average', 'averaging', 'averted', 'avgeek', 'aviation', 'avis', 'aviv', 'avoid', 'avoidable', 'avoided', 'avoiding', 'aw', 'await', 'awaiting', 'awake', 'award', 'awards', 'aware', 'away', 'awayhere', 'awaynow', 'awaywhy', 'awe', 'awe1701', 'aweful', 'awesome', 'awesomebright', 'awesomeee', 'awesomeness', 'awful', 'awfulcustomerservice', 'awfully', 'awfulness', 'awheelchair', 'awhile', 'awkward', 'awol', 'aww', 'awww', 'awwweesssooomee', 'ay', 'aye', 'az', 'b1', 'b11', 'b12', 'b13', 'b15', 'b16', 'b18', 'b36a', 'b4', 'b40', 'b44', 'b46', 'b6', 'b737800w', 'b738', 'b8', 'b91', 'ba', 'babies', 'baby', 'babyfood', 'bach', 'bachelorpartymishap', 'back', 'backanother', 'backattempt', 'backed', 'backend', 'backended', 'backfas', 'backhome', 'backing', 'backlog', 'backpack', 'backroads', 'backs', 'backtodelta', 'backtowinter', 'backup', 'backwards', 'backyard', 'bad', 'bad4business', 'badairline', 'badbadbad', 'badbusiness', 'badbussiness', 'badcustomerexperience', 'badcustomerservice', 'badcustomersrvice', 'bademployeeproblem', 'badge', 'badges', 'badly', 'badmaybe', 'badmgmt', 'badpolicy', 'badservice', 'badwebsite', 'bae', 'bag', 'bagage', 'bagawim', 'bagcould', 'bagdisgutedindenver', 'baggage', 'baggagedrama', 'baggagefail', 'baggagefind', 'baggageissues', 'baggagelost', 'baggageridiculous', 'baggages', 'bagits', 'bags', 'bagsflyfree', 'bagsflyfreebutnotwithme', 'bagsno', 'bagswhich', 'bagtag', 'bagyet', 'bahamas', 'bailed', 'bailey', 'bait', 'baitampswitch', 'baitandswitch', 'baked', 'baking', 'balance', 'balancing', 'baldordash', 'ball', 'ballbag', 'balloons', 'balls', 'ballsturn', 'balt', 'baltimore', 'banana', 'band', 'bandwidth', 'bangkok', 'bank', 'bankrupt', 'bankruptcies', 'banned', 'banning', 'bar', 'barbados', 'barbara', 'barclaycardus', 'barclays', 'barcodes', 'barely', 'barelyexpired', 'barking', 'barklays', 'barnum', 'barrel', 'barrettkarabis', 'barrier', 'barriers', 'base', 'based', 'bashing', 'basic', 'basically', 'basics', 'basket', 'basketball', 'bass', 'bastards', 'bathroom', 'bathrooms', 'batman', 'batteries', 'battery', 'battierccipuppy', 'batting', 'battles', 'bausa', 'bay', 'bayespecially', 'bbbmedia', 'bbbnesdksia', 'bc', 'bcn', 'bcs', 'bcz', 'bd', 'bday', 'bdindallas', 'bdl', 'bdldca', 'bdng', 'bdsm', 'be', 'be4', 'beach', 'beamske', 'beanie', 'beans', 'beantownmatty', 'bearable', 'beat', 'beating', 'beatriz', 'beats', 'beatsmusic', 'beatstheothers', 'beautiful', 'beautifull', 'beautifully', 'beauty', 'bebetter', 'bec', 'became', 'becky', 'become', 'becomes', 'becoming', 'becuase', 'becuz', 'bed', 'bedofroses', 'beefjerky', 'been3hours', 'beer', 'beers', 'befor', 'beforeafter', 'beg', 'began', 'begging', 'begin', 'beginning', 'begins', 'begrudgingly', 'begun', 'behalf', 'behave', 'behaves', 'behavior', 'behind', 'bein', 'beingsuckontarmacsucks', 'belabor', 'belief', 'believable', 'believe', 'believing', 'belize', 'bellagio', 'belligerent', 'belong', 'belongings', 'beloved', 'belt', 'belti', 'belttoolong', 'ben', 'bench', 'beneficial', 'benefit', 'benefits', 'benes', 'benjaminokeefe', 'beought', 'bereavement', 'bergstrom', 'bernhardtjh', 'bershawnjackson', 'besides', 'best', 'bestairline', 'bestairlineever', 'bestdressed', 'bestemployees', 'bestflightever', 'bestinclass', 'besty', 'bet', 'betch', 'bethonors', 'bets', 'betsy', 'better', 'betterfrom', 'betterother', 'betting', 'betty', 'beverage', 'beverages', 'bevies', 'beware', 'bewhat', 'beyond', 'bf', 'bff', 'bffs', 'bfs', 'bg', 'bgm', 'bgr', 'bgr1061', 'bham', 'bhm', 'biceps', 'bicycle', 'bicycles', 'big', 'bigger', 'biggest', 'biggie', 'bike', 'bikes', 'bill', 'billed', 'billing', 'billions', 'bills', 'bin', 'bingo', 'bins', 'bio', 'bird', 'birder', 'birmingham', 'birth', 'birthday', 'births', 'biscuits', 'bish', 'bit', 'bitch', 'bitchslapped', 'bitchy', 'bitcoin', 'bites', 'bitty', 'biz', 'bizarre', 'bk', 'bked', 'bkk', 'black', 'blacked', 'blackhistorymonth', 'blacklist', 'blacklivesmatter', 'blackmailed', 'blah', 'blame', 'blamed', 'blames', 'blameshiftoverload', 'blaming', 'blank', 'blankets', 'blast', 'blasting', 'blatant', 'blatantly', 'blatimore', 'blegh', 'bleh', 'bless', 'blessed', 'blew', 'blind', 'blindsided', 'blizzard', 'blizzue', 'bloated', 'block', 'blocked', 'blocking', 'blog', 'bloody', 'bloodymary', 'blowing', 'blown', 'blows', 'blue', 'blueblackish', 'bluecarpet', 'blueheros', 'bluemanity', 'bluetiful', 'blushing', 'bmi', 'bna', 'bnardu', 'bng', 'board', 'boarddeplane', 'boarded', 'boarding', 'boards', 'boat', 'boatstyle', 'bobbi', 'bobwesson', 'body', 'boeing', 'boeingairplanes', 'boggling', 'bogota', 'bohnjai', 'boiled', 'boise', 'bold', 'boldflavors', 'bom', 'bone', 'bonnie', 'bonsinthesky', 'bonus', 'bonuses', 'boo', 'boofin', 'book', 'bookable', 'booked', 'bookin', 'booking', 'booklet', 'bookofnegroes', 'books', 'bool', 'boom', 'boooo', 'booster', 'booted', 'boots', 'booze', 'boozefood', 'bops', 'border', 'borderline', 'bored', 'born', 'borrow', 'bos', 'bosclt', 'bosdca', 'bosfll', 'bosgtjfk', 'boslas', 'bosmco', 'bosnia', 'boson', 'bosphl', 'boss', 'bossan', 'bossf', 'bossju', 'boston', 'bostonbbb', 'bostondenver', 'bostongarden', 'bostonlogan', 'bot', 'botched', 'bother', 'bothered', 'bots', 'bottle', 'bottles', 'bottom', 'bought', 'bougth', 'bounce', 'bounced', 'bouncer', 'bounces', 'bound', 'bourbon', 'bout', 'box', 'boy', 'boycott', 'boyfriend', 'boyfriends', 'boys', 'bozos', 'bqn', 'bqonpa', 'bracket', 'bradleyairport', 'brag', 'bragged', 'bragging', 'brain', 'brancato', 'brand', 'brandi', 'branding', 'brandloveaffair', 'brandmance', 'brands', 'brandssayingbae', 'branson', 'brave', 'braved', 'braving', 'bravo', 'brazil', 'brd', 'breach', 'bread', 'break', 'breakdown', 'breaker', 'breakfast', 'breaking', 'breaks', 'breakup', 'breast', 'breastfeeding', 'breath', 'breathe', 'breathing', 'breeze', 'breezy', 'brendan', 'brendanpshannon', 'brent', 'bretharold', 'brewcrewfan8', 'brian', 'brianregancomic', 'bride', 'bridesmaid', 'bridge', 'bridges', 'bridgewaitingforbagsunitedewr', 'briefings', 'bright', 'brighter', 'brilliant', 'bring', 'bringbackrealstaff', 'bringbacktheluvtordu', 'bringin', 'bringing', 'bringyourown', 'britishairways', 'brittany', 'brittanyobx11', 'brizzyberg27', 'bro', 'broad', 'broinlaw', 'broke', 'broken', 'brokeni', 'brokenpromises', 'brokenstolen', 'brokenwheel', 'brooklyn', 'brotha', 'brothaaaaaa', 'brother', 'brothers', 'brought', 'brownsville', 'browser', 'browsers', 'bruh', 'brush', 'brushing', 'brussels', 'brutal', 'bs', 'bshave', 'bso', 'bsuxlu', 'bt', 'btr', 'bttr', 'btv', 'btw', 'btwn', 'bubbly', 'buck', 'bucks', 'buddies', 'buddy', 'budget', 'budweiserduels', 'bueno', 'buenos', 'buf', 'bufclt', 'buffalo', 'buffaloairport', 'buffaloniagara', 'bug', 'bugging', 'buggy', 'build', 'building', 'built', 'buisness', 'bulb', 'bulkhead', 'bull', 'bullshit', 'bully', 'bullying', 'bummed', 'bummer', 'bump', 'bumped', 'bumper', 'bumphigh', 'bumping', 'bums', 'bunch', 'bundle', 'bundleup', 'bur', 'burbank', 'burden', 'burger', 'burlington', 'burn', 'burned', 'burning', 'burningman', 'burroughs', 'burst', 'bus', 'buses', 'bush', 'bushleague', 'busiest', 'business', 'businessfirst', 'businessso', 'businesstravel', 'businesstrip', 'bussey', 'bussines', 'busted', 'busy', 'but', 'butnot', 'butt', 'button', 'buy', 'buybacks', 'buyer', 'buying', 'buys', 'buytransfer', 'buzz', 'buzzkill', 'bwahahaha', 'bwi', 'bwiand', 'bwibos', 'bwiboston', 'bwiewrmco', 'bwilax', 'bwisjd', 'bwood', 'bye', 'byebyejetblue', 'byebyeusairline', 'byod', 'bypass', 'bze', 'c11', 'c130', 'c14', 'c16', 'c17', 'c19', 'c22', 'c25', 'c26', 'c29', 'c2next', 'c38', 'c4', 'c47', 'c68ld9', 'c9', 'ca', 'cab', 'cabin', 'cabine', 'cabinfever', 'cabins', 'cableinternet', 'cabo', 'cabs', 'cac', 'cache', 'caching', 'cae', 'caexhibitions', 'cafe', 'caffeine', 'cake', 'calamity', 'calderon', 'calendar', 'calgary', 'cali', 'calibrated', 'california', 'call', 'callback', 'callbacks', 'callbackthe', 'callbag', 'callcentre', 'called', 'callemail', 'caller', 'callers', 'callguys', 'callif', 'calling', 'callings', 'callmestanley7', 'callnow', 'callplan', 'calls', 'callwhats', 'calming', 'calves', 'came', 'camera', 'cameragear', 'cameras', 'cameronroe', 'camp', 'campilley', 'can', 'cana', 'canada', 'canadaair', 'canadian', 'canadians', 'cancelled', 'cancer', 'cancld', 'cancun', 'candace', 'candy', 'caned', 'canned', 'cannedtweet', 'cannot', 'cant', 'cantblametheweather', 'canthurtasking', 'cantlike', 'cantlogoutofunitedwifi', 'canx', 'cap', 'capabilities', 'capability', 'capable', 'capacity', 'capeairs', 'capital', 'capitalized', 'capn', 'capt', 'captain', 'captive', 'captiveaudience', 'captured', 'car', 'card', 'cardholder', 'cards', 'care', 'cared', 'career', 'careers', 'careless', 'carerespond', 'cares', 'careyon', 'cargo', 'caribbean', 'caring', 'carlton', 'carlw1980', 'carmen', 'carol', 'carolina', 'caroline', 'carousel', 'carpet', 'carrier', 'carriers', 'carrieunderwood', 'carry', 'carrying', 'carryon', 'carryonbagssloweverybodydown', 'carryons', 'cars', 'carseat', 'carsl', 'cart', 'carta', 'cartagena', 'carts', 'case', 'cases', 'cash', 'casimir', 'casleah', 'casual', 'catch', 'catching', 'category', 'cater', 'catered', 'catering', 'caterobbie', 'cathay', 'cathaypacific', 'cathaypacificus', 'cats', 'catsanddogslivingtogether', 'cattle', 'cattle2slaughter', 'caught', 'cause', 'caused', 'causes', 'causing', 'cavalli', 'cavan', 'cave', 'cavs', 'caymanislands', 'cb', 'cbarrows', 'cbcallinaday', 'cbcnews', 'cbsnews', 'cbsphilly', 'cbssoxfan', 'cc', 'ccicanine', 'ccndjp', 'ccwhy', 'cdglas', 'ceases', 'celebrate', 'celebrating', 'celebration', 'cell', 'cellphone', 'cement', 'center', 'centers', 'centerworst', 'central', 'centre', 'centric', 'centricity', 'century', 'ceo', 'cert', 'certain', 'certainly', 'certificate', 'certificates', 'certs', 'cessnas', 'cesspool', 'cgjase', 'cgroup', 'cha', 'chain', 'chair', 'chairman', 'chairmanlove', 'chairmans', 'chairs', 'chalk', 'challemann', 'challenge', 'challenges', 'challenging', 'champagne', 'championship', 'chance', 'chances', 'change', 'changed', 'changemassive', 'changes', 'changing', 'channel', 'channels', 'chaos', 'chaotic', 'chaperone', 'chapman', 'char', 'charac', 'character', 'characterize', 'characters', 'charge', 'charged', 'chargersclothescoatcontact', 'charges', 'chargesi', 'charging', 'charity', 'charles', 'charleston', 'charlestonvery', 'charlote', 'charlotte', 'charm', 'chart', 'charter', 'chartering', 'chase', 'chasing', 'chat', 'chathes', 'chats', 'chatted', 'chatting', 'cheap', 'cheap1', 'cheaper', 'cheapflights', 'cheapoairchat', 'cheapslogannotmotto', 'cheat', 'cheatcustomers', 'cheated', 'check', 'checkbaggage', 'checked', 'checkers', 'checkin', 'checkinbag', 'checkinbut', 'checking', 'checkinout', 'checkins', 'checkout', 'checkouterror', 'checkpoint', 'checks', 'cheer', 'cheers', 'cheertymedad', 'cheerupdates', 'cheese', 'cheesy', 'cheeze', 'chemistry', 'cheque', 'cherry', 'chewey', 'chg', 'chgd', 'chge', 'chi', 'chiberia', 'chibuf', 'chicago', 'chicagomidway', 'chicagos', 'chicagosmayor', 'chicagothanks', 'chicagotribune', 'chicken', 'chickenidiot', 'chief', 'child', 'childish', 'children', 'childridiculous', 'childs', 'chill', 'chillpill', 'chillycvz', 'chimid', 'china', 'chinese', 'chipper', 'chips', 'chitocle', 'chk', 'chkd', 'chkin', 'chking', 'chkout12flt5no', 'chkpreboardnotcomingback', 'chl', 'chmom', 'chnge', 'cho', 'chocked', 'chocolate', 'choice', 'choices', 'choose', 'choosechicago', 'choosekind', 'choosing', 'choppiest', 'chose', 'chosen', 'christine', 'christinebpc', 'christmas', 'chrome', 'chronological', 'chrysichrysic', 'chs', 'chuckhole', 'churchmouse', 'churn', 'cigarettes', 'cinci', 'cincinnati', 'cincy', 'cincyjust', 'cinedrones', 'cinnabon', 'cinnabons', 'cinziannap', 'circle', 'circles', 'circling', 'circuit', 'circulation', 'circumstances', 'ciscojimfrench', 'cistudios', 'citi', 'cities', 'citing', 'citizen', 'city', 'citynot', 'citystrangeand', 'civilized', 'cjdjpdx', 'ckin', 'claim', 'claimed', 'claiming', 'claims', 'clarence', 'clarification', 'clarify', 'clarifying', 'clarion', 'clarkey19', 'class', 'classed', 'classes', 'classic', 'classics', 'classiq', 'classwrite', 'classy', 'claudia', 'claudoakeshott', 'cld', 'cldnt', 'cle', 'clean', 'cleaned', 'cleaning', 'cleanliness', 'clear', 'clearance', 'cleared', 'clearing', 'clearly', 'clesfo', 'cleveland', 'clever', 'click', 'clicked', 'clicking', 'clicks', 'client', 'clientnothappy', 'clients', 'clifton', 'clincher', 'cling', 'cll', 'clockwork', 'close', 'closed', 'closepwcs', 'closer', 'closes', 'closest', 'closet', 'closings', 'closure', 'clothes', 'clothessuit', 'clothing', 'cloud', 'clouds', 'clown', 'clowns', 'cls', 'clt', 'cltbna', 'cltdouglas', 'cltgtsfo', 'cltnyc', 'club', 'clubs', 'clue', 'cluecould', 'clueless', 'clunky', 'cluster', 'clusterfucks', 'clutch', 'cmh', 'cmhiad', 'cmhoak', 'cmhord', 'cmon', 'cncdld', 'cnceld', 'cncld', 'cncled', 'cnn', 'cnnbrk', 'cnnmoney', 'cnx', 'cnxn', 'cnxns', 'co', 'coach', 'coached', 'coachgs', 'coast', 'coat', 'coathanging', 'coats', 'cobedien', 'cockpit', 'cockroaches', 'cocktail', 'cocktailor', 'cockup', 'code', 'coded', 'codeshare', 'codycleverly', 'coffee', 'coffeeat', 'coffeemaker', 'coffeeneeded', 'coffin', 'coin', 'coincidence', 'coke', 'cold', 'colder', 'coldly', 'coles', 'colleague', 'colleagues', 'collect', 'collection', 'collectively', 'college', 'colliding', 'colo', 'colombian', 'color', 'colored', 'colors', 'colossal', 'coltsmissingbags', 'columbia', 'columbus', 'coma', 'combat', 'combative', 'combination', 'combined', 'combo', 'comcast', 'come', 'comedian', 'comedic', 'comedy', 'comenity', 'comeon', 'comeonpeople', 'comes', 'comethis', 'cometoaustin', 'comfort', 'comfortable', 'comfortably', 'comforting', 'comically', 'comin', 'coming', 'comm', 'command', 'commands', 'commence', 'commend', 'comment', 'commented', 'comments', 'commercial', 'commercials', 'commission', 'commit', 'commitment', 'commitments', 'committed', 'common', 'comms', 'communicate', 'communicated', 'communicateor', 'communicating', 'communication', 'communicationcompetition', 'communicationdetails', 'communicationfail', 'communicationiskey', 'communications', 'communist', 'community', 'commutation', 'commute', 'comp', 'companies', 'companion', 'companions', 'company', 'companyi', 'companys', 'comparable', 'compare', 'compared', 'compares', 'comparison', 'compassion', 'compassionate', 'compatible', 'compd', 'comped', 'compensate', 'compensated', 'compensates', 'compensating', 'compensation', 'compete', 'competent', 'competes', 'competing', 'competition', 'competitively', 'competitor', 'competitors', 'comping', 'complain', 'complained', 'complainer', 'complainers', 'complaining', 'complains', 'complaint', 'complaintquestions', 'complaints', 'complete', 'completed', 'completely', 'completing', 'complex', 'compliant', 'complicated', 'compliment', 'complimentary', 'complimentarybeveragesneeded', 'compliments', 'complt', 'compmech', 'compounded', 'compounding', 'comps', 'computer', 'computers', 'computersweredown', 'con', 'concentrate', 'concept', 'concern', 'concerned', 'concerning', 'concerns', 'concert', 'concierge', 'concourse', 'concrete', 'cond', 'condescending', 'condescension', 'condition', 'conditioning', 'conditions', 'condo', 'condolences', 'conection', 'conf', 'conference', 'conferencewe', 'conffgkxv5', 'confidence', 'confident', 'confirm', 'confirmation', 'confirmations', 'confirmed', 'confirmedso', 'confirming', 'conflict', 'conflicting', 'confrontational', 'confused', 'confuses', 'confusing', 'confusion', 'confusionno', 'congested', 'congrats', 'congratulation', 'congratulations', 'conjunction', 'conn', 'connect', 'connected', 'connectfor', 'connectin', 'connecting', 'connection', 'connectionand', 'connections', 'connectns', 'connector', 'connectors', 'connects', 'connetion', 'connex', 'connolly', 'consecutive', 'consider', 'considerable', 'considerably', 'considerate', 'consideration', 'considered', 'considering', 'consistency', 'consistent', 'consistently', 'consolation', 'consoled', 'constant', 'constantly', 'construction', 'constructive', 'consult', 'consultant', 'consumer', 'consumers', 'consumption', 'cont', 'contaced', 'contact', 'contactcej', 'contacted', 'contacting', 'contagious', 'contain', 'contains', 'contd', 'contempt', 'contend', 'content', 'contentmarketing', 'contents', 'contest', 'context', 'continental', 'continentalair1', 'continentalairlines', 'continentalunited', 'contingencies', 'contingency', 'continually', 'continue', 'continued', 'continues', 'continuesstill', 'continuing', 'continuous', 'contract', 'contractors', 'contributiontopool', 'control', 'controllable', 'controller', 'controllers', 'controllove', 'conv', 'convenience', 'convenient', 'conveniently', 'conversation', 'conversational', 'conversations', 'conversed', 'convey', 'conveyer', 'conveyor', 'convince', 'convinced', 'convo', 'cooker', 'cookie', 'cookies', 'cookjaycook123', 'cool', 'cooler', 'coordinate', 'cop', 'copa', 'copilot', 'copy', 'copypaste', 'corevalues', 'corner', 'corny', 'corp', 'corpgreed', 'corporate', 'corporation', 'correct', 'corrected', 'correctly', 'correctness', 'correlate', 'correspondence', 'corrupt', 'cory', 'corybronze', 'cos', 'coshared', 'cosmetic', 'cosmopolitan', 'cost', 'costa', 'costarica', 'costing', 'costs', 'costumer', 'costumers', 'costumerservice', 'costwhy', 'cot', 'cots', 'cough', 'could', 'couldn', 'couldnt', 'couldve', 'couldwanted', 'count', 'counted', 'counter', 'counterparts', 'counters', 'counting', 'countingphoto', 'countingthanks', 'countless', 'countries', 'country', 'counts', 'county', 'couple', 'coupled', 'coupon', 'coupons', 'couponsi', 'courier', 'courrier', 'course', 'court', 'courteous', 'courtesy', 'courtney', 'courtsey', 'cousin', 'cousins', 'cover', 'coverage', 'covered', 'covering', 'covert', 'cowardly', 'cowboycerrone', 'coworker', 'coworkers', 'cp', 'cpap', 'cr', 'crabby', 'crackerjack', 'crackers', 'craft', 'craftbeer', 'cramming', 'cramped', 'cranky', 'crap', 'crappiest', 'crappy', 'crash', 'crashed', 'crashedeverywhere', 'crashes', 'crashing', 'crated', 'craving', 'crawling', 'craziness', 'crazinessintherockies', 'crazy', 'crazybitch', 'cream', 'create', 'created', 'creates', 'creating', 'creative', 'credentials', 'credibility', 'credit', 'creditcardsales', 'credited', 'credits', 'creditwhats', 'crew', 'crewand', 'crewe', 'crewi', 'crewmember', 'crewmembers', 'crewnow', 'crews', 'crewsignage', 'crewtells', 'crickets', 'cried', 'criminal', 'crisis', 'criteria', 'criticism', 'crjs', 'crook', 'crooked', 'cross', 'crossbrowser', 'crossed', 'crossing', 'crosswinds', 'crosswords', 'crowd', 'crowded', 'crucial', 'cruel', 'cruise', 'crumbs', 'crummyservice', 'crutches', 'cry', 'crying', 'crystal', 'crâpe', 'cs', 'csfail', 'csm', 'csr', 'csrs', 'css', 'cst', 'cstmr', 'cstsvc', 'ct', 'cteam', 'ctl', 'ctr', 'cty', 'cuba', 'cud', 'cudtomers', 'cue', 'cultural', 'culture', 'cun', 'cup', 'cups', 'curb', 'curbside', 'curfew', 'curious', 'current', 'currently', 'currentlysittingontarmac', 'curse', 'curt', 'curtesy', 'curvygirltravels', 'cus', 'cushion', 'cushions', 'cushy', 'cussed', 'cust', 'custexp', 'customary', 'customer', 'customercant', 'customerexperience', 'customerfriendly', 'customerits', 'customerloyalty', 'customerrelationsaacom', 'customers', 'customerservice', 'customerservicefail', 'customerservicenot', 'customerservices', 'customerservicewin', 'customersfirst', 'customersshafted', 'customerstime', 'customersyou', 'customs', 'custs', 'custserv', 'custy', 'cut', 'cute', 'cutest', 'cutoff', 'cuts', 'cutting', 'cuz', 'cuzco', 'cvg', 'cx', 'cxd', 'cxed', 'cxl', 'cxld', 'cxldprotection', 'cxp', 'cyberattack', 'cycles', 'cyndi', 'czamkoff', 'd1mqf5', 'd4', 'dad', 'dadboner', 'daddy', 'daddyshome', 'dadeland', 'dadoralive', 'dads', 'daily', 'daipresident', 'dal', 'dalaus', 'daldca', 'dale', 'dallas', 'dallasnext', 'dallasraisenow', 'dalmdw', 'damage', 'damaged', 'damageluggage', 'damages', 'damion', 'damionflight4223', 'damn', 'damper', 'dan', 'danahajek', 'danbury', 'dance', 'dancing', 'dandy', 'dang', 'danger', 'dangerofgettingsnowedin', 'dangerous', 'dani', 'daniel', 'danihampton', 'danny', 'danroam', 'dare', 'dark', 'darn', 'darquenloveli', 'darrel', 'dart', 'dartmedia', 'daryl', 'data', 'date', 'dates', 'datetime', 'dating', 'datingrev', 'daughter', 'daughters', 'david', 'dawn', 'dawndavis', 'day', 'daycare', 'daydelayed', 'daydreaming', 'dayi', 'dayneed', 'daynot', 'dayreward', 'days', 'daysampcharging', 'daysand', 'daysinn', 'daysits', 'daysno', 'daysnone', 'daysnotahappytraveler', 'daysplans', 'daytona', 'dc', 'dc10', 'dca', 'dca48810m', 'dcabos', 'dcadsm', 'dcagthpn', 'dcamanual', 'dcapit', 'dcarsw', 'dcastl', 'dcazero', 'ddean', 'de', 'deactivate', 'deactivated', 'dead', 'deadhead', 'deaf', 'deal', 'dealing', 'dealings', 'deals', 'dealsmay', 'dealt', 'deane', 'dear', 'death', 'debacle', 'debating', 'deboards', 'deborah', 'dec', 'deceiving', 'december', 'decency', 'decent', 'deceptive', 'decide', 'decided', 'decides', 'deciding', 'decision', 'decisions', 'deck', 'declared', 'decline', 'declined', 'decorum', 'dedicated', 'dedication', 'deed', 'deedee', 'deep', 'deeply', 'def', 'defective', 'defend', 'deferring', 'defiantly', 'defibrillator', 'deficiency', 'define', 'defines', 'definitely', 'definition', 'definitive', 'degree', 'degrees', 'dehli', 'dehydrated', 'deice', 'deiced', 'deicing', 'del', 'delacy', 'delaney', 'delay', 'delayconsequence', 'delayed', 'delayedagainevery', 'delayedbecause', 'delayedcancelled', 'delayedconnection', 'delayedl', 'delayedno', 'delayednot', 'delayedstill', 'delayedthats', 'delayedwow', 'delayforwhat', 'delaygreatcustomerservice', 'delaying', 'delaykilling', 'delaymissed', 'delaypending', 'delays', 'delayshandling', 'delayua53', 'delete', 'deleted', 'delewr', 'delhi', 'deli', 'deliberate', 'delicious', 'delight', 'delighted', 'delightful', 'delinquent', 'deliver', 'delivered', 'deliveredhotel', 'delivering', 'delivery', 'delk', 'delongerry', 'delta', 'deltaassist', 'deltapoints', 'delyd', 'demanded', 'demanding', 'demo', 'demolish', 'demonstration', 'demoted', 'den', 'denairport', 'dencle', 'dendal', 'dendfw', 'denewr', 'dengtyeg', 'denied', 'denise', 'denisejtaylor', 'denphl', 'denphx', 'dentedmissing', 'denver', 'denverairport', 'denverboston', 'deny', 'deoderant', 'deodorant', 'dep', 'depart', 'departed', 'departing', 'department', 'departs', 'departure', 'departuredealing', 'departures', 'dependable', 'depending', 'deplane', 'deplaned', 'deplanes', 'deplaning', 'deplorable', 'depot', 'depressing', 'dept', 'derekc21', 'derrick', 'des', 'descending', 'descent', 'describe', 'describing', 'description', 'desert', 'deserve', 'deserved', 'deserves', 'design', 'designated', 'designed', 'designer', 'designs', 'desired', 'desition', 'desk', 'desks', 'desktop', 'desperately', 'despicable', 'despise', 'despite', 'dest', 'destfeel', 'destination', 'destinationdragon', 'destinationdragons', 'destinationrude', 'destinations', 'destroy', 'destroyed', 'destroying', 'detail', 'detailed', 'details', 'detailsno', 'detailsthat', 'detailsu', 'detective', 'detectors', 'deter', 'deteriorating', 'determined', 'detroit', 'devaluation', 'devalue', 'devalued', 'devastated', 'develop', 'developers', 'development', 'device', 'devices', 'devotedyyours', 'devs', 'dfpietra', 'dfw', 'dfwairport', 'dfwclt', 'dfwgtgtmke', 'dfwlax', 'dfwno', 'dgoodspeed', 'dgruber1700', 'dia', 'diabetic', 'dial', 'dialing', 'dialogue', 'dialup', 'diamond', 'diane', 'diapers', 'dice', 'dick', 'dickheads', 'dicks', 'dictionary', 'didflyfi', 'didn', 'didnt', 'die', 'died', 'diego', 'diehardvirgin', 'dietcoke', 'diff', 'differ', 'difference', 'different', 'differently', 'difficult', 'difficulties', 'difficultieswhat', 'difficulty', 'diffused', 'digging', 'digital', 'dignity', 'dilemma', 'diligent', 'dim', 'dime', 'diminishes', 'dimmed', 'ding', 'dining', 'dinner', 'dinosaurplane', 'dinosaurs', 'direct', 'directbag', 'directed', 'directflights', 'directing', 'direction', 'directional', 'directly', 'directtv', 'dirt', 'dirtiest', 'dirty', 'disability', 'disabled', 'disabledtraveler', 'disappear', 'disappeared', 'disappearing', 'disappears', 'disappoint', 'disappointed', 'disappointedunited', 'disappointing', 'disappointment', 'disappointments', 'disappointmentyet', 'disappoints', 'disapptment', 'disaster', 'disaster3345', 'disastrous', 'disbelief', 'disciplined', 'disclose', 'discnctany', 'discomfort', 'disconnect', 'disconnected', 'disconnectednew', 'disconnecting', 'disconnection', 'disconnections', 'disconnects', 'discontinue', 'discontinued', 'discount', 'discouraging', 'discourteous', 'discover', 'discovered', 'discrimination', 'discuss', 'discussing', 'disgrace', 'disgraceful', 'disgruntled', 'disguised', 'disgusted', 'disgusting', 'disheartening', 'dishonest', 'dishonoring', 'disinfectant', 'dislexia', 'dislike', 'dismissed', 'disney', 'disneyland', 'disneyprincesshalfmarathon', 'disneys', 'disneyworld', 'disorganised', 'disorganization', 'disorganized', 'dispatch', 'dispatcher', 'dispatchissue', 'displaced', 'display', 'displayed', 'displeased', 'displeasure', 'dispute', 'disputed', 'disregard', 'disrespect', 'disrespected', 'disrespectful', 'disrespectfully', 'disrupted', 'disruption', 'disruptions', 'dissapointed', 'dissapointing', 'dissapointment', 'dissaponted', 'dissatisfaction', 'dissatisfied', 'dissatisfiedthanks', 'disservice', 'disspointed', 'distance', 'distances', 'distress', 'distributor', 'disturb', 'disunited', 'disupdates', 'div', 'divadapouch', 'diverged', 'diversion', 'diversions', 'divert', 'diverted', 'diverting', 'dividend', 'dividendmiles', 'dividendrewards', 'dividends', 'dividendsmember', 'divident', 'dj', 'djevolutionhd', 'dl', 'dm', 'dmb41shows', 'dmcome', 'dmd', 'dmed', 'dming', 'dmoukdarath', 'dms', 'dmstill', 'dmv', 'dns', 'dnx58v', 'dobetter', 'dobetterjetblue', 'doc', 'doctors', 'document', 'documentation', 'doesn', 'doesnt', 'doesntfeellikestatusyet', 'dog', 'dogbuckeye', 'doi', 'doin', 'doke', 'doll', 'dollar', 'dollars', 'domestic', 'domingo', 'dominick', 'don', 'donaldaroberts1gmailcom', 'donation', 'done', 'donedeal', 'donkey', 'donna', 'donotflyusair', 'donotflywiththem', 'dons', 'dont', 'dontchangeathing', 'dontdothistome', 'dontflythem', 'dontflyusairways', 'donthavehighhopes', 'dontmakemebeg', 'dontmakemegooutside', 'donts', 'donut', 'donuts', 'doo', 'door', 'doorclose', 'dooronly', 'doors', 'doorstep', 'dope', 'dorm', 'dorns', 'dos', 'dosequis', 'dot', 'dothatd', 'dotnetnate', 'double', 'doublestandards', 'doubletriple', 'doubt', 'doubtful', 'doug', 'doumented', 'dounotwantmybusiness', 'downgrade', 'downgraded', 'downgrading', 'downhill', 'downhow', 'download', 'downmy', 'downnnnn', 'downright', 'downs', 'downstairs', 'downthanks', 'downtown', 'doyourjob', 'dozen', 'dozens', 'dpt', 'dpted', 'dr', 'draft', 'drag', 'dragons', 'drain', 'dramatically', 'dre', 'dreadful', 'dreading', 'dream', 'dreaming', 'dreamliner', 'dreampath', 'dreams', 'drenched', 'dresparkles', 'dress', 'drift', 'drink', 'drinker', 'drinks', 'drinksnack', 'drinkssnacks', 'drive', 'driven', 'driver', 'drivermissed', 'drives', 'driving', 'drone', 'drop', 'droped', 'dropped', 'droppeditoffyet', 'dropping', 'drops', 'drove', 'drunk', 'drunkpilots', 'drunks', 'drvrugby', 'dry', 'dsearls', 'dsm', 'dtv', 'dtw', 'duanenclark', 'dub', 'dubai', 'dublin', 'duck', 'ducttaped', 'dude', 'due', 'duecto', 'duffle', 'duh', 'dulles', 'dullesairport', 'dullessucks', 'dulleswashington', 'dulleswe', 'dultch97', 'dumas2ttg', 'dumb', 'dump', 'dumped', 'dumping', 'dungeon', 'dunkin', 'dunno', 'duped', 'durango', 'dust', 'dustyob', 'duty', 'dvr', 'dvt', 'dwell', 'dying', 'e190', 'e36', 'e9', 'ea', 'eager', 'eagle', 'ear', 'earlier', 'earlieror', 'earliest', 'early', 'earlybird', 'earlybirdmeansnothing', 'earlyconnecting', 'earlyon', 'earn', 'earned', 'earnedmybusiness', 'earning', 'earnings', 'earphone', 'earrings', 'earth', 'ease', 'easier', 'easiest', 'easily', 'east', 'easter', 'eastern', 'easy', 'eat', 'eaten', 'eatgregeat', 'eating', 'eatup', 'eb', 'ebhset', 'ecertificate', 'eco', 'econ', 'economic', 'economy', 'edge', 'edgy', 'edinburgh', 'edplotts', 'edreamsen', 'educate', 'education', 'ees', 'effective', 'efficencies', 'efficiency', 'efficient', 'efficiently', 'effin', 'effing', 'effort', 'effortless', 'efforts', 'ege', 'egregious', 'eh', 'eight', 'either', 'ejacqui', 'el', 'elaborate', 'elbows', 'elderly', 'elected', 'electrical', 'electronic', 'electronics', 'eleonora7', 'elevate', 'elevategold', 'elevatethey', 'elevator', 'eligible', 'elingeniero', 'elise', 'elite', 'eliz', 'eliza', 'elizabeth', 'ella', 'ellahenderson', 'ellamae', 'ellas', 'elm', 'elmira', 'elp', 'elpaso', 'els', 'else', 'elses', 'elsewhere', 'elwoodblues77', 'em', 'email', 'emailcall', 'emailed', 'emailing', 'emailingcallingdming', 'emailmailtocustomerrelationsusairwayscom', 'emails', 'emailscalls', 'emailtext', 'emailtextphone', 'emaleesugano', 'emb145', 'embarrassed', 'embarrassing', 'embarrassment', 'embassy', 'embody', 'embossed', 'emer', 'emerald', 'emerg', 'emergencies', 'emergency', 'emeyerson', 'emily', 'emilylyonss', 'emmaclifford', 'emotional', 'emp', 'empathetic', 'empathize', 'empathizes', 'empathy', 'emphasize', 'empl', 'employ', 'employee', 'employeefaceless', 'employeerelations', 'employees', 'employeeslack', 'employeeworking', 'emptied', 'empty', 'emrey35', 'ems', 'emv', 'emxlyy', 'en', 'encounter', 'encountered', 'encourage', 'encouraged', 'encouragement', 'end', 'ended', 'ending', 'endless', 'endlessly', 'ends', 'enemy', 'energy', 'enforce', 'enforcement', 'enforcing', 'engadget', 'engagement', 'engagements', 'engaging', 'engine', 'engineer', 'english', 'englishspanish', 'enhance', 'enjoy', 'enjoyable', 'enjoyed', 'enjoying', 'enormous', 'enough', 'enoughisenough', 'enraging', 'enroute', 'ensued', 'ensure', 'ensured', 'ensuring', 'enter', 'entered', 'entering', 'enters', 'entertain', 'entertained', 'entertaining', 'entertainment', 'entertainmnt', 'entire', 'entirely', 'entitled', 'entree', 'entrees', 'entrusted', 'entry', 'enuf', 'environment', 'envoy', 'envoys', 'eom', 'eould', 'ep', 'epic', 'epicfail', 'epicfailunited', 'epicfailure', 'epitimeoffail', 'eps', 'eqp', 'equal', 'equality', 'equalizer', 'equally', 'equals', 'equip', 'equipment', 'equipped', 'equivalent', 'erased', 'eri', 'erie', 'erieairport', 'eriewr', 'eriord', 'erj145', 'ernievigil', 'err', 'erring', 'error', 'errored', 'erroring', 'errors', 'ers', 'erw', 'es', 'escalate', 'escape', 'escaping', 'escorted', 'esp', 'especially', 'espinosa', 'espncoachmack', 'essence', 'essential', 'essentially', 'essentials', 'est', 'est4', 'established', 'estimate', 'estimated', 'estplatinumeventually', 'et', 'eta', 'etc', 'etd', 'eternal', 'eternity', 'ethan', 'ethics', 'eticket', 'etihad', 'etiquette', 'eu', 'europe', 'evacuated', 'evaluate', 'evasive', 'even', 'evening', 'evenings', 'evenlate', 'evenmorespace', 'evenmoreview', 'evennotified', 'event', 'eventprof', 'events', 'eventually', 'ever', 'everglades', 'everleft', 'evermoreroom', 'every', 'everybody', 'everyone', 'everyones', 'everything', 'everythings', 'everythingsgonnabealright', 'everytime', 'everywhere', 'evidence', 'evidently', 'evil', 'evn', 'evolved', 'evr', 'evry', 'evrytime', 'ew', 'ewk', 'ewr', 'ewriad', 'ewrmco', 'ewrord', 'ewrpdx', 'ewrsti', 'ex', 'exacerbates', 'exact', 'exactly', 'example', 'exams', 'exasperating', 'exboyfriend', 'exceed', 'excellence', 'excellent', 'excellentcustomerservice', 'except', 'exception', 'exceptional', 'exceptionally', 'exceptionalservice', 'exceptions', 'excess', 'exchange', 'exchangecredit', 'excited', 'excitement', 'exciting', 'exclusive', 'exclusively', 'excruciatingly', 'excusable', 'excuse', 'excusegeez', 'excuses', 'exec', 'execplat', 'execution', 'executive', 'executiveplatinummeansnothing', 'executives', 'exercise', 'exhausted', 'exhausting', 'exhaustion', 'exhibited', 'exhorbitantfees', 'exicted', 'exist', 'existence', 'existent', 'existing', 'exists', 'exit', 'exiting', 'exitrow', 'exp', 'expand', 'expanded', 'expansion', 'expect', 'expectations', 'expected', 'expecting', 'expects', 'expedia', 'expedient', 'expedite', 'expedited', 'expeditious', 'expens', 'expense', 'expenses', 'expensive', 'experience', 'experienced', 'experiences', 'experiencing', 'expiration', 'expire', 'expired', 'expires', 'expireswhy', 'expiring', 'explain', 'explained', 'explaining', 'explains', 'explanation', 'explanations', 'explore', 'explorer', 'exposed', 'expowest', 'express', 'expressed', 'expressing', 'exps', 'extend', 'extended', 'extending', 'extension', 'extent', 'extenuating', 'extinct', 'extortion', 'extra', 'extralight', 'extraordinaire', 'extraordinary', 'extraspeed', 'extravaganza', 'extreme', 'extremely', 'ey', 'eye', 'eyeglasses', 'eyes', 'eyewitness', 'eyw', 'eyyyy', 'ezemanalyst', 'f1571aus', 'f38ish', 'f6', 'f623', 'f6dk04', 'f8neqm', 'fa', 'faa', 'faaaannntastic', 'faail', 'faanews', 'fab', 'fabulous', 'face', 'facebook', 'faced', 'facepalm', 'faces', 'facing', 'fact', 'facts', 'fail', 'failagain', 'failback', 'failed', 'failing', 'failingyourcustomer', 'failover', 'failphone', 'fails', 'failure', 'failures', 'failurethen', 'faint', 'fair', 'fairbanks', 'faire', 'fairly', 'fairs', 'fairway', 'faith', 'faithful', 'fake', 'fakeawards', 'fakesincerity', 'fakesnow', 'fall', 'fallen', 'fallflorida', 'falling', 'falls', 'false', 'falseadvertising', 'fam', 'familiar', 'families', 'family', 'familyand', 'familyfriends', 'famous', 'fampampcking', 'fampking', 'fan', 'fancy', 'fans', 'fantastic', 'fantasy', 'faq', 'far', 'farce', 'fare', 'farecompare', 'farelock', 'fares', 'fargo', 'fargoairport', 'farmy', 'farthanks', 'fas', 'fashion', 'fashioned', 'fast', 'fastcompanys', 'fasten', 'faster', 'fastest', 'fat', 'fate', 'father', 'fathers', 'fattire', 'fattuesday', 'fault', 'faults', 'faulty', 'fav', 'fave', 'faves', 'favor', 'favorite', 'favoriteairline', 'fax', 'faxlike', 'fay', 'fb', 'fc', 'fcking', 'fcmostinnovative', 'fcuk', 'fd', 'fe', 'fear', 'fearing', 'feature', 'feb', 'february', 'februaryfreezefox17', 'februaryi', 'feces', 'feck', 'fed', 'federal', 'fedex', 'fedexed', 'fedora', 'fedup', 'fee', 'feed', 'feedback', 'feel', 'feelbetter', 'feeling', 'feelingtheluv', 'feels', 'fees', 'feesbut', 'feet', 'feeyou', 'fehqne', 'fell', 'fella', 'felt', 'female', 'fend', 'fend4urself', 'fend4yourself', 'fendforyourself', 'fernheinig18', 'ferrissalameh', 'ferry', 'festival', 'festivities', 'fete', 'fewdirectflights', 'fewer', 'ff', 'ffl', 'ffstatusdontmatter', 'fi', 'fiancee', 'fiancé', 'fiancée', 'fiasco', 'fib', 'fiction', 'fidencio', 'fidifamilies', 'field', 'fields', 'fifth', 'fifty', 'fight', 'fights', 'figure', 'figured', 'figures', 'file', 'filed', 'filing', 'fill', 'filled', 'filling', 'film', 'filmcrew', 'filmjobnoequipment', 'films', 'filters', 'filthy', 'filthyplane', 'fin', 'final', 'finale', 'finally', 'finals', 'financial', 'find', 'findanothergate', 'finder', 'finding', 'finds', 'findurgrip', 'fine', 'finest', 'fing', 'finger', 'fingers', 'fingerscrossed', 'finish', 'finishes', 'finleybklyncfs', 'finnair', 'fioretti2ndward', 'fiousairways', 'fire', 'fired', 'firefox', 'firevan', 'firing', 'firm', 'first', 'firstboth', 'firstclass', 'firstlove', 'firsttimeflyingwa16mo', 'firstworldproblems', 'fiscal', 'fispahani', 'fist', 'fistfights', 'fit', 'fits', 'fitz', 'five', 'fiveword', 'fix', 'fixed', 'fixedcertain', 'fixes', 'fixing', 'fixthis', 'fixyourstuff', 'fjbfsc', 'fkn', 'fl', 'fl1289', 'fl1289sfoewr', 'fl2771', 'fl382', 'fla', 'flagging', 'flailing', 'flashlight', 'flat', 'flatiron', 'flattering', 'flavors', 'flaw', 'flawed', 'flawless', 'fleek', 'fleet', 'fleets', 'flew', 'flex', 'flexibility', 'flexibilitycompassion', 'flexible', 'flght', 'flgjt', 'flgt', 'flier', 'flierfriendly', 'fliers', 'flierssomeone', 'flies', 'flight', 'flight108', 'flight1153', 'flight1407', 'flight1797', 'flight2031', 'flight2149', 'flight293', 'flight417', 'flight424', 'flight4592', 'flight5182', 'flight6831', 'flight7', 'flight838', 'flight850', 'flight911', 'flight919', 'flightamp', 'flightation', 'flightations', 'flightattendant', 'flightaware', 'flightchange', 'flightd', 'flightdelay', 'flighted', 'flightedflight', 'flightedmechprobs', 'flightedrescheduled', 'flightedsent', 'flightedsnow', 'flightedstill', 'flightfail', 'flightflew', 'flightget', 'flightglobal', 'flighthis', 'flighting', 'flightingdelaying', 'flightits', 'flightive', 'flightlation', 'flightlations', 'flightlationyou', 'flightled', 'flightledcant', 'flightleddelayed', 'flightledflight', 'flightledgonna', 'flightledrebooked', 'flightledthor', 'flightledtried', 'flightline', 'flightling', 'flightly', 'flightn', 'flightncy', 'flightness', 'flightnever', 'flightnightmare', 'flightno', 'flightplease', 'flightr', 'flightrcould', 'flightrexcept', 'flightrfor', 'flightrs', 'flights', 'flights1585and', 'flightsairports', 'flightsdelays', 'flightsrefunds', 'flightst', 'flightstart', 'flightsthis', 'flightstill', 'flightsyearmy', 'flighttherere', 'flighttold', 'flightu', 'flightua1750', 'flightupset', 'flightwouldve', 'fligt', 'fligth', 'fligths', 'flintstone', 'flipped', 'flipping', 'flipside', 'flite', 'fll', 'fllairport', 'fllgtsfo', 'floor', 'floors', 'florida', 'flow', 'flowerssmfh', 'flown', 'flt', 'flt1088', 'flt1533', 'flt1727', 'flt1999', 'flt2417', 'flt348', 'flt5127keeping', 'flt635', 'flt803', 'fltnext', 'flts', 'flu', 'fluctuated', 'fluid', 'flustered', 'flutter', 'fly', 'fly130', 'fly2midway', 'fly2ohare', 'flyanaofficial', 'flyaway', 'flybetter', 'flydelta', 'flydeltanexttime', 'flyeia', 'flyer', 'flyerfriendly', 'flyers', 'flyfi', 'flyfrontier', 'flying', 'flyingainteasy', 'flyingflighttravel', 'flyingitforward', 'flyingwithus', 'flyitforward', 'flyjetblue', 'flyknoxville', 'flylaxairport', 'flynashville', 'flypdx', 'flyquiet', 'flysaa', 'flysfo', 'flysouthwest', 'flysw', 'flyswa', 'flythefriendlyskies', 'flyunited', 'flyus', 'flywhonotblue', 'flyyow', 'fm', 'fml', 'fnd', 'fo', 'focus', 'focused', 'folder', 'folding', 'folk', 'folks', 'follow', 'followed', 'followers', 'following', 'follows', 'followup', 'fong', 'food', 'foodallergies', 'foodallergy', 'foodnothing', 'foodso', 'foolish', 'foolthats', 'foot', 'footage', 'footrest', 'for', 'for4', 'for40', 'force', 'forced', 'forcedovernight', 'forces', 'forcing', 'forecast', 'foreign', 'foresight', 'forever', 'foreveranyone', 'foreverrrrrr', 'forfeit', 'forfeited', 'forfeits', 'forget', 'forgets', 'forgetting', 'forgive', 'forgiven', 'forgot', 'forgotmiahe', 'forgotten', 'form', 'formal', 'formality', 'formally', 'formed', 'former', 'forms', 'formsmaddening', 'forsythfactor', 'fort', 'forth', 'fortunately', 'fortunemagazine', 'forty', 'foru', 'forum', 'forward', 'forwarding', 'fostering', 'found', 'four', 'fourhour', 'fourth', 'fouryrolds', 'fouty', 'fox8news', 'foxnews', 'fr', 'fr152015', 'fra', 'fracat', 'fraction', 'frame', 'fran', 'france', 'franchise02', 'francisco', 'frank', 'frankfurt', 'frankly', 'fransico', 'fraud', 'frauds', 'freaked', 'freakin', 'freaking', 'freaks', 'freaky', 'fred', 'freddie', 'freddieawards', 'free', 'free5', 'freecomedyshow', 'freeconcert', 'freedrinkcoupons', 'freeflight', 'freejust', 'freeneversucks', 'freezes', 'freezing', 'french', 'freq', 'frequency', 'frequent', 'frequentflyer', 'frequentflyerappreciates', 'frequentflyers', 'fresh', 'fresno', 'fri', 'fricken', 'friday', 'fridge', 'friend', 'friendliest', 'friendly', 'friendlyfriday', 'friendlyskies', 'friendlysky', 'friendlyteam', 'friends', 'frightening', 'frigid', 'frigidfriday', 'fritz', 'frm', 'fro', 'from', 'fromthefrontseat', 'fron', 'front', 'frontend', 'frontrunner', 'frowny', 'frozen', 'frozentoilet', 'frozenwater', 'fruit', 'frustrated', 'frustrating', 'frustratingit', 'frustratingly', 'frustration', 'frustrations', 'fs4ve7', 'fsz4yo', 'ft', 'ft1892', 'ftl', 'ftlauderdalesun', 'ftw', 'fu', 'fuck', 'fucked', 'fucken', 'fuckinf', 'fucking', 'fuckinlame', 'fuckoff', 'fudgers', 'fudgin', 'fuel', 'fuelamplikely', 'fuelcycle', 'fueled', 'fuk', 'fuking', 'fulfill', 'fulfilled', 'full', 'fulldont', 'fulleven', 'fullfa', 'fullfare', 'fullprice', 'fully', 'fun', 'func', 'function', 'functional', 'functionality', 'functionally', 'functioning', 'funds', 'funeral', 'funerals', 'funflightattendants', 'funited', 'funny', 'funnycaptain', 'furious', 'furnish', 'fuselage', 'fustrated', 'fusturated', 'future', 'fvf9yw', 'fwa', 'fwd', 'fwhei6', 'fwiw', 'fwwe7f', 'fyi', 'fyicall', 'fyvrfn', 'g6455c', 'g8', 'gabriela', 'gaga', 'gagent', 'gah', 'gain', 'gainesville', 'gains', 'gal', 'galaxy', 'galley', 'game', 'gang', 'gangway', 'garage', 'garbage', 'garcia4chicago', 'gary', 'garywerk', 'gas', 'gassing', 'gastoncounty', 'gate', 'gate4', 'gateagain', 'gates', 'gatestill', 'gatwick', 'gave', 'gay', 'gd', 'gear', 'gears', 'gee', 'geeeeezzzzz', 'geeks', 'geez', 'geg', 'gem', 'gems', 'general', 'generally', 'generated', 'generic', 'geneva', 'genious', 'genius', 'gent', 'gentleman', 'gently', 'gents', 'genuine', 'genuinely', 'geography', 'george', 'georgia', 'geraghty', 'geraldine', 'german', 'germs', 'gerrielliott', 'gesture', 'get', 'get2', 'getaway', 'getconnected', 'getittogether', 'getmartyhome', 'getmehome', 'getmeoffrhisfuckinplane', 'getmeoffthisbird', 'getmeoffthisplane', 'getmeontop', 'getmeouttahere', 'getmorehands', 'getphilz', 'gets', 'gettin', 'getting', 'gettingbetter', 'gettingimpatient', 'gettingoffplane', 'gettingthirsty', 'getyouracttogether', 'getyourlife', 'gf', 'gfc', 'gg8929', 'ggreenwald', 'ghettofab', 'giant', 'giants', 'gif', 'gift', 'gifting', 'gifts', 'gig', 'giggled', 'gills', 'gin', 'girl', 'girlfriend', 'girlsweekend', 'gis2015', 'gist', 'give', 'given', 'gives', 'givethemraises', 'givethoseladiesraise', 'giving', 'gj', 'gjt', 'glad', 'gladly', 'gladys', 'glass', 'glasses', 'glenn', 'glitch', 'glitches', 'glitchy', 'global', 'globalfc', 'globe', 'gloves', 'glowing', 'gluten', 'gma', 'gmail', 'gmas', 'gng', 'gnight', 'gnv', 'gnvltltltfsd', 'go', 'goal', 'gobankrupt', 'god', 'goddamn', 'godelta', 'goes', 'gofundme', 'gogo', 'gohelp', 'goin', 'going', 'going2', 'goingforgreat', 'goingforgreatnessfail', 'gold', 'golden', 'goldentickets', 'goldsapphire', 'goldsspousaldiscriminationangry', 'golf', 'golfbags', 'golfwithwoody', 'gone', 'gonenow', 'gong', 'gonna', 'good', 'goodbye', 'goodcustomerservice', 'goodday', 'goodenoughmother', 'goodflight', 'goodgenes', 'goodgriefpeople', 'goodhumored', 'goodluckamericanair', 'goodness', 'goods', 'goodthingscome', 'goodwill', 'google', 'gooutofbusiness', 'gopatriots', 'gopro', 'gorgeous', 'gosh', 'got', 'gotcha', 'goto', 'gotta', 'gotten', 'gottogetbetter', 'govt', 'gpu', 'gr8', 'grabbed', 'grace', 'gracias', 'gracious', 'graded', 'grades', 'graduate', 'gramp', 'grand', 'grandbabies', 'grandcanyon', 'grandma', 'grandmothers', 'grant', 'granting', 'graphic', 'graphics', 'grasshopper', 'grassy', 'grateful', 'gratitude', 'gray', 'great', 'greatcustomerservice', 'greater', 'greatest', 'greati', 'greatjob', 'greatly', 'greatservice', 'greed', 'greedy', 'greeeaat', 'green', 'greensboro', 'greenville', 'greeting', 'greetings', 'greetingz', 'greg', 'gregm528', 'greyed', 'greyhoundbus', 'grief', 'grievance', 'grinding', 'gripeo', 'grk', 'grk13575m', 'grnd', 'groan', 'gross', 'grossed', 'grossedout', 'grossthe', 'grouchy', 'ground', 'grounded', 'groundoutside', 'grounds', 'groundstill', 'group', 'groupa', 'grouping', 'groups', 'grow', 'growing', 'grown', 'grp', 'grr', 'grrrr', 'grrrrrrrr', 'grt', 'gru', 'grumpy', 'grumpykim', 'gsa', 'gso', 'gsp', 'gt', 'gt1', 'gt134', 'gt1hr', 'gt2', 'gt250k', 'gt30', 'gt30mins', 'gt40', 'gt60', 'gt70', 'gt90min', 'gtclt', 'gtgt', 'gtgtgt', 'gth239', 'gthour', 'gtsouthwestair', 'gtsvyb', 'guam', 'guarantee', 'guaranteed', 'guardia', 'guatemala', 'guc', 'guess', 'guessflight', 'guessing', 'guesstimate', 'guessweflyingdelta', 'guest', 'guests', 'guidance', 'guide', 'guidelines', 'guilty', 'guiltypleasures', 'guinea', 'guitar', 'guitars', 'gum', 'gun', 'gunna', 'guru', 'guy', 'guys', 'guysfor', 'guyyyys', 'gvn', 'h2o', 'h8', 'ha', 'habitrails', 'habitually', 'hacked', 'hacks', 'hadnt', 'hah', 'haha', 'hahah', 'hahaha', 'hahahah', 'hahahaha', 'hahahahaha', 'hahnot', 'hail', 'hair', 'half', 'halfthought', 'halfway', 'hall', 'hand', 'handbag', 'handed', 'handedly', 'handicap', 'handicapped', 'handing', 'handle', 'handled', 'handler', 'handlers', 'handles', 'handling', 'hands', 'handshake', 'handy', 'hang', 'hangar', 'hanged', 'hanger', 'hanging', 'hangs', 'hangup', 'haning', 'happen', 'happend', 'happened', 'happenedwhat', 'happening', 'happens', 'happier', 'happily', 'happiness', 'happy', 'happybirthday', 'happycamper', 'happycustomer', 'happyflier', 'happyfriday', 'happytweet', 'harass', 'harbor', 'hard', 'hardcase', 'hardearned', 'harder', 'hardest', 'hardly', 'hardtodo', 'hardworking', 'harris', 'harsh', 'hartford', 'hashtag', 'hasnt', 'hasshe', 'hassle', 'hassles', 'hasty', 'hat', 'hatch', 'hate', 'hated', 'hateful', 'hates', 'hating', 'hats', 'haul', 'havana', 'haven', 'havent', 'havin', 'havoc', 'hawaii', 'haydensteamboat', 'hayes', 'hayleymad', 'hazard', 'hd', 'hdn', 'hdndl11785', 'hdsportsguy', 'head', 'headache', 'headaches', 'headed', 'headerelevateusernumofpointsavailable', 'heading', 'headlines', 'headphone', 'headphones', 'heads', 'healing', 'health', 'hear', 'heard', 'hearing', 'heart', 'heartbroken', 'heartlanta', 'heartless', 'hearts', 'heat', 'heated', 'heathrow', 'heathrowairport', 'heattrap', 'heaven', 'heavenlychc9', 'heavily', 'heavy', 'heck', 'heckbooked', 'hectic', 'heel', 'hegshmeg', 'heidimacey', 'height', 'heinekenusacorp', 'held', 'helene', 'hell', 'hella', 'heller', 'hello', 'hellomy', 'help', 'helpbeen', 'helpdo', 'helped', 'helped2', 'helper', 'helpfaith', 'helpful', 'helpfulim', 'helpfulness', 'helpgot', 'helpimstuck', 'helpinfo', 'helping', 'helpless', 'helpline', 'helpphone', 'helps', 'helpthanks', 'helpunitedsucks', 'helsinkiairport', 'hemisphere', 'hemispheres', 'hemispheresmag', 'hence', 'henrikwagner73', 'hep', 'hepl', 'herb', 'herba', 'herbal', 'herded', 'heres', 'heretiredcustomer', 'herewhen', 'herman', 'herndon', 'hero', 'hes', 'hesitant', 'hey', 'heyo', 'heyyyy', 'hgeronemus', 'hhagerty', 'hi', 'hiccups', 'hid', 'hidden', 'hide', 'higgs', 'high', 'highbuddyyy', 'higher', 'highest', 'highlight', 'highly', 'hii', 'hike', 'hilarious', 'hilo', 'hilton', 'hime', 'himy', 'hindered', 'hint', 'hinted', 'hints', 'hipster', 'hipunis', 'hirasmusbidragi', 'hire', 'hiremorepeople', 'hiremorepoeple', 'hiring', 'historically', 'history', 'hit', 'hitawall', 'hitch', 'hits', 'hitting', 'hizouse', 'hlp', 'hm', 'hmm', 'hmmm', 'hmmmseems', 'hn', 'hnl', 'ho', 'hoagy10', 'hogs', 'hold', 'hold1', 'holdcan', 'holder', 'holders', 'holdguess', 'holding', 'holdon', 'holdover', 'holds', 'holdtime', 'holdup', 'hole', 'holiday', 'holidays', 'holler', 'hollow', 'hollymais', 'hollywood', 'holton', 'holy', 'holz', 'home', 'homefamily', 'homegirl', 'homeintentional', 'homeless', 'hometown', 'homeward', 'homewardbound', 'homosexual', 'honalulu', 'honest', 'honestly', 'honey', 'honeymoon', 'honeymooni', 'honolulu', 'honor', 'honorable', 'honored', 'honoring', 'honors', 'honululu', 'hoo', 'hoodlums', 'hook', 'hooked', 'hooking', 'hooooo', 'hoops', 'hooray', 'hoot', 'hop', 'hope', 'hoped', 'hopeful', 'hopefully', 'hopeidonotgetsick', 'hopeless', 'hopes', 'hopethegearmakesitintact', 'hopetogetanswersoon', 'hoping', 'hopkins', 'hops', 'hormonal', 'hormones', 'horrendous', 'horrible', 'horribleattitudes', 'horriblecustomerservice', 'horribleservice', 'horribly', 'horrid', 'horrific', 'horror', 'horse', 'hosp3', 'hospice', 'hospitality', 'hospitals', 'hostage', 'hostel', 'hostile', 'hosting', 'hot', 'hotel', 'hotelhows', 'hotelliving', 'hotels', 'hotelstonight', 'hotl', 'hotline', 'hotspot', 'hotter', 'hotterandlongerthanhell', 'hou', 'hour', 'hour20delay', 'hour9196750985', 'hourandtenminutedelay', 'hourconnected', 'hourdelay', 'hourflight', 'hourhope', 'hournever', 'hournot', 'hours', 'hoursat', 'hoursgot', 'hoursi', 'hourslove', 'hoursplease', 'hourswhat', 'house', 'housing', 'houston', 'houstonbogota', 'houstonbush', 'houstons', 'hover', 'howdy', 'however', 'howhardcanthatreallybe', 'howisthatpossible', 'hows', 'howwhy', 'hp', 'hpn', 'hr', 'hrl', 'hrs', 'hrsthere', 'hs', 'hstg', 'hsv', 'html5', 'httpstco2pujvcelng', 'httpstco3qyezhjgsb', 'httpstco64kn6geep8', 'httpstco72rmpkogwu', 'httpstco901hlngbtx', 'httpstco9za6xb1h89', 'httpstcoaay5avg99b', 'httpstcoagpb45v8wt', 'httpstcobzwgp7adve', 'httpstcocaf2cx3gfi', 'httpstcocfi1e3kxa9', 'httpstcodbcvepn5qc', 'httpstcodfmvmibh4x', 'httpstcofwzclbvug4', 'httpstcog4wwr6vbrq', 'httpstcoigkogywksr', 'httpstcoj4cj0lrf2d', 'httpstcojpd7nsgrt7', 'httpstcokdhruf54sw', 'httpstcolarkc8vc4s', 'httpstcooardjjgrrd', 'httpstcoq8vsffrd1u', 'httpstcotkvmhbkec3', 'httpstcoucvnilmb4x', 'httpstcox5jena7nye', 'httpstcoxcvqxykg49', 'httpstcoyzxfe7au22', 'httpstcozgoqoxjbqy', 'httptco04sdytt7zd', 'httptco0bjnz4eix5', 'httptco0ewj7oklji', 'httptco0hxlnvzknp', 'httptco0kn7pjelzl', 'httptco0liwecasoe', 'httptco0prgysvurm', 'httptco0wbjawx7xd', 'httptco16c9ex79rk', 'httptco18fmr06mn6', 'httptco1aavvoreph', 'httptco1ateafnc6r', 'httptco1g9rnmyuqe', 'httptco1m36ntptr8', 'httptco1sywlmtzek', 'httptco1tzz0vbmbs', 'httptco1xdlbibclp', 'httptco1xzrk66wvq', 'httptco1zt2kee8up', 'httptco214i0rtih4', 'httptco22ipgeicsm', 'httptco27aitzl6nd', 'httptco2boh2mh3cb', 'httptco2edgc6tbls', 'httptco2hxsdp0ha4', 'httptco2ikbp8gxwi', 'httptco2npxb6obmr', 'httptco2ny5tuxfqf', 'httptco2qjbcv5jzq', 'httptco2trgemtebz', 'httptco31cfhtk60r', 'httptco3ddqq0gqni', 'httptco3fhes0lpmu', 'httptco3fq3xelbon', 'httptco3khgjofgpx', 'httptco3kvkd8yrxa', 'httptco3lpvfhky2f', 'httptco3nsusfsbpv', 'httptco3oq1t4ohjl', 'httptco3ubcoasyws', 'httptco3x9nruovts', 'httptco3zpjr7kwbk', 'httptco413gial0yl', 'httptco44zhmfdiw6', 'httptco46n9kdcsxu', 'httptco49flbgzzkd', 'httptco49pv3kchnr', 'httptco4jdvk8tcqx', 'httptco4kbtzvju3b', 'httptco4klfywwmq1', 'httptco4mqfmxebxt', 'httptco4ojrsdwpkk', 'httptco4sfpcbyy9m', 'httptco56essfoowt', 'httptco5b2agfd8c4', 'httptco5cdx2roae6', 'httptco5db9esbnzg', 'httptco5hpsqvrjk8', 'httptco5imdckodfx', 'httptco5sdlyn9mss', 'httptco5siczx1oez', 'httptco5txu5tsfkj', 'httptco5xgnyhgafz', 'httptco5xvnnmltiw', 'httptco5znmwxdi9u', 'httptco62godfaknb', 'httptco63zaq2lt8f', 'httptco66nxzhbbmt', 'httptco67k4n9eq6e', 'httptco6cgfv02gzb', 'httptco6cpypgfnd6', 'httptco6kp4m0r1f7', 'httptco6kpyhcka9l', 'httptco6kqlhvap7g', 'httptco6mbk79mdnw', 'httptco6mbvjflpbm', 'httptco6tz6imqzlg', 'httptco6zj6l2ztua', 'httptco755vpym4mv', 'httptco7br5t5qcxk', 'httptco7gb0hgw51t', 'httptco7im9rhivyr', 'httptco7pofsxojsy', 'httptco7stktjxan1', 'httptco7ujt8vtcpa', 'httptco7vee44macm', 'httptco7z3gqebfk2', 'httptco8fmzzoltv9', 'httptco8hh0c63tie', 'httptco8jcediky9u', 'httptco8je1h3666w', 'httptco8mwitri9kf', 'httptco8o3scr5efw', 'httptco8qsqmm7kf2', 'httptco8tjuum22dd', 'httptco8vnckgzxl1', 'httptco8wbzorrn3c', 'httptco96apr35qan', 'httptco96ftlzwtvo', 'httptco9gx5mmmubb', 'httptco9meozbo4xl', 'httptco9r9omzqavi', 'httptco9ragncw2bk', 'httptco9rx5homm25', 'httptco9shhtvioti', 'httptco9skrlyrz1o', 'httptco9tbsjquw41', 'httptco9trvfncedl', 'httptco9unxqotzik', 'httptco9v8tmusjvu', 'httptco9xbo5dakak', 'httptco9xkiy0kq2j', 'httptcoa0yosjhzmc', 'httptcoa37n3ohokl', 'httptcoa3ycflalxv', 'httptcoa68d5fulmh', 'httptcoa7nvbj8ipx', 'httptcoaau9mka6zy', 'httptcoac6zwmuoon', 'httptcoacebo6elpa', 'httptcoahlxhhkiyn', 'httptcoaiyc9wv5oq', 'httptcoam9cuiewo4', 'httptcoaneqxzr4bp', 'httptcoaoeaeszdlx', 'httptcoaqjn4hwnac', 'httptcoatd2sm8hf4', 'httptcoatfrkp6goy', 'httptcoatwyifh6zy', 'httptcoaufm4xdaj2', 'httptcoaugjscmolu', 'httptcoaurn07pwd4', 'httptcoav2rffhmcv', 'httptcoavrtowtyzk', 'httptcoavyqdmpi1y', 'httptcoawgjkjiiac', 'httptcoaypyaduy6a', 'httptcoazltjhf7lv', 'httptcob2xi4yg5t8', 'httptcob4xhirugzv', 'httptcobape6rumne', 'httptcobe0b4k1xbt', 'httptcobeqotlnugc', 'httptcobfpfw6eyku', 'httptcobgtjfmneot', 'httptcobkmfey7qol', 'httptcobm9o2k5x5j', 'httptcobnflhpxtmw', 'httptcobngpli8jt6', 'httptcobrcsjbxg2s', 'httptcobt37kyrbyj', 'httptcobttgmyn0a0', 'httptcobtvpxtzju0', 'httptcobuwjtvuwkm', 'httptcoby3vdiosua', 'httptcoc24cefa9pl', 'httptcoc7kzbvf8h8', 'httptcoc7tpdkqulm', 'httptcoc8mqezxvdh', 'httptcocbv7f3kbkx', 'httptcocdzhtyd0ak', 'httptcocehroeurc5', 'httptcocfzdjmn0ui', 'httptcoch0nmjymgh', 'httptcochgy5yrvka', 'httptcocih1qnllcm', 'httptcocju102xp2k', 'httptcoclob5qwmxr', 'httptcoclvlhfguzw', 'httptcocm4roiypc2', 'httptcocmjriwop7o', 'httptcocnctl7g1ef', 'httptcocpzb285o71', 'httptcocqmm7nue9m', 'httptcocs1673hrqq', 'httptcocsddccmvbd', 'httptcocxrzhcdtvz', 'httptcocyoonzftdc', 'httptcocyprhe5gok', 'httptcod7pqouatdf', 'httptcodaaa0rqbxw', 'httptcodajwzhlvyu', 'httptcodewithpew2', 'httptcodh2rfuijyp', 'httptcodiufep8n2q', 'httptcodjjjn9slht', 'httptcodkzl57upqi', 'httptcodn1if2cgwe', 'httptcodnmsblzumr', 'httptcodnstitrzwy', 'httptcodocmvotwti', 'httptcodphqrgkdoa', 'httptcodplq3mhqgd', 'httptcodpx3yogtej', 'httptcodqjl8vz2h2', 'httptcodqnn0rf1v8', 'httptcodr5octp1dy', 'httptcodrw08djhai', 'httptcodtheyofxrb', 'httptcodtlguq1kak', 'httptcoduhbj41jhx', 'httptcodw5nf0ibtr', 'httptcodxux6dbfd3', 'httptcodzkc3auzu9', 'httptcoe09kej9bv1', 'httptcoe0c9bi09cf', 'httptcoe0r0nto4tr', 'httptcoeczhcmm5vi', 'httptcoeerekdf9fq', 'httptcoef4p0hishb', 'httptcoegkvfokogj', 'httptcoelhxuv0uj1', 'httptcoemrubu4wzd', 'httptcoeniqg0buzj', 'httptcoeqepkkpsxm', 'httptcoesd3xd5v1r', 'httptcoesuu0hiajm', 'httptcoeul6sdurbu', 'httptcof5ixyw8xyb', 'httptcof6copx1fvj', 'httptcofa7nygn1ux', 'httptcofd2tnyctrb', 'httptcofd4snvkiem', 'httptcofec4i3vwq7', 'httptcoffanixjhwh', 'httptcofgrbpazsix', 'httptcofinq5fh6ue', 'httptcofjkvqmbmas', 'httptcoflcnnn2usd', 'httptcofornpf69ky', 'httptcofttfyfmvco', 'httptcofuchzrzjg5', 'httptcofupf0uayir', 'httptcofvlxirh1f1', 'httptcofwkj49b1le', 'httptcofxnv618b1a', 'httptcofy6f9rzb9k', 'httptcog00saozgtv', 'httptcog12sn5qsqz', 'httptcog3uy6w28qh', 'httptcog4o6yx7tmj', 'httptcog9b6e0a2sz', 'httptcogbiw9ugfnm', 'httptcogcwvfuopl2', 'httptcogeg4nghmie', 'httptcogguaa1jvdf', 'httptcogguig3t28z', 'httptcogiennyqn22', 'httptcogkgkzlawpr', 'httptcoglxfwp6nqh', 'httptcogn30p75kqb', 'httptcogt6umhbh43', 'httptcogvgkhbx1rb', 'httptcogxvfumn3iz', 'httptcogz9gqdt7jj', 'httptcoh3k3owohd1', 'httptcoh44uj63cjg', 'httptcoh46ht1oz40', 'httptcoh6ce3mwcqj', 'httptcoh6hn33jjje', 'httptcohaj5lkqjw4', 'httptcohap4gbostu', 'httptcohbsj2sf17h', 'httptcohcnn0wxqqr', 'httptcohdoxim6nz2', 'httptcohfjyn2vtvj', 'httptcohfof33iyhi', 'httptcohg7veqhghy', 'httptcohhoxqpsuba', 'httptcohi6fl1ax9e', 'httptcohi76boavxy', 'httptcohisc4ndmgz', 'httptcohj5kq82chn', 'httptcohlzahxkdsn', 'httptcohqdb5iruvg', 'httptcohqhdad7fvk', 'httptcohsmpbsf4uf', 'httptcohuclxluv5h', 'httptcohy0vrfhjht', 'httptcoi1sfmi7zat', 'httptcoi7ut2zvhco', 'httptcoi7vdi9wqsf', 'httptcoi9s86kihge', 'httptcoib8kyjbcjm', 'httptcoieg2obcepp', 'httptcoifespcbztm', 'httptcoig2dgctt2m', 'httptcoih5w9nfkz2', 'httptcoiimtjxcvlg', 'httptcoij4xl01tkx', 'httptcoimrlau77ih', 'httptcoinnp0kkyby', 'httptcoipaamzt7z2', 'httptcoiqu0ppvq2s', 'httptcoivgpzsjtkw', 'httptcoiwoigrlhxb', 'httptcoiyuzm2puvs', 'httptcoj6iclv8dts', 'httptcojaskyplwt5', 'httptcojbdkxd6efz', 'httptcojgdu5us8dz', 'httptcojhau4k48yv', 'httptcojhxwmutx4g', 'httptcoji2pg4gom9', 'httptcoji7xks2jkk', 'httptcojieycat1ek', 'httptcojm8gq1kgrf', 'httptcojmnkj6bmc2', 'httptcojn3v3k3qgv', 'httptcojnqnbk7hut', 'httptcojorescfb4x', 'httptcojwl26g6lrw', 'httptcok0mhzrjf6e', 'httptcok7ubotmr1r', 'httptcokacy2awdbw', 'httptcokbhym5gkap', 'httptcokcqebeej7s', 'httptcokcqnwixucm', 'httptcokcvubuyexc', 'httptcokdmq0jps02', 'httptcokdzqczlpyr', 'httptcokeyrpflhil', 'httptcokfkjf1ztgi', 'httptcokfuyyokufv', 'httptcokigfkvxxdq', 'httptcokj1iljaebv', 'httptcokkedjnrtwo', 'httptcokkwiwi97a4', 'httptcokl9baimes6', 'httptcokmanldqbh4', 'httptcokmquly9g5e', 'httptcokvfwajvvid', 'httptcokvxs1lcqlp', 'httptcol7hsnlgie2', 'httptcol7lwjazioa', 'httptcola397zaoay', 'httptcolaiggef9kj', 'httptcole4h2gtzxz', 'httptcolednocdqee', 'httptcolhwfbkfyni', 'httptcoliqwoblfbt', 'httptcolkfh9hyhw8', 'httptcolo6lghpcdu', 'httptcoloeco4gmvd', 'httptcololuwfci11', 'httptcolsxji0ouvr', 'httptcolt1pykfvrq', 'httptcolug4mfvwsa', 'httptcolulgnweffh', 'httptcolv9hwqdk9a', 'httptcolwotkiekgu', 'httptcolycarltfhl', 'httptcolyoocx5msh', 'httptcom1yywafkfi', 'httptcom2phoavrxc', 'httptcom67wnbglxq', 'httptcom7mmq2f5fa', 'httptcom81rv0blxs', 'httptcom9nywr5kbs', 'httptcomaqw2nlniu', 'httptcomb3bjwgoap', 'httptcomb3ipgs8zq', 'httptcombltalr4bs', 'httptcomdbdyomrs7', 'httptcomeoalcipdd', 'httptcomf7rabgn8a', 'httptcomha3xxaed5', 'httptcomjkpgvxmpc', 'httptcomkpognntyc', 'httptcoml1jacpmch', 'httptcomraw3qdw4d', 'httptcomrfbjtepef', 'httptcomt8splm02v', 'httptcomthm9waobu', 'httptcomvyoizrpde', 'httptcomynzitcovn', 'httptcomzzfgqfhu2', 'httptcon3bvzty3zi', 'httptcon3lrfo4uay', 'httptcon5o43svl8i', 'httptcon7osjz8a59', 'httptcon7psuejdc8', 'httptcon9hmcrjchb', 'httptcona5g5eakpa', 'httptconbz45jcd1r', 'httptconc0es6e4lf', 'httptconcb2oncs9i', 'httptconcguzdgdaq', 'httptconcrmqibiwo', 'httptcondtlj15zpu', 'httptconehnsdckty', 'httptconfaqhhr09j', 'httptconfjauw16vzlt', 'httptcongg3n0wiar', 'httptcongxal9oml6', 'httptconh2i9zlzmk', 'httptconkafbjyari', 'httptconklozcntto', 'httptconmbhngnmki', 'httptconofg0tqhyn', 'httptconopq5xisbs', 'httptconrpwmgyv3e', 'httptcons1acfqcdq', 'httptconsjwvttjgo', 'httptcontuix5dbyr', 'httptconuhplnxriq', 'httptconustgpelsf', 'httptconvlnglnmgn', 'httptconwf2fka8fy', 'httptconxqijcojnj', 'httptcony6cs7jruv', 'httptconyvv1x3d67', 'httptcoo0745apiau', 'httptcoo1u96xc3bo', 'httptcoo3cjsvssqf', 'httptcoo3srl1hfho', 'httptcoo3wlainimy', 'httptcoo4zr27qpcr', 'httptcooaflfr7wxb', 'httptcoobqiro1buj', 'httptcoocqk0jfxua', 'httptcoodlall5edh', 'httptcooh7cfv7dhr', 'httptcooktukjy92o', 'httptcoonhxhco6bk', 'httptcoooej4d4jop', 'httptcooqz7wc4lla', 'httptcoory89eegek', 'httptcootfz7cyguq', 'httptcootty5rymzd', 'httptcooumc1lrxdn', 'httptcoowmaxoyehz', 'httptcoox4w6ktsgi', 'httptcooxy1jnpjm3', 'httptcooylgeao7y8', 'httptcop3n2w8jfps', 'httptcop6ucbvlv5e', 'httptcop7fsluxegw', 'httptcop8xfhq4kps', 'httptcopd3nbaakxh', 'httptcopd7r1ll6re', 'httptcopeq90pqmpp', 'httptcopeuc0bmij9', 'httptcopgwukrpmox', 'httptcoph8qjzapkx', 'httptcophi2ifnjit', 'httptcopivxean3jy', 'httptcopkaxunyfn2', 'httptcopky7zhnnrh', 'httptcopl9sop5ihu', 'httptcoppva4rch9f', 'httptcops9q9rpsil', 'httptcopw1eudlczg', 'httptcopx8hqoks3r', 'httptcopxdel1nq3l', 'httptcopyalebgkjt', 'httptcoq37pown6uv', 'httptcoq5a7jtki5k', 'httptcoq5sb0davuy', 'httptcoq9n6nzyspk', 'httptcoqd2lyuxazg', 'httptcoqdebyahqfm', 'httptcoqdxft9qqt9', 'httptcoqf0oc2hqez', 'httptcoqgtcao1j2u', 'httptcoqjkl4abprg', 'httptcoqjlzrywfj2', 'httptcoqkkjdfobos', 'httptcoqkquraggoo', 'httptcoqn5odugfqk', 'httptcoqp6aw3nlip', 'httptcoqqlzk2jkzr', 'httptcoqrxvzfrd1z', 'httptcoqrxz0bgbtq', 'httptcoquzvmk2rtr', 'httptcoqxww1p09a0', 'httptcor1oqaveo7i', 'httptcor7ibqr4cyd', 'httptcor8p2zy3fe4', 'httptcor9zsvzurlw', 'httptcorbn7stuij1', 'httptcorcdh183q1j', 'httptcorhkamx9vf5', 'httptcorkorhvr9z1', 'httptcorkprxtgvfl', 'httptcorkvczbpdce', 'httptcorx8z53m7yy', 'httptcorxmjwoo7qi', 'httptcoryxbplgmnk', 'httptcos3esw5agum', 'httptcosba0aricyq', 'httptcoscqujbvsta', 'httptcosdm2wvr3zr', 'httptcosdylukr7pt', 'httptcosg7iqqfvso', 'httptcosgckbopata', 'httptcosjqemdtqma', 'httptcosjveelween', 'httptcosk6w9xqaqb', 'httptcoskebqktxvx', 'httptcoskkewqhssg', 'httptcosl6bdrxfn8', 'httptcosllyibe2vq', 'httptcosotl8xqsrp', 'httptcostqy9v8256', 'httptcosuprlfoi8t', 'httptcosxvagbrtli', 'httptcot1rypzebc8', 'httptcot3gnk2n7ld', 'httptcot4gcks2bh5', 'httptcot6fyybhjhl', 'httptcot78k7abtwf', 'httptcot9s68korsn', 'httptcotefhpuwmdj', 'httptcotfanxbh1cf', 'httptcotfjfmsha2k', 'httptcotgsb1dfps3', 'httptcotgsljjn6g0', 'httptcoths10ldy2a', 'httptcotjdzamhpew', 'httptcotk3aopdtsq', 'httptcotkvcmhbpim', 'httptcotlgoihqkvs', 'httptcotlpbaupik5', 'httptcotmccexyaaq', 'httptcotn5cxcld6m', 'httptcotny9uipha5', 'httptcotopqmvqnjp', 'httptcotpzhjx7hbt', 'httptcotrqlpeinzw', 'httptcotsvgbrl15f', 'httptcotsvibtvt8h', 'httptcottxrsynlxr', 'httptcotu9jx2jazn', 'httptcotvk0pyxqv5', 'httptcotwetpxuppn', 'httptcotxhyj40llg', 'httptcotyxaztmq1u', 'httptcotzzjhuibch', 'httptcou1vieuidf5', 'httptcou69fafqhsf', 'httptcou6duw27mde', 'httptcoua6doua34l', 'httptcoucveu2hurz', 'httptcoufbdr5axeo', 'httptcouh6uwuosc0', 'httptcoukdjjijrow', 'httptcould0hwfkfo', 'httptcouoaryq98pu', 'httptcoupaz1ef3dl', 'httptcoupp41abxrq', 'httptcouq2oopjpwg', 'httptcouqgw6qsffu', 'httptcour60un86gy', 'httptcout5grrwaaa', 'httptcoutdfqf5wpa', 'httptcoutfdhxa8pu', 'httptcouy28d1uegx', 'httptcouygew2nosr', 'httptcov24qnp3doi', 'httptcov8pvphmtzc', 'httptcov8sb0rbicx', 'httptcovahdekvoke', 'httptcovbfieo2qjc', 'httptcovbuxfpckfa', 'httptcovc6keulg2j', 'httptcovdfdodqvgx', 'httptcovftuyjh45x', 'httptcovgn2x1ckg0', 'httptcovhp2gtdwpk', 'httptcovjfv7ksgcq', 'httptcovn3jjia53o', 'httptcovo61lme5ja', 'httptcovouufrn4js', 'httptcovoxcghciji', 'httptcovpdrplxj5a', 'httptcovpqem31xuq', 'httptcovqtyza6mzu', 'httptcovr9k180lai', 'httptcovrqdpqepfw', 'httptcovskxyamnom', 'httptcovtqe8m1l3i', 'httptcovu5lbzxtrx', 'httptcovudwjm1lyb', 'httptcovuxf4r4unu', 'httptcovv8cfyhkvb', 'httptcovw2v8gvngq', 'httptcovx9vbctdlf', 'httptcovyuanh4iqr', 'httptcow3xs6tvpzg', 'httptcowdaktmr7mj', 'httptcowdyekvb1ze', 'httptcowgyztnjcxm', 'httptcowhagpknnlf', 'httptcowjiigztiwg', 'httptcowny9tzsr8n', 'httptcowqzztiemx0', 'httptcowsgyckciio', 'httptcowu3lbcncr9', 'httptcowvgpp3ymz1', 'httptcox1eqyahfvz', 'httptcox4rsvagijn', 'httptcox4tdy84dbh', 'httptcox6syw3mdvu', 'httptcoxaizw2isml', 'httptcoxatoxbnsfa', 'httptcoxc6jq70r7b', 'httptcoxdjzkc34gb', 'httptcoxfwxsrwkha', 'httptcoxggcntco8m', 'httptcoxhlc30mtff', 'httptcoxhsuupheze', 'httptcoxijyrpslzk', 'httptcoxltv5z6st1', 'httptcoxmz3tf9ix8', 'httptcoxpm98igqjn', 'httptcoxxy2d2imnp', 'httptcoxzbajmiekx', 'httptcoxzy7phkfgr', 'httptcoyf9nhmwyff', 'httptcoyiwlhqhzgp', 'httptcoymftw1uyhr', 'httptcoync2zut4zz', 'httptcoyokkhhqcmp', 'httptcoypbkcirbxu', 'httptcoypvpvdltys', 'httptcoyqhk8ljabn', 'httptcoysqbvq6mgb', 'httptcoyxn00pnoav', 'httptcoyzh4zrqm0i', 'httptcoz5znfwkkwp', 'httptcozcbjyo6lsn', 'httptcozf5wjgtxzt', 'httptcozfqmpgxvs6', 'httptcozfroinpszi', 'httptcozhxok07aqa', 'httptcozik2uoxgnw', 'httptcozira2z3udc', 'httptcozkoe6clgiu', 'httptcozl4bvexmcj', 'httptcozo2iceg4li', 'httptcozouowgv3q6', 'httptcozv6cfpohl5', 'httptcozvfmxnuelj', 'httptcozzps5ywve2', 'hub', 'hubby', 'hubs', 'hug', 'huge', 'hugely', 'hughes', 'huh', 'human', 'humanity', 'humans', 'humiliated', 'humiliating', 'humor', 'humour', 'hundred', 'hundreds', 'hung', 'hungary', 'hungry', 'hunkydory', 'hunt', 'huntsville', 'hurricane', 'hurry', 'hurt', 'hurting', 'hurts', 'hury', 'husain', 'husainhaqqani', 'husband', 'husbands', 'huston', 'hv', 'hve', 'hyperlinked', 'hypocrisy', 'iad', 'iadore', 'iadsat', 'iah', 'iahdfw', 'iahhnl', 'iahmnl', 'iahwowjust', 'iata', 'iatanbul', 'iberia', 'ice', 'iced', 'iceday', 'iceland', 'icing', 'icloud', 'iconography', 'icu', 'icy', 'icyflight', 'id', 'idaho', 'idea', 'ideal', 'ideas', 'identical', 'ideserveareward', 'idiot', 'idiotic', 'idiots', 'idk', 'idlovetoask', 'idnumber8569822', 'idols', 'idonotcare', 'idontwanttocallback', 'ids', 'ifc', 'ife', 'iflyalot', 'iflyoakland', 'igiveup', 'ignorant', 'ignore', 'ignored', 'ignores', 'ignoring', 'iha', 'ihatemergers', 'ijustwanttobeinboston', 'ilc0hp', 'ill', 'illegal', 'illiterate', 'illness', 'illogical', 'ilm', 'ilookyoung', 'ils', 'im', 'images', 'imagine', 'imagined', 'imaginedragons', 'imateacher', 'imjustsaying', 'imma', 'immediate', 'immediately', 'immensely', 'imo', 'impact', 'impacts', 'impaired', 'impatience', 'impatient', 'impediment', 'impending', 'impersonal', 'implement', 'impolite', 'important', 'importantflight', 'impossible', 'impossibly', 'impress', 'impressed', 'impressedand', 'impression', 'impressions', 'impressive', 'improper', 'improve', 'improved', 'improvement', 'improvements', 'improves', 'improvetheprocess', 'improving', 'imtired', 'in', 'in1st', 'inability', 'inaccessibility', 'inaccurate', 'inaccuratemisleading', 'inactivity', 'inadequate', 'inampdidnt', 'inappropriate', 'inappropriately', 'inbaggage', 'inbound', 'inbox', 'inbrowser', 'incapable', 'incase', 'incentive', 'inch', 'inches', 'incident', 'incidentally', 'incidentals', 'incidents', 'incl', 'inclement', 'inclemental', 'incls', 'include', 'included', 'includes', 'including', 'income', 'incoming', 'incompetence', 'incompetenceunderstaffing', 'incompetency', 'incompetent', 'incompetentmanagers', 'incompetentrude', 'incomprehensible', 'inconceivable', 'inconsiderate', 'inconsistent', 'inconvenience', 'inconvenienced', 'inconveniences', 'inconvenient', 'inconveniently', 'inconvience', 'incorrect', 'incorrectly', 'increase', 'increased', 'increasing', 'incredible', 'incredibly', 'increments', 'incubator', 'incur', 'incurred', 'ind', 'ind43728m', 'indeed', 'india', 'indian', 'indianapolis', 'indicate', 'indicated', 'indicates', 'indicating', 'indication', 'indignation', 'individual', 'induce', 'industry', 'indy', 'inebriated', 'inedible', 'ineedabeer', 'ineedcoffee', 'inefficiency', 'inefficient', 'ineligible', 'inept', 'inevitable', 'inexcusable', 'inexpensive', 'inexperienced', 'infant', 'infants', 'infanttoddler', 'inferior', 'infinite', 'inflatable', 'inflating', 'inflation', 'inflexible', 'inflight', 'influx', 'info', 'infobag', 'infographic', 'inform', 'information', 'informationstill', 'informative', 'informed', 'informing', 'informs', 'infovirginamericacom', 'infrastructure', 'infringement', 'infuriated', 'infuriating', 'ing', 'ingredients', 'inhumane', 'initial', 'initiated', 'initiative', 'injured', 'injuries', 'injury', 'inlaws', 'inline', 'inner', 'innovation', 'inop', 'inoperable', 'inout', 'inperson', 'inpolite', 'input', 'inputted', 'inquire', 'inquired', 'inquiries', 'inquiry', 'ins', 'insane', 'insanehelp', 'insanely', 'insanity', 'insensitive', 'inserted', 'inside', 'insight', 'insist', 'insisted', 'inspected', 'inspiration', 'inspired', 'inspiring', 'insta', 'instagram', 'installation', 'installed', 'installing', 'instance', 'instant', 'instantly', 'instead', 'instructed', 'instructions', 'instrument', 'instruments', 'insubstantial', 'insufficient', 'insulin', 'insult', 'insulted', 'insulting', 'insurance', 'insure', 'int', 'intact', 'integrate', 'integrating', 'integration', 'integrity', 'intel', 'intelligence', 'intelligent', 'intend', 'intended', 'intent', 'intention', 'intentionally', 'interaction', 'intercom', 'intercontinental', 'interest', 'interest3880', 'interested', 'interesting', 'interestingagent', 'interfering', 'interim', 'interior', 'interiors', 'intern', 'internal', 'international', 'internationally', 'internet', 'internjohnradio', 'internship', 'interpreting', 'interrupted', 'interupt', 'interview', 'interviewed', 'interviews', 'intimate', 'intl', 'intro', 'intrusive', 'intuit', 'intuitlife', 'inv', 'invalid', 'inventory', 'invest', 'investigate', 'investigated', 'investigation', 'investment', 'invitational', 'invite', 'invited', 'invoice', 'invoices', 'involuntarily', 'involve', 'involved', 'ionlyflyblue', 'ios', 'iove', 'iowa', 'ipad', 'ipaddont', 'iphone', 'irate', 'ireland', 'irene', 'irina', 'irmafromdallas', 'irony', 'irregularity', 'irreplaceable', 'irresponsible', 'irritated', 'irritating', 'irrlcd', 'irrops', 'is9jx1', 'isabelle', 'isdelayed', 'ishouldhavedriven', 'isis', 'isitthegarykellyway', 'island', 'islands', 'isn', 'isnt', 'isolate', 'isp', 'issucks', 'issue', 'issuecould', 'issued', 'issuenot', 'issues', 'issuesmy', 'issuesshe', 'istanbul', 'istead', 'isthisreal', 'isthisyourfirsttry', 'it', 'italian', 'italy', 'itamericanairlines', 'itd', 'item', 'items', 'itenary', 'itfits', 'ithaca', 'ithelpsabit', 'ithica', 'iti', 'itin', 'itineraries', 'itinerary', 'itineraryconfirmation', 'itis', 'itll', 'ito', 'itover', 'itpretend', 'itproblems', 'itravelalot', 'its', 'itscostingmeincome', 'itslaloca', 'itsthelittlethings', 'itthen', 'itthis', 'itunesmusic', 'itwhy', 'iusedtoloveu', 'iv', 'ive', 'ivebeen', 'ivr', 'iwantcoffee', 'iwantmymoneyback', 'iwas', 'iy', 'jabevan221', 'jac', 'jack', 'jackass', 'jacked', 'jacket', 'jackkairys', 'jackpot', 'jackson', 'jacksonville', 'jacqueline', 'jacquelyn', 'jacquie', 'jail', 'jaipur', 'jal', 'jam', 'jamaica', 'james', 'jamesasworth', 'jameswester', 'jamie', 'jammed', 'jan', 'jana', 'jane', 'janet', 'janna', 'jannasaurusrex', 'january', 'japan', 'jason', 'jasonwhitely', 'javascript', 'jax', 'jax2bna', 'jayvig', 'jb', 'jbeatz247', 'jbi', 'jdbwaffles', 'jdhadp', 'jealous', 'jeanette', 'jeanine', 'jedediah', 'jedediahbila', 'jeff', 'jeffhofmann', 'jenniferwalshpr', 'jennings', 'jeopardy', 'jerk', 'jerks', 'jersey', 'jessicajaymes', 'jesus', 'jet', 'jetbae', 'jetblue', 'jetblueanyone', 'jetblueblues', 'jetbluebos', 'jetbluecheeps', 'jetbluefail', 'jetbluefame', 'jetblueforever', 'jetbluehatesbtv', 'jetbluejfk', 'jetbluemember', 'jetbluemess', 'jetbluerocks', 'jetblues', 'jetbluesofly', 'jetbluesucks', 'jetbridge', 'jetgreen', 'jetred', 'jets', 'jetscrew', 'jetsetter', 'jetway', 'jetways', 'jewel', 'jezziegoldz', 'jfk', 'jfkeven', 'jfkgtroc', 'jfkgtsfo', 'jfklas', 'jfklax', 'jfklhr', 'jfknot', 'jfksfo', 'jfkyou', 'jh', 'jhamilton2007', 'jhughes1025', 'jilted', 'jim', 'jimcramer', 'jimdaytv', 'jimmy', 'jimtrotternfl', 'jj', 'jk', 'jlhalldc', 'jlittle100', 'jln', 'jmercadomma', 'jms2802', 'joanna', 'joanne', 'job', 'jobfail', 'jobs', 'joe', 'john', 'johnwayneair', 'join', 'joined', 'joke', 'jokeboston', 'jokers', 'jokesonus', 'joking', 'joni', 'joplin', 'jordnnicole7', 'jorge', 'jose', 'josephtreis', 'journey', 'joy', 'joyadventuremom', 'jp', 'jparkermastin', 'js', 'jsumiyasu', 'jt', 'jtrexsocial', 'jua', 'juan', 'judas', 'juice', 'julesdameron', 'julgood1', 'julian', 'juliasinton948', 'julie', 'july', 'jump', 'jumped', 'jumping', 'junction', 'june', 'jurassic', 'just', 'justdoit', 'justgetmehome', 'justifiable', 'justify', 'justifythissupport', 'justsayin', 'justsaying', 'justwantmybed', 'justwrong', 'justynmoro', 'jvmchat', 'jvstatus', 'jwa', 'jx4s2t', 'k13', 'k20', 'kaha58', 'kaneshow', 'kanne822', 'kansas', 'kaps12', 'karabuxthomps', 'karajusto', 'karen', 'karinslee', 'karma', 'kat', 'kate', 'kathryn', 'kathrynsotelo', 'katie', 'kats', 'kauai', 'kax', 'kay', 'kc', 'kci', 'kciairport', 'kdepetro313', 'keambleam', 'keep', 'keeping', 'keepingit100', 'keepingtraditionsalive', 'keepit100', 'keepitclassy', 'keepitmovin', 'keepitup', 'keepmy', 'keeps', 'keepusguessing', 'keithlaw', 'kelly', 'kelsey', 'kentuckymbb', 'kept', 'kerry', 'kevin', 'kevinswan', 'key', 'kgonzales89', 'kick', 'kicked', 'kickin', 'kicking', 'kid', 'kidding', 'kidnapped', 'kids', 'kieranmahan', 'kill', 'killed', 'killeen', 'killin', 'killing', 'kim', 'kin', 'kind', 'kinda', 'kinder', 'kindle', 'kindly', 'kindness', 'king', 'kiosk', 'kiosks', 'kiosksbag', 'kirkwoodtiger', 'kisses', 'kit', 'kitchen', 'kkwhb', 'kleankanteen', 'kmdw', 'kms', 'kn', 'knack', 'knees', 'knew', 'know', 'knowexpect', 'knowhockey', 'knowing', 'knowledge', 'knowledgeprovide', 'known', 'knownot', 'knows', 'knoxville', 'korea', 'kp', 'kphl', 'kravitz', 'krescate', 'kristicapel', 'kristiesp', 'kristy', 'kta', 'kthxbai', 'ktm', 'ktn', 'kudos', 'kung', 'kurt', 'ky', 'kylejudah', 'kys', 'l8', 'l8r', 'la', 'labeled', 'labor', 'labyrinth', 'lack', 'lacked', 'lacking', 'lacks', 'ladan', 'ladies', 'lady', 'ladygaga', 'ladyone', 'lag', 'lagging', 'lagos', 'laguardia', 'laguardiaair', 'laguardiadal', 'laissez', 'lake', 'lala', 'lame', 'lampf', 'land', 'landed', 'landedyou', 'landing', 'landings', 'landonschott', 'lands', 'lane', 'lanes', 'language', 'languages', 'lap', 'laps', 'lapse', 'laptop', 'laptoplarge', 'large', 'larger', 'largest', 'larry', 'las', 'las2buf', 'lasairport', 'lasden', 'lasfllsju', 'last', 'lasted', 'lastella', 'lastflightofthenight', 'lastflightwithyouever', 'lastly', 'lastnight', 'lasttweetaboutthis', 'late', 'latimes', 'latinamerican', 'latrice', 'latte', 'latter', 'lauderdale', 'lauderdalebogotá', 'laugh', 'laughed', 'laughedhard', 'laughing', 'laughter', 'launder', 'laundry', 'laura', 'laurasbrown5', 'lauren', 'laurieameacham', 'lavatory', 'lavoratories', 'law', 'laws', 'lawsuit', 'lawyer', 'lawyerup', 'lax', 'lax29108m', 'laxewr', 'laxiad', 'laxmad', 'laxogglax', 'laxshe', 'laxsna', 'laxsyd', 'laxwhen', 'lay', 'layout', 'layover', 'layovers', 'lazy', 'lb', 'lbb', 'lbs', 'lburley11', 'ld', 'le2v9d', 'lea', 'lead', 'leadership', 'leading', 'leads', 'league', 'leah', 'leak', 'leakingwhats', 'leanin', 'learn', 'learncustomerservice', 'learned', 'learning', 'learnt', 'lease', 'least', 'leastthebeverageswillbecold', 'leather', 'leatherseats', 'leathery', 'leave', 'leaves', 'leaving', 'leavingtomm', 'led', 'leeannhealey', 'left', 'lefteven', 'leg', 'legacy', 'legal', 'legally', 'legit', 'legitimate', 'legitimately', 'legroom', 'legs', 'leighemery', 'leinenkugels', 'lemme', 'length', 'lengthy', 'lenses', 'leopoldsic', 'lesliewolfson', 'less', 'lessand', 'lessening', 'lessme', 'lesson', 'let', 'letdown', 'lets', 'letsgo', 'letsgoalready', 'letsgohome', 'letsworktogether', 'letter', 'letters', 'letterwent', 'letting', 'level', 'levels', 'leverage', 'levi', 'lexington', 'lft5', 'lfw15', 'lga', 'lgacleden', 'lgafllpoor', 'lgagtdal', 'lgaiah', 'lgaord', 'lgb', 'lh', 'lh7631', 'lhr', 'lhrdfw', 'lhriah', 'lhrord', 'lhrt2', 'liable', 'liar', 'liars', 'library', 'lick', 'lie', 'lied', 'lieflat', 'lies', 'lieslieslies', 'liesstill', 'life', 'lifeisgood', 'lifeline', 'lifeneedsfrosting', 'lifes', 'lifesaver', 'lifestop', 'lifethreatening', 'lifetime', 'lifevests', 'lift', 'lifting', 'light', 'lightbulb', 'lighting', 'lightly', 'lightning', 'lights', 'lightyears', 'like', 'like12', 'liked', 'likelihood', 'likely', 'likes', 'likingyoulessandless', 'lil', 'lile', 'lilly', 'lima', 'limbo', 'limit', 'limited', 'limits', 'lindaswc', 'lindsey', 'line', 'lined', 'lineoh', 'lines', 'linesforever', 'lineup', 'lingo', 'lining', 'link', 'linked', 'linkemail', 'linking', 'links', 'lip', 'lipstick', 'lisa', 'lisapal', 'list', 'listed', 'listen', 'listened', 'listening', 'listens', 'lists', 'listsomeone', 'lit', 'lite', 'literally', 'litter', 'little', 'live', 'lively', 'liveonfox17', 'livepersonplease', 'livery', 'lives', 'livethelegend', 'livewelltraveled', 'livid', 'living', 'liza', 'lizaapproved', 'll', 'lloyd', 'lly144', 'lmao', 'lmfao', 'lmfaooo', 'lmk', 'lnded', 'lo', 'loaaret', 'load', 'loaded', 'loading', 'loads', 'loaned', 'loaner', 'loanr5084773604', 'loans', 'lobstermac', 'loc', 'local', 'localized', 'locals', 'locate', 'located', 'locating', 'location', 'locations', 'locator', 'lock', 'locked', 'loctjycqh', 'lodge', 'lodging', 'lodgingfood', 'loft', 'log', 'logan', 'loganairports', 'loganex', 'logged', 'logging', 'logic', 'logical', 'logically', 'login', 'logistically', 'logistics', 'logo', 'logout', 'logs', 'lol', 'lolol', 'london', 'londonfashionweek', 'loner', 'lonflight', 'long', 'longbeachairport', 'longday', 'longer', 'longing', 'longstanding', 'longterm', 'look', 'looked', 'lookforwardtoflywithaa', 'lookin', 'looking', 'looks', 'looong', 'loooooong', 'loop', 'looped', 'loose', 'loosing', 'lopezlaymari', 'lord', 'los', 'lose', 'loser', 'loses', 'losing', 'loss', 'lost', 'lostacustomer', 'lostandforgotten', 'lostbags', 'lostfound', 'lostinlove', 'lostluggage', 'lostmybusiness', 'lostrevenue', 'loststolen', 'lostsuitcase', 'lostyou', 'lot', 'lotbut', 'lots', 'lotttttttt', 'lou', 'loud', 'louder', 'loudly', 'loudspeaker', 'louis', 'louisville', 'lounge', 'lounges', 'louprice13', 'lousy', 'love', 'loved', 'lovedflyingwiththem', 'lovedragonss', 'loveeee', 'loveisintheair', 'lovejetblue', 'loveluv', 'lovely', 'loves', 'lovesongfriday', 'lovesouthwest', 'lovesouthwestair', 'loving', 'low', 'lowdown', 'lower', 'lowercase', 'lowered', 'loweredexpectations', 'lowest', 'lowstandards', 'loyal', 'loyalmosaicmember', 'loyalrrmember', 'loyalty', 'lpalumbo', 'lpdstock', 'lt', 'lt3', 'lt5', 'lta', 'ltaljx', 'ltltltltlt', 'ltltltltltlt', 'ltr', 'lucia', 'luck', 'luckily', 'lucky', 'lucycat', 'lucymay', 'lufthansa', 'luggage', 'luggagecancelled', 'luggagegate', 'luggages', 'luggagethen', 'lugging', 'lukewyckoff', 'lunch', 'lunchtime', 'lungs', 'lusaka', 'luv', 'luvagent', 'luved', 'luvforsw', 'luvin', 'luvintheair', 'luvisbetter', 'luvsw', 'luvswa', 'luxclark', 'luxuries', 'luxuriesaesthetics', 'luxurious', 'luxury', 'luz', 'lve', 'lying', 'lynn', 'maam', 'maarten', 'maatkare67', 'mac', 'macario2', 'machine', 'machines', 'mad', 'maddening', 'maddieflood', 'made', 'madeit', 'madhouse', 'madness', 'madrid', 'maf', 'mag', 'magazine', 'magic', 'magical', 'magically', 'maiden', 'mail', 'mailbox', 'mailing', 'maimi', 'main', 'maine', 'mainline', 'maint', 'maintain', 'maintained', 'maintenance', 'maintenece', 'mait', 'major', 'majority', 'make', 'makechange', 'makeovertimecustomerserviceplease', 'makers', 'makes', 'makessense', 'makeup', 'making', 'makingloveoutofnothingatall', 'makingthingseasy', 'malcome', 'male', 'malfunction', 'malfunctioning', 'malhoit', 'malik', 'mallowfairy', 'mammoth', 'man', 'manage', 'managed', 'management', 'manager', 'managers', 'managing', 'manana', 'manch', 'manchester', 'manchesterbwi', 'mandarinjourney', 'mandatory', 'maneuver', 'manifests', 'manilla', 'manned', 'manner', 'manners', 'manually', 'manuel', 'manuelc', 'manufactured', 'many', 'map', 'maps', 'marathon', 'marccopely', 'march', 'marciaveronicaa', 'marcos', 'marcus', 'mardigras', 'mardigras2015', 'margo', 'maria', 'marie', 'marinadomine', 'marisol', 'mark', 'marked', 'market', 'marketing', 'marks', 'marriage', 'married', 'marriott', 'marriottrewards', 'marsha', 'marshaled', 'marshall', 'marthas', 'marty', 'martysg', 'marvinatorsb', 'marxsterbcow', 'mary', 'maryellagreen', 'maryjo', 'marys', 'mashing', 'mask', 'mass', 'massages', 'massive', 'massivefail', 'masters', 'match', 'mates', 'math', 'matteboss', 'matter', 'matters', 'mattersits', 'matthewebel', 'mauererpower', 'maui', 'maverick', 'max', 'maxabrahms', 'maxfitgirl29', 'maximization', 'may', 'maybe', 'maybemange', 'mbj', 'mbr', 'mc', 'mccaren', 'mccarran', 'mce', 'mci', 'mcigtdfw', 'mckinnie', 'mclarrensp', 'mcmullen', 'mco', 'mcogtcmh', 'mcogtdca', 'mcogtjfk', 'mcokeep', 'md', 'md80', 'md80dc10', 'mdbeei', 'mde', 'mdw', 'mdwgtmem', 'mdwsan', 'me', 'me2make', 'me2sit', 'meagan', 'meal', 'meals', 'mean', 'meaning', 'meaningful', 'means', 'meant', 'meantime', 'meanwhile', 'measles', 'measly', 'measure', 'measured', 'meat', 'mebe', 'mech', 'mechanic', 'mechanical', 'mechanicalissue', 'mechanics', 'med', 'medal', 'media', 'medical', 'medicalissue', 'medically', 'medication', 'mediocre', 'medium', 'meds', 'meelan', 'meerikangas', 'meet', 'meeting', 'meeting7', 'meetingoutraged', 'meetings', 'meetingsinterviews', 'meetthefleet', 'mega', 'megentripodi', 'meggersrocks', 'megzezzo', 'meh', 'meit', 'mel', 'melaniespring', 'melinda', 'melissa', 'melissaafrancis', 'mellani', 'mellie', 'mem', 'member', 'members', 'membership', 'memo', 'memorial', 'memories', 'memorize', 'memory', 'memphis', 'men', 'menow', 'ment', 'mental', 'mentality', 'mention', 'mentioned', 'mentioning', 'mentions', 'menu', 'menus', 'mercy', 'mere', 'merge', 'merged', 'merger', 'mergerdisaster', 'mergers', 'merging', 'meright', 'meseems', 'mess', 'message', 'messaged', 'messages', 'messcng', 'messed', 'messes', 'messing', 'met', 'metal', 'metars', 'methe', 'methey', 'method', 'metro', 'mewhat', 'mex', 'mexico', 'mfps', 'mga', 'mgmt', 'mgr', 'mht', 'mhtt', 'mi', 'mia', 'miacur', 'miaewr', 'mialga', 'miami', 'miamii', 'miamiphl', 'miamore', 'miasfo', 'miatoiah', 'michael', 'michaelbcoleman', 'michele', 'michelle', 'mid', 'midb', 'middle', 'midght', 'midland', 'midnight', 'midnite', 'midoexhibition', 'midterm', 'midtravel', 'midway', 'might', 'mighty', 'mike', 'mikehertz7gmailcom', 'mikes', 'milan', 'mild', 'mile', 'mileage', 'mileageplus', 'miler', 'miles', 'milesstatus', 'milesthank', 'milesthe', 'milestone', 'military', 'million', 'millions', 'mimosa', 'min', 'mind', 'mindset', 'mine', 'minefits', 'minenow', 'minimal', 'minimum', 'minno', 'minnow', 'minor', 'minors', 'mins', 'minsrescue', 'minsthank', 'mint', 'mintalicious', 'mintyfresh', 'minute', 'minutes', 'minutesand', 'minutesi', 'minutessaid', 'minutewere', 'minwow', 'miracle', 'miracles', 'miraculously', 'miranda', 'miriam', 'mis', 'misbehavior', 'miscalculation', 'miscommunicated', 'misconnected', 'miscounting', 'miserable', 'miserablemorning', 'miserably', 'misery', 'misfortune', 'misguided', 'mishaps', 'misinformation', 'misjudging', 'mislead', 'misleading', 'mismanagement', 'misplace', 'misplaced', 'mispurchase', 'misread', 'miss', 'missed', 'missedconnection', 'missedflight', 'missedupgrades', 'missedwork', 'misses', 'missin', 'missing', 'missingstollen', 'missingtheoscars', 'mission', 'missmykids', 'mistake', 'mistakefurious', 'mistakes', 'mistreated', 'mistreatment', 'misunderstood', 'mitchell', 'mitchsunderland', 'mite', 'mites', 'mix', 'mk', 'mke', 'mkt', 'mktg', 'mkwlkr', 'ml', 'mligtden', 'mllovelace', 'mltple', 'mmm', 'mn', 'mo3tvida', 'moar', 'mobay', 'mobil', 'mobile', 'model', 'moderate', 'modifications', 'modify', 'moines', 'mojave', 'mold', 'mom', 'moment', 'momentand', 'moments', 'momma', 'mommas', 'mommy', 'moms', 'momsgoodeats', 'mon', 'monday', 'mondays', 'monetary', 'money', 'moneyelsewhere', 'moneynotspentonunited', 'moneywhy', 'monfr', 'monica', 'monika', 'monitor', 'monitoring', 'monopoly', 'monsoon', 'montana', 'montego', 'montereyregionalairport', 'month', 'monthly', 'months', 'monthwill', 'montreal', 'montrose', 'mood', 'moodlighting', 'moodlitmonday', 'mooks', 'moon', 'mor', 'more', 'morning', 'morning1814', 'morninghow', 'morons', 'mortified', 'mos', 'mosaic', 'mosaiccant', 'mosaicmecrazy', 'mosiacfail', 'mostbut', 'mostly', 'mot', 'motel', 'mother', 'motherinlaw', 'motherpollock', 'mothers', 'motion', 'motions', 'motto', 'mountains', 'mouse', 'mouth', 'move', 'moveaboutthecountry', 'moved', 'movement', 'movements', 'moves', 'moveup', 'movie', 'movies', 'moving', 'mp', 'mpagent', 'mphx', 'mpwnc2', 'mqxc64', 'mr', 'mrerickv', 'mrjustyn', 'mrn', 'mrobinson', 'mrrenevendez', 'ms', 'msg', 'msgs', 'msn', 'msnbc', 'msp', 'msscottwg', 'msy', 'msydca', 'mt', 'mtg', 'mtgs', 'mths', 'mtn', 'mty', 'much', 'muchas', 'mugged', 'multi', 'multibillion', 'multimedia', 'multimillion', 'multinational', 'multiple', 'multipledooropeningandclosing', 'multix', 'mumbai', 'mumbled', 'mundane', 'munich', 'murdock', 'murphyjulie', 'music', 'musical', 'musician', 'musicians', 'must', 'muzak', 'mv', 'mvmt', 'mvp', 'mwa', 'mwangbickler', 'mxo42', 'my', 'mybday', 'myers', 'mypompanobeach', 'myrtle', 'myselfothers', 'mysterious', 'mysteriously', 'mystery', 'mytimeismoney', 'myvxexperience', 'n366sw', 'n598jb', 'n8325d', 'na', 'nada', 'nade', 'naders', 'naelah', 'nah', 'naiamiaa', 'nail', 'nailed', 'nakedmeetings', 'name', 'named', 'names', 'nanceebing', 'nancy', 'nanosmattering', 'naomicooper', 'nap', 'napkins', 'narita', 'narrow', 'narrower', 'narrowly', 'nas', 'nascar', 'nasdaqjblu', 'nashville', 'nashvilleshould', 'nastiest', 'nasty', 'natca', 'nathankillam', 'national', 'nationalairpor', 'nationalized', 'nations', 'nationwide', 'natl', 'natprodexpo', 'natt', 'natural', 'nature', 'natures', 'naval', 'navigate', 'navigating', 'navimumbai', 'navy', 'nawww', 'nbc', 'nbd', 'nbr', 'nbr1', 'nbsnewsr', 'nburnside26', 'nc', 'nd', 'ne', 'near', 'nearby', 'nearly', 'necessary', 'necessities', 'necessity', 'need', 'need2know', 'needcoffee', 'needed', 'neededwhy', 'needing', 'needlessly', 'needs', 'needtobehonest', 'needtocatchmynextflight', 'needtogethome', 'negative', 'negatively', 'neglect', 'neglected', 'negligence', 'negligent', 'negotiate', 'negroni', 'neighboring', 'neighbors', 'neither', 'nelsjeff', 'nephew', 'neptune', 'neptunewaivethefee', 'nerves', 'nervous', 'netneutrality', 'network', 'neurosurgery', 'nev', 'neveind', 'never', 'neveragain', 'neverchange', 'neverfails', 'neverflyaaagain', 'neverflyunited', 'neverflyusairways', 'neverflyvirgin', 'neverflyvirginforbusiness', 'nevergettinghome', 'neverontime', 'nevertakeno', 'nevertoldus', 'neveryamind', 'new', 'newamerican', 'newamericanairline', 'newark', 'newarkbrussels', 'newarklets', 'newarkliberty', 'newarktiredandwanttogohome', 'newborns', 'newburg', 'newburgh', 'newest', 'newlifetimecustomer', 'newly', 'neworleans', 'newplanesmell', 'news', 'newsflt', 'newspaper', 'newyork', 'next', 'nexttime', 'nexttimeiwillflysouthwest', 'nexus', 'nght', 'nh', 'nhlonnbcsports', 'nice', 'nicedismissive', 'nicely', 'nicer', 'nicest', 'nick', 'nickcunningham1', 'nickeled', 'nicole', 'niece', 'nigeria', 'nigga', 'niggaz', 'night', 'nightdeplaned', 'nightmare', 'nightmarish', 'nights', 'nightyour', 'ninadavuluri', 'nine', 'nines', 'nippon', 'nit', 'nite', 'nitenot', 'nitrogen', 'nix', 'nixchangefees', 'nj', 'nl', 'nlrphoto', 'nm4agoodlife', 'no2jetblue', 'noaccountability', 'noah', 'noair', 'noairport', 'noanswer', 'noapology', 'nobackup', 'nobaggagefees', 'nobody', 'nocareforcustomers', 'nocharge', 'nochill', 'noclothesnoinfo', 'nocoatcloset', 'nocommunication', 'nocompensation', 'nocrew', 'nocustomerservice', 'nodrinks', 'noenertainmenton6hourflights', 'noexcuses', 'noexcusesaccepted', 'nofilterneeded', 'nofood', 'nofun', 'nofunatall', 'nogate', 'nogearnotraining', 'nogood', 'nohelp', 'nohelponboard', 'nohotel', 'noise', 'nokidhungry', 'nola', 'nolo', 'nolove', 'noloveforsurfers', 'noltnancy', 'noluv', 'nominated', 'nomoaa', 'nomorecheckedbags', 'nomorevirgin', 'non', 'nondelayed', 'none', 'nonempty', 'nonenglish', 'noneother', 'nonetheless', 'nonewplanes', 'nonexistent', 'nonperformance', 'nonprofit', 'nonrefundable', 'nonsense', 'nonservice', 'nonstop', 'nonstops', 'nonupgrade', 'nonvegan', 'nonweather', 'noodles', 'noon', 'noone', 'noooo', 'nooooo', 'noooooooooooooooooooooope', 'nooption', 'nope', 'noplacelikehome', 'norahm', 'noreimbursement', 'noreplyusairwaysmobilecom', 'norfolk', 'norm', 'norma', 'normal', 'normally', 'norris', 'north', 'northeast', 'norush', 'norway', 'nose', 'nosecuritylines', 'nosedived', 'noservice', 'noshadetothedmv', 'noshow', 'nosupport', 'notafanofyourmerger', 'notahappycustomer', 'notanymore', 'notbabysitters', 'notch', 'notcool', 'note', 'noted', 'notes', 'notevenjv', 'notfair', 'notfriendly', 'notgoodenough', 'nothanks', 'nothappy', 'nothelpful', 'nothin', 'nothing', 'nothing1', 'nothingand', 'nothinghoping', 'nothings', 'nothini', 'notice', 'noticed', 'noticing', 'notification', 'notifications', 'notified', 'notify', 'notifying', 'notimpressed', 'noting', 'notion', 'notmadeofmoney', 'notmy', 'notmyfault', 'notnice', 'notokay', 'notourfaultyoudontuseyourgatesright', 'notreceive', 'notsatisfied', 'nottrue', 'notwheelsup', 'nov', 'now', 'now3', 'nowarmclothes', 'nowfrustrated', 'nowhere', 'nowhereland', 'nowmightmismybrosgraduation', 'noworse', 'noxtralegroom', 'nozzle', 'nrhodes85', 'nrosenb1', 'nrt', 'nt', 'nthin', 'ntrustopen', 'nullified', 'num', 'number', 'numbered', 'numberphone', 'numbers', 'numberthe', 'numerical', 'numerous', 'nuts', 'nutsaboutsouthwest', 'nutsamp', 'nvm', 'nvr', 'nw', 'nwkgtsf', 'nws', 'nxt', 'ny', 'nyc', 'nycbuenos', 'nycfeltthelove', 'nycgtbos', 'nycjfk', 'nyers', 'nyfw', 'nyjets', 'nynjairports', 'nyt', 'nytimes', 'oaaret', 'oak', 'oakland', 'oatmeal', 'obama', 'obey', 'obj3', 'obnoxious', 'obscene', 'observe', 'observer', 'obsessed', 'obsolete', 'obvious', 'obviously', 'oc', 'occasions', 'occupied', 'occupy', 'occur', 'occurred', 'occurs', 'oct', 'octaviannightmare', 'october', 'odd', 'odds', 'of40i', 'off', 'offcalls', 'offended', 'offenders', 'offensive', 'offensively', 'offer', 'offered', 'offering', 'offeringat', 'offers', 'office', 'officer', 'offices', 'official', 'officially', 'offline', 'offload', 'offloading', 'offwish', 'often', 'often5', 'ogg', 'oh', 'ohand', 'ohare', 'ohboy', 'ohead', 'ohi', 'ohing', 'ohio', 'ohioprobz', 'ohk', 'ohno', 'oil', 'ok', 'okaaaaay', 'okay', 'okayim', 'okc', 'oki', 'okie', 'okyou', 'olavarria', 'old', 'older', 'oldplanes', 'oldpolicieswaybetter', 'olds', 'oldseatnocushion', 'olive201', 'olives', 'olympic', 'oma', 'omagtden', 'omaha', 'omg', 'onafter', 'onall', 'onboard', 'onboardalerted', 'onbrd', 'oncall', 'ondemand', 'one', 'one24hmissed', 'oneasy', 'onechildfourbags', 'onehouronhold', 'onei', 'onelove', 'ones', 'onestop', 'oneway', 'oneworld', 'ongoing', 'onhold', 'onholdfordays', 'onholdforever', 'onholdwith', 'onion', 'online', 'onlineapp', 'onlineis', 'onlinerep', 'onlineuseless', 'onlinewas', 'only', 'onlyblue', 'onlyinamerica', 'onlywaytofly', 'onmultiple', 'onplane', 'ons', 'ont', 'ontarmac', 'ontime', 'onto', 'ooh', 'ooookay', 'oops', 'oopsno', 'opaque', 'open', 'opened', 'openin', 'opening', 'opens', 'openskies', 'operate', 'operated', 'operating', 'operation', 'operational', 'operations', 'operator', 'operators', 'opinion', 'opinions', 'opportunities', 'opportunity', 'opposed', 'opposite', 'ops', 'optimistic', 'optin', 'option', 'options', 'optout', 'orange', 'orangecounty', 'orbitz', 'ord', 'orddca', 'ordeal', 'ordealsigh', 'order', 'ordered', 'ordering', 'ordgtcdg', 'ordgtmsy', 'ordlga', 'ordlhr', 'ordnoise', 'ordnrt', 'ordseriously', 'ordwe', 'ordywg', 'oreos', 'orf', 'organization', 'organizational', 'organized', 'orig', 'origami', 'origin', 'original', 'originally', 'orl', 'orlando', 'orlandoridiculous', 'orlandosentinel', 'orleans', 'orthodoc', 'os', 'oscar', 'oscarnight', 'oscars', 'oscars2015', 'oscars2016', 'others', 'otherwise', 'othr', 'otis', 'ots', 'ottawa', 'ou', 'ouch', 'ought', 'oui', 'ourguest', 'out', 'outage', 'outbound', 'outbreak', 'outcome', 'outdated', 'outdoor', 'outfit', 'outfitted', 'outgetmeoutofhere', 'outin', 'outlets', 'outofbusiness', 'outofdate', 'outoftouchwithreality', 'outpost', 'outrage', 'outrageous', 'outright', 'outside', 'outsource', 'outsourced', 'outsourcing', 'outstanding', 'outta', 'outtoo', 'outward', 'overall', 'overbk', 'overbook', 'overbooked', 'overbookedgng', 'overcharge', 'overcharged', 'overchargedampunderserved', 'overcharging', 'overchging', 'overfilled', 'overflight', 'overflow', 'overflowed', 'overhaul', 'overhead', 'overheads', 'overheard', 'overheating', 'overkill', 'overloaded', 'overloads', 'overlooking', 'overnight', 'overpriced', 'overseas', 'overselling', 'oversize', 'oversized', 'oversleeping', 'oversold', 'oversorry', 'overtime', 'overweight', 'overwhelmed', 'overwhelming', 'overzealous', 'oveur', 'ow', 'owe', 'owed', 'owen', 'owes', 'owner', 'ownership', 'owning', 'oxgen', 'oy', 'oyu', 'ozs', 'pa', 'pace', 'pacific', 'pacificbiznews', 'pacify', 'pack', 'package', 'packages', 'packed', 'packermama1', 'packing', 'packingayak', 'pact', 'pad', 'padresst', 'pafe', 'page', 'paged', 'pages', 'paid', 'pain', 'painandsuffering', 'painful', 'painfully', 'painless', 'paint', 'painted', 'pair', 'pair3', 'pairing', 'pairings', 'pairs', 'pales', 'palm', 'pamgrout', 'pamper', 'panam', 'panamerican', 'pandoras', 'pandu', 'panic', 'panicked', 'pants', 'paper', 'paperampsaid', 'papers', 'paperwork', 'par', 'parachuteguy', 'paradise', 'paranoid', 'parent', 'parents', 'parentthey', 'parhetic', 'paris', 'parizad', 'park', 'parked', 'parker', 'parking', 'parryaftab', 'part', 'partial', 'particular', 'particularly', 'particulars', 'partits', 'partly', 'partner', 'partnered', 'partnering', 'partners', 'partnership', 'partnerships', 'parts', 'party', 'pascucci', 'paseengers', 'pasengers', 'paso', 'pass', 'passbook', 'passed', 'passenegers', 'passenger', 'passengerbillofrights', 'passengers', 'passengersarepeople', 'passengersdont', 'passengerslose', 'passengersstranded', 'passes', 'passing', 'passion', 'passive', 'passport', 'password', 'past', 'pasta', 'paste', 'pasting', 'pastmypatienceexpirationdate', 'pat', 'patches', 'path', 'pathetic', 'patheticcx', 'patience', 'patienceiswearingthin', 'patiencerunningout', 'patient', 'patiently', 'patrichruben', 'patrick', 'patron', 'patronizing', 'pats', 'pattern', 'pattonoswalt', 'paulgordonbrown', 'paulgordonbrowni', 'paulo', 'paws', 'pax', 'paxex', 'pay', 'paycheck', 'payed', 'paying', 'payment', 'paymytab', 'paypal', 'paypals', 'pays', 'payton', 'paytontaylor129', 'pbampj', 'pbi', 'pbiboston', 'pbijfk', 'pdx', 'pe', 'peace', 'peanut', 'peanuts', 'peanutsonaplatter', 'peanuttreenut', 'peas', 'peculiar', 'pedophile', 'pedro', 'peeled', 'peeps', 'peer', 'peeved', 'peggy', 'pek', 'pen', 'penalized', 'penalty', 'pending', 'pennies', 'pennypincher', 'people', 'peopleon', 'peoples', 'pepper', 'per', 'perfect', 'perfectly', 'perfectomobile', 'perform', 'performance', 'performing', 'performs', 'perhaps', 'period', 'periods', 'periolodicly', 'perk', 'perks', 'permanent', 'permission', 'permissions', 'persistence', 'persisting', 'person', 'personable', 'personal', 'personality', 'personalized', 'personally', 'personallyabout', 'personnel', 'perspective', 'perth', 'pesky', 'pet', 'peterpiatetsky', 'peterstraubmma', 'pets', 'petty', 'pgashow', 'pgatour', 'pgfryz', 'pgh', 'ph', 'ph6rps', 'phantom', 'phdmama', 'phenomenal', 'phf', 'phi', 'phil', 'philacarservice', 'philadelphia', 'phillip', 'philly', 'philly1213pm', 'philpete', 'phl', 'phlairport', 'phldfw', 'phlmco', 'phlmia', 'phlord', 'phlsfo', 'phltolas', 'phn', 'pho', 'phoenix', 'phomia', 'phone', 'phone25', 'phonedied', 'phoneeeee', 'phonehung', 'phonenot', 'phoneonline', 'phoneonly', 'phoneridiculous', 'phones', 'photo', 'photography', 'photos', 'phrase', 'phrased', 'phx', 'phxfor', 'phxgtdal', 'phxgtord', 'phxphl', 'phxskyharbor', 'physical', 'physically', 'pia', 'pic', 'pick', 'picked', 'picking', 'pickng', 'picks', 'pics', 'picture', 'pictures', 'pid', 'pie', 'piece', 'pieces', 'piela', 'pig', 'pigeon', 'piggy', 'pigs', 'pile', 'pillow', 'pillows', 'pilot', 'pilots', 'pilotsamp', 'pimentel', 'pin', 'ping', 'pink', 'pins', 'pipes', 'pir', 'piss', 'pissed', 'pissedvery', 'pissing', 'pit', 'pita', 'pitiad', 'pitt', 'pittsburg', 'pittsburgh', 'pity', 'pizza', 'pjs', 'place', 'placed', 'placedranked', 'places', 'placing', 'plague', 'plain', 'plainly', 'plains', 'plan', 'planb', 'plane', 'plane4', 'planebroken', 'planefirstclass', 'planehow', 'planelooks', 'planeno', 'planepisspoor', 'planes', 'planesnot', 'planeso', 'planesplane', 'planet', 'planets', 'planewide', 'planned', 'plannedneverflyvirginforbusiness', 'planner', 'planning', 'plans', 'plastic', 'plat', 'plate', 'platinum', 'platinummember', 'platinums', 'platitudes', 'platter', 'play', 'playa', 'played', 'players', 'playing', 'playlist', 'pleading', 'pleads', 'pleasant', 'pleasantly', 'please', 'pleasecomeback', 'pleased', 'pleaseeee', 'pleasegod', 'pleasehelp', 'pleasehow', 'pleasehurryup', 'pleasent', 'pleasure', 'pleasurerelief', 'plebes', 'pleeeeeeeease', 'plenty', 'plitt', 'pln', 'plot', 'plowing', 'plows', 'pls', 'plse', 'plt', 'plumber', 'plundering', 'plus', 'plz', 'pm', 'pmcan', 'pnr', 'pnut', 'pocket', 'pockets', 'podium', 'point', 'pointbut', 'pointed', 'pointing', 'pointless', 'points', 'pointsmileage', 'pointy', 'poisoning', 'poisonpill76', 'poker', 'police', 'policies', 'policiescost', 'policy', 'polite', 'politely', 'pooling', 'poop', 'poor', 'poorcommunication', 'poorcustomerservice', 'poorcustumerservice', 'poorest', 'poorly', 'poorlyhandled', 'poornoncommunication', 'poorplanning', 'poorservice', 'popping', 'pops', 'popular', 'populate', 'porn', 'port', 'portal', 'portcolumbuscmh', 'portion', 'portland', 'portlandjetport', 'portrayed', 'ports', 'pos', 'position', 'positionhow', 'positive', 'posmia', 'possession', 'possessions', 'possible', 'possible2', 'possibly', 'post', 'posted', 'posting', 'postmasters', 'postpone', 'potable', 'potatoes', 'poteettj', 'potential', 'potentially', 'potus', 'pound', 'pounding', 'pounds', 'pouting', 'power', 'powered', 'powers', 'pp', 'ppl', 'pple', 'pqd', 'pqds', 'pqm', 'pqms', 'pr', 'practical', 'practice', 'practices', 'praise', 'praised', 'praises', 'prank', 'pray', 'prayerdisappointed', 'praying', 'praywinn', 'prbound', 'prchase', 'prds', 'pre', 'preboard', 'preboarding', 'prebooked', 'precheck', 'prechk', 'preciate', 'preciation', 'precious', 'precioustime', 'precipitation', 'precludes', 'predictable', 'preexisting', 'pref', 'prefer', 'preferably', 'preference', 'preferences', 'preferred', 'prefference', 'preflight', 'pregame', 'preggo', 'pregnant', 'pregnantwithtwins', 'prem', 'premier', 'premier1k', 'premiere', 'premiers', 'premium', 'preoccupied', 'prepaid', 'preparation', 'preparations', 'prepare', 'prepared', 'preparedhonestly', 'preparedness', 'prepares', 'prepurchase', 'prerecorded', 'preregistration', 'prerookie', 'prescreen', 'preselect', 'present', 'presentation', 'presented', 'presenting', 'president', 'presidential', 'pressed', 'pressure', 'pressurecooker', 'pressurization', 'presumably', 'pretend', 'pretending', 'pretty', 'pretzels', 'prev', 'prevent', 'preventable', 'preventative', 'prevented', 'preventing', 'previous', 'previously', 'prfriendly', 'price', 'priced', 'pricediscrimination', 'priceless', 'priceline', 'prices', 'pricewise', 'pricey', 'pricing', 'pricy', 'pride', 'prime', 'princess', 'princesshalf', 'principle', 'print', 'printed', 'printer', 'printers', 'prior', 'priorities', 'prioritize', 'priority', 'prison', 'private', 'privilege', 'privileges', 'prize', 'prn', 'pro', 'proactive', 'proactively', 'prob', 'probably', 'problem', 'problemhad', 'problemive', 'problems', 'problemsbtwthe', 'problemsolvers', 'problemss', 'probls', 'probs', 'procedure', 'procedures', 'proceed', 'proceeded', 'process', 'processed', 'processes', 'processing', 'produce', 'product', 'prof', 'professional', 'professionalism', 'professionalnice', 'professionals', 'professor', 'professorpaul15', 'professors', 'proficient', 'profile', 'profit', 'profitability', 'profitable', 'profitbeforepeople', 'profiting', 'profits', 'profsolutions', 'program', 'programhorrible', 'programmers', 'programming', 'programs', 'progress', 'progressed', 'prohibits', 'projects', 'prolly', 'prolonged', 'prom', 'promise', 'promised', 'promises', 'promising', 'promo', 'promos', 'promotethatgirl', 'promoting', 'promotion', 'promotions', 'prompt', 'prompted', 'prompting', 'promptly', 'prompts', 'proof', 'proper', 'properly', 'property', 'proportion', 'propositioned', 'props', 'pros', 'protect', 'protected', 'protection', 'protest', 'protocol', 'protocols', 'proud', 'prove', 'provide', 'provided', 'providence', 'providenciales', 'provider', 'provides', 'providing', 'proving', 'ps', 'pseudovoucher', 'psgrs', 'psngrs', 'psp', 'pssgrs', 'pssngrs', 'pst', 'psych', 'psychological', 'pt', 'ptfo', 'pto', 'pts', 'pu', 'public', 'publicity', 'publicly', 'published', 'puerto', 'puj', 'pull', 'pulldown', 'pulled', 'pullin', 'pulling', 'pulls', 'pulse', 'pump', 'pumped', 'pumping', 'pumps', 'punished', 'punishedforflying', 'punta', 'puppy', 'pura', 'purchase', 'purchased', 'purchaseerrorinvalidloyaltymemberaccountstatus', 'purchasing', 'pure', 'purely', 'purifier', 'purpose', 'purse', 'push', 'pushback', 'pushed', 'pushing', 'pushy', 'put', 'puts', 'putting', 'pvd', 'pvdiad', 'pvr', 'pwm', 'q2', 'q3', 'q4vnmb', 'qantas', 'qd', 'qlyss8', 'qqbmug', 'qro', 'qs', 'quadruples', 'qualified', 'qualifies', 'quality', 'quantas', 'quarter', 'que', 'queries', 'query', 'question', 'questions', 'queue', 'queues', 'queuing', 'quiche', 'quick', 'quicker', 'quickest', 'quickie', 'quickly', 'quiet', 'quietly', 'quirkiness', 'quirky', 'quit', 'quite', 'quito', 'quitting', 'quotations', 'quote', 'quoted', 'quoting', 'race', 'races', 'rachel', 'rachelle', 'racist', 'rack', 'rad', 'radio', 'radish', 'raeann', 'raft', 'ragandisney', 'rage', 'rain', 'rainsleet', 'rainy', 'raise', 'raised', 'raisegreat', 'raising', 'raleigh', 'ralph', 'ramada', 'ramp', 'rampers', 'ramps', 'rams', 'ran', 'random', 'randomactsofcorporategreed', 'randomly', 'rang', 'range', 'ranked', 'rant', 'ranting', 'rantyou', 'rapid', 'rapidly', 'rapidrewards', 'rapids', 'raps', 'rare', 'rarely', 'ratchet', 'rate', 'rated', 'rates', 'rather', 'rating', 'rats', 'raving', 'ravioli', 'ray', 'rayja9', 'razor', 'rcd', 'rcvd', 'rdu', 'rdureimburse', 're', 'reaccommodation', 'reach', 'reachable', 'reached', 'reaches', 'reaching', 'reachingnewlows', 'react', 'reactions', 'reactivate', 'reactive', 'read', 'readded', 'reader', 'readers', 'readily', 'reading', 'reads', 'ready', 'reagan', 'reaganairport', 'real', 'realise', 'realistic', 'realistically', 'reality', 'realize', 'realized', 'realizing', 'really', 'reallythey', 'reallyyou', 'realtime', 'rear', 'rearrange', 'reason', 'reasonable', 'reasonably', 'reasons', 'reassess', 'reassign', 'reassigned', 'reativation', 'rebecca', 'reboard', 'reboarded', 'reboarding', 'rebook', 'rebooked', 'rebookedarrived', 'rebookplease', 'rebooks', 'reboot', 'rec', 'recap', 'recd', 'receipt', 'receipts', 'receive', 'received', 'receiving', 'recent', 'recently', 'recharging', 'recheck', 'rechecked', 'recheduled', 'recieved', 'reciprocate', 'reckless', 'reclaim', 'reclameaqui', 'recline', 'reclining', 'recognition', 'recognize', 'recognized', 'recommend', 'recommendation', 'recommended', 'reconsider', 'reconsidering', 'record', 'recorded', 'recording', 'recordings', 'recouping', 'recourse', 'recovered', 'recovering', 'recovery', 'recruiter', 'rectified', 'rectify', 'recvd', 'recycle', 'red', 'redcarpet', 'reddit', 'redeem', 'redeemed', 'redeeming', 'redeempoints', 'redemption', 'redesign', 'redeye', 'redheaded', 'redirect', 'redirected', 'redirects', 'redo', 'redsox', 'reduce', 'reduced', 'reduction', 'redwineisbetter', 'reebok', 'reeks', 'reevaluate', 'ref', 'ref12990176298', 'ref8441639', 'refer', 'reference', 'referred', 'refers', 'reflect', 'reflection', 'reflight', 'reform', 'refresh', 'refreshed', 'refreshes', 'refreshing', 'refreshments', 'refsd', 'refuel', 'refueled', 'refueling', 'refund', 'refundable', 'refunddm', 'refunded', 'refunding', 'refundplease', 'refundprocedurenottoopainful', 'refunds', 'refurbish', 'refuse', 'refused', 'refuses', 'refusing', 'regains', 'regard', 'regarding', 'regardless', 'regards', 'regina', 'regional', 'register', 'registered', 'registering', 'registers', 'registration', 'regret', 'regretting', 'regular', 'regularly', 'regulation', 'regulations', 'rehman', 'reigning', 'reimburse', 'reimbursed', 'reimbursement', 'reinforcements', 'reinstate', 'reinstated', 'reinterview', 'reinvest', 'reissue', 'reissued', 'reiterate', 'rejected', 'rejecting', 'relate', 'relations', 'relationship', 'relative', 'relatives', 'relax', 'relaxing', 'relay', 'relayed', 'release', 'released', 'releasing', 'relevant', 'reliability', 'reliable', 'reliablefriendly', 'relied', 'relief', 'relieved', 'reload', 'reluctant', 'rely', 'relying', 'rem', 'remain', 'remained', 'remaining', 'remains', 'remarks', 'remedy', 'remember', 'remembered', 'remembering', 'remembers', 'remind', 'reminded', 'reminder', 'reminding', 'reminds', 'remorse', 'remote', 'remotely', 'removal', 'remove', 'removed', 'removes', 'removing', 'renhotels', 'reno', 'rent', 'rental', 'rentals', 'rented', 'renting', 'renttherunway', 'reopen', 'reopened', 'reopens', 'rep', 'repaid', 'repair', 'repaired', 'repartee', 'repeat', 'repeatably', 'repeated', 'repeatedly', 'repeating', 'repexper', 'replace', 'replaced', 'replacement', 'replacing', 'replicate', 'replied', 'replies', 'reply', 'replying', 'replyingi', 'replyour', 'replys', 'report', 'reported', 'reports', 'reposting', 'reprehensible', 'represent', 'representative', 'representatives', 'represents', 'reproach', 'reps', 'republican', 'repurchased', 'reputation', 'reqing', 'reqs', 'request', 'requested', 'requesting', 'requests', 'require', 'required', 'requirement', 'requires', 'requiring', 'reread', 'reroute', 'rerouted', 'rerouting', 'res', 'resched', 'reschedule', 'rescheduled', 'reschedulemyflight', 'reschedulereplane', 'reschedules', 'rescheduling', 'rescue', 'rescued', 'reseated', 'resell', 'resend', 'resent', 'reserv', 'reservation', 'reservationchange', 'reservationexplain', 'reservationhelpful', 'reservations', 'reservationwe', 'reserve', 'reserved', 'reset', 'resoled', 'resolution', 'resolve', 'resolved', 'resolving', 'resort', 'resorting', 'resources', 'resourcesratings', 'respect', 'respectful', 'respects', 'respond', 'responded', 'respondi', 'responding', 'responds', 'response', 'responseall', 'responsedisappointed', 'responseplease', 'responses', 'responseservice', 'responsetough', 'responsibility', 'responsibilityamp', 'responsibilitytoo', 'responsible', 'responsive', 'responsiveness', 'rest', 'restaff', 'resting', 'restless', 'restore', 'restored', 'restr', 'restriction', 'restrm', 'restroom', 'restrooms', 'restructured', 'result', 'resulted', 'resulting', 'results', 'resume', 'retailer', 'retain', 'retaining', 'retains', 'retards', 'rethink', 'rethinking', 'reticketed', 'retire', 'retook', 'retracted', 'retrain', 'retrieve', 'retrieved', 'retrn', 'rett', 'return', 'returned', 'returning', 'returns', 'retweet', 'retweeted', 'retweets', 'reunion', 'reunite', 'reunited', 'reuniting', 'reupgrade', 'reuse', 'reveal', 'reveals', 'revenue', 'revers', 'reverse', 'reverted', 'revieving', 'review', 'reviewed', 'reviewing', 'revision', 'revisiting', 'revive', 'revs', 'revue', 'reward', 'rewards', 'reweather', 'rez', 'rhonda', 'ric', 'ric2dfw', 'rica', 'ricardo', 'rich', 'richard', 'rick', 'ricky', 'rico', 'rid', 'ride', 'rides', 'ridic', 'ridicules', 'ridiculous', 'ridiculously', 'ridiculousness', 'ridiculousor', 'riedel', 'right', 'rights', 'rigorous', 'rikrik', 'rim', 'ring', 'ringing', 'ringling', 'rings', 'riot', 'rip', 'ripme', 'ripoff', 'ripoffquick', 'ripoffs', 'ripped', 'rising', 'risk', 'rita', 'ritacomo', 'ritz', 'rivals', 'rivets', 'rizzilient', 'rj145s', 'rldelahunty', 'rly', 'rmoug15', 'rn', 'rncahill', 'rno', 'road', 'roads', 'roadwarrior', 'roanoke', 'roasted', 'robbed', 'robbedexplain', 'robbing', 'robbogart', 'robcnyc', 'robert', 'robertdwyer', 'roberto', 'robin', 'robinreda', 'robocalls', 'robot', 'robotic', 'robotweeting', 'robprice', 'robthecameraman', 'robyn', 'roc', 'rocif', 'rock', 'rocked', 'rockies', 'rockingthetweets', 'rockinwellness', 'rocks', 'rockstar', 'rockstars', 'rodeo', 'roger', 'rolemodel', 'roll', 'rollaboard', 'rolled', 'rollerboards', 'rollercoaster', 'rollers', 'rolling', 'rookie', 'room', 'rooms', 'roomsthat', 'rosetta', 'rotten', 'rough', 'round', 'roundtrip', 'route', 'router', 'routes', 'routine', 'routinely', 'routing', 'row', 'row7', 'rows', 'roxydigital', 'royal', 'royally', 'rozana', 'rqstd', 'rr', 'rscheduling', 'rsrv', 'rsw', 'rswwebsite', 'rt', 'rtbgtiah', 'rtn', 'rtrn', 'rtw', 'ru', 'rubbed', 'rubber', 'rubbish', 'rubs', 'rude', 'rudely', 'rudelyreturning', 'rudeness', 'rudeservice', 'rudest', 'rudestaff', 'ruin', 'ruined', 'ruining', 'ruiningmy', 'ruins', 'rule', 'rules', 'rulesshouldbend', 'rum', 'rumors', 'run', 'runaround', 'rundisney', 'runnin', 'running', 'runs', 'runway', 'runways', 'rush', 'rushed', 'russ', 'russellswriting', 'russelneiss', 'russia', 'ruth', 'ruthslobodin', 'rwg', 'rwrd', 'rx', 'ryand2285', 'rylietolbert15', 's4', 'sabe', 'sabotaging', 'sabre', 'sac', 'sacintlairport', 'sacraig', 'sacramento', 'sad', 'saddened', 'saddens', 'sadie4406', 'sadly', 'safari', 'safe', 'safealone', 'safely', 'safer', 'safety', 'safetyfirst', 'safetyservice', 'saga', 'sagerooski', 'saharasams', 'saianel', 'said', 'saidi', 'sailed', 'sailor', 'saipan', 'salad', 'sale', 'sales', 'salisbury', 'sally', 'salt', 'salvaged', 'sam', 'samantha', 'samartzis', 'sameday', 'sammijon3s', 'samoore10', 'sampgs', 'sample', 'samsonite', 'san', 'san68059m', 'sandiego', 'sandra', 'sandwich', 'sandwiches', 'sanfrancisco', 'sanitized', 'sanitizer', 'sansfo', 'santa', 'santo', 'sao', 'sapphire', 'sarah', 'sarahpompei', 'sarahzou', 'sarcasm', 'sarcastic', 'sarcastically', 'sardine', 'sarita', 'sass', 'sat', 'satellite', 'satisfaction', 'satisfactorily', 'satisfactory', 'satisfied', 'satisfy', 'sato', 'saturday', 'saturdays', 'sauce', 'sauna', 'sav', 'savannah', 'save', 'saved', 'saveface', 'saver', 'savethediagonals', 'savethoseseats', 'saveus', 'saving', 'savings', 'saviour', 'saw', 'saxonandparole', 'say', 'sayas', 'sayget', 'sayin', 'saying', 'says', 'sb', 'sb5551', 'sba', 'sbn', 'sc', 'scale', 'scam', 'scan', 'scandal', 'scanned', 'scareair', 'scared', 'scareways', 'scary', 'scattered', 'scavenger', 'scenario', 'scene', 'scenes', 'sch', 'schd', 'sche', 'sched', 'schedule', 'schedulecontact', 'scheduled', 'schedules', 'scheduling', 'scheme', 'school', 'schooler', 'schoolgirl', 'sciencebehindtheexperience', 'scl', 'scm1133', 'scolding', 'scooby', 'scoot', 'scotch', 'scott', 'scramble', 'scratching', 'scream', 'screaming', 'screen', 'screencap', 'screening', 'screenings', 'screens', 'screensand', 'screenslousy', 'screw', 'screwed', 'screwing', 'screws', 'scroll', 'scrum', 'scumbag', 'sd', 'sdf', 'sdfairport', 'sdq', 'sea', 'seahou', 'seam', 'seams', 'sean', 'seanmfmadden', 'seanvrose', 'search', 'searched', 'searching', 'season', 'seasonal', 'seat', 'seatac', 'seatarmrest', 'seatbelt', 'seated', 'seating', 'seatmate', 'seatout', 'seats', 'seatstray', 'seattle', 'seattlebound', 'seau', 'sec', 'second', 'secondary', 'secondly', 'seconds', 'secret', 'secs', 'section', 'sections', 'secure', 'secured', 'securing', 'security', 'sedholm', 'seductive', 'see', 'seeampeter', 'seeing', 'seek', 'seeking', 'seem', 'seemed', 'seemless', 'seems', 'seen', 'sees', 'seet', 'seevery', 'seg', 'segment', 'segments', 'segs', 'seguinej', 'segway', 'select', 'selected', 'selecting', 'selection', 'selections', 'selects', 'self', 'selfcheck', 'selfie', 'selfies', 'selfinterest', 'selfservice', 'selfupgraded', 'sell', 'selling', 'sellmypointssoon', 'sellout', 'selves', 'semantics', 'semester', 'send', 'sending', 'sendingposting', 'sends', 'senior', 'sense', 'senseless', 'senses', 'sensitive', 'sent', 'sentierimelinda', 'sentiment', 'sentimental', 'sentinel', 'separate', 'separated', 'separately', 'sept', 'september', 'ser', 'series', 'serious', 'seriously', 'seriousness', 'serv', 'serve', 'served', 'serves', 'service', 'servicecare', 'serviced', 'servicedog', 'servicefail', 'servicehaving', 'servicelooks', 'serviceopen', 'services', 'servicessomething', 'servicing', 'serving', 'session', 'sests', 'set', 'sets', 'setting', 'settle', 'settled', 'setup', 'sev', 'seven', 'several', 'severally', 'severe', 'severely', 'sexual', 'sexually', 'sexy', 'sf', 'sfo', 'sfo2lax', 'sfoewr', 'sfofll', 'sfogtaus', 'sfogtbos', 'sfogtyyz', 'sfojfk', 'sfolax', 'sfonew', 'sfopdx', 'sfosea', 'sfotobos', 'sfoyyj', 'sh', 'shade', 'shades', 'shadier', 'shady', 'shafted', 'shaker', 'shaking', 'shaky', 'shall', 'sham', 'shambles', 'shame', 'shameful', 'shameonyou', 'shampoo', 'shanghai', 'shannon', 'shannonbloom', 'shaquille', 'share', 'shared', 'sharing', 'sharon', 'sharp', 'shattered', 'shavon', 'shawn', 'shed', 'sheer', 'sheesh', 'sheila', 'shelf', 'shelleyandmarcrock', 'shenanigans', 'shes', 'shesaidrun', 'shhhh', 'shift', 'shifts', 'shin', 'shined', 'ship', 'shipped', 'shipping', 'shirt', 'shirts', 'shit', 'shits', 'shitshow', 'shitting', 'shitty', 'shittydeal', 'shiz', 'shld', 'shock', 'shocked', 'shocker', 'shocking', 'shoddy', 'shoe', 'shoes', 'shopping', 'short', 'shortage', 'shortcomings', 'shortcuts', 'shortly', 'shortlycb', 'shortlyrs', 'shorts', 'shortshorts', 'shortstaffed', 'shot', 'shots', 'shotwest', 'should', 'shoulda', 'shoulder', 'shoulders', 'shouldhavedriven', 'shouldhaveflowndelta', 'shouldhaveflownjetblue', 'shouldigetoutandpush', 'shouldnt', 'shouldve', 'shouldwearmasks', 'shout', 'shoutout', 'show', 'showed', 'shower', 'showexpert', 'showing', 'shown', 'shows', 'showsomerespect', 'showup', 'shrimp', 'shrug', 'shrugging', 'shucks', 'shuffle', 'shut', 'shuttle', 'shv', 'sibling', 'siblings', 'sick', 'sickcrew', 'side', 'sides', 'sidewhy', 'sigh', 'sighed', 'sight', 'sign', 'signal', 'signed', 'significant', 'significantly', 'signin', 'signing', 'signon', 'signs', 'signup', 'sil', 'silence', 'silicon', 'sill', 'silly', 'silver', 'silverairways', 'sime', 'similar', 'simonroesner', 'simple', 'simplify', 'simply', 'simultaneously', 'since', 'sincere', 'sincerely', 'sine', 'sing', 'singapore', 'singer', 'singing', 'single', 'sink', 'sinuses', 'siouxfalls', 'sir', 'sis', 'siss', 'sister', 'sisters', 'sit', 'site', 'siteapp', 'sitecomplicated', 'sites', 'siting', 'sits', 'sitters', 'sittin', 'sitting', 'sittingontheplane', 'sittingonthetarmac', 'situation', 'situationagain', 'situations', 'situationsyour', 'sivi', 'six', 'size', 'sized', 'sizer', 'sj', 'sjc', 'sjcgtlax', 'sjo', 'sjoiad', 'sju', 'sked', 'ski', 'skibootbag', 'skies', 'skiing', 'skilled', 'skillful', 'skills', 'skin', 'skip', 'skiplagged', 'skippers', 'skis', 'sky', 'skycap', 'skycaps', 'skype', 'skyscanner', 'skyteam', 'skytrax', 'skywest', 'slammed', 'slapintheface', 'slash', 'slc', 'slcairport', 'sleep', 'sleepbut', 'sleeping', 'sleepless', 'sleet', 'slept', 'slew', 'sliced', 'slide', 'slight', 'slightly', 'slime', 'slip', 'sliver', 'slog', 'slogan', 'sloooooow', 'sloooowresponses', 'sloppy', 'slots', 'slow', 'slowdown', 'slower', 'slowest', 'slowfi', 'slowing', 'slowly', 'slowness', 'sm', 'sma', 'small', 'smallerthinner', 'smallest', 'smalls', 'smart', 'smarter', 'smashed', 'smelled', 'smells', 'smelly', 'smf', 'smh', 'smile', 'smiles', 'smiles1307', 'smiling', 'smisek', 'smitten', 'smoking', 'smoooothest', 'smooth', 'smoothest', 'smoothflight', 'smoothie', 'smoothly', 'smoothoperation', 'smoothtransition', 'sms', 'smth', 'smugsmirk', 'smyc88', 'sna', 'sna2ord', 'snack', 'snacks', 'snacksthank', 'snafu', 'snag', 'snags', 'snapchat', 'snapped', 'snaps', 'sneaky', 'snit', 'snobby', 'snow', 'snowballed', 'snowboard', 'snowbound', 'snowforce', 'snowing', 'snowstorm', 'snowstorms', 'snowy', 'snuck', 'soaked', 'soaking', 'sobbed', 'sobbing', 'sobewff', 'soc', 'social', 'socialtantrum', 'socketyou', 'soda', 'sodone', 'soft', 'software', 'sohappy', 'sol', 'solate', 'sold', 'sole', 'solid', 'solo', 'solution', 'solutions', 'solve', 'solved', 'solves', 'solving', 'sombrons', 'somebody', 'somehow', 'someone', 'someoneawesome', 'someones', 'something', 'somethingwhich', 'sometime', 'sometimes', 'somewhat', 'somewhere', 'somthing', 'son', 'song', 'sons', 'sonyasloanmd', 'soon', 'sooner', 'sooo', 'soooo', 'sooooo', 'sooooooo', 'sop', 'soreback', 'sorry', 'sorrynotsorry', 'sort', 'sorta', 'sortawe', 'sorted', 'sorting', 'sorude', 'sos', 'sosmart', 'sotelo', 'soul', 'soulandinspiration', 'souljacoy', 'sound', 'sounded', 'sounding', 'sounds', 'sour', 'soured', 'sourhwest', 'sous', 'south', 'southern', 'southwest', 'southwestair', 'southwestair4569', 'southwestairgive', 'southwestairlines', 'southwestairs', 'southwestairswadiversity', 'southwestairwasthere', 'southwestfail', 'southwestluv', 'southwestluvsweeps', 'southwestoliver', 'southwestrally', 'southwestrocks', 'southwestsmoothie', 'southwestsucks', 'southworst', 'space', 'spaced', 'spaces', 'spade', 'spaghetti', 'spagnuolo', 'spain', 'spam', 'spamjunk', 'span', 'spanish', 'spare', 'sparkled', 'speak', 'speaking', 'speaks', 'spec', 'special', 'specialist', 'specially', 'specialolympics', 'specific', 'specifically', 'specifics', 'speciifc', 'spectacular', 'spectacularfed', 'speechless', 'speed', 'speeds', 'speedy', 'spell', 'spelling', 'spend', 'spending', 'spends', 'spent', 'spf', 'spiced', 'spilled', 'spin', 'spirit', 'spiritairlines', 'spiritairpr', 'spirits', 'spite', 'spk', 'split', 'splits', 'splitting', 'spoiled', 'spoke', 'spoken', 'sponsor', 'spontaneously', 'sporadically', 'sport', 'sports', 'spot', 'spotify', 'spots', 'spotty', 'sprawled', 'spread', 'spreadtheword', 'spring', 'springs', 'sprinkled', 'sprinting', 'spvsr', 'squared', 'squarely', 'squashed', 'squawked', 'squawking', 'squeaks', 'squished', 'sr', 'sre', 'srq', 'srsly', 'srv', 'srvc', 'ssal', 'st', 'stable', 'stacey', 'stacy', 'stacycrossb6', 'staduim', 'staff', 'staffamericanair', 'staffcust', 'staffed', 'staffer', 'staffers', 'staffing', 'stage', 'stagnant', 'stains', 'stairs', 'stall', 'stamp', 'stand', 'standard', 'standards', 'standby', 'standbye', 'standbylots', 'standbys', 'standing', 'star', 'staralliance', 'starbucks', 'stare', 'staring', 'stars', 'start', 'started', 'starting', 'startingbloc', 'startled', 'starts', 'startups', 'starving', 'stat', 'state', 'stated', 'statement', 'states', 'static', 'staticy', 'station', 'stationary', 'stations', 'stats', 'status', 'statusawaiting', 'statusdelays', 'statusmatchpaidoff', 'statuswill', 'stay', 'stayed', 'staying', 'stays', 'stbernard', 'stdby', 'steal', 'stealing', 'steamboat', 'steamed', 'steaming', 'steel', 'steered', 'steering', 'stellar', 'stellarservice', 'step', 'stephenrodrick', 'stepitup', 'stepped', 'stepping', 'steps', 'steve', 'stevelord212', 'stevie', 'steward', 'stewardess', 'stewardesses', 'stewart', 'sti', 'stick', 'sticker', 'sticking', 'stickingtodelta', 'sticks', 'stiiiil', 'still', 'stillbagless', 'stillbut', 'stilling', 'stillmakingmepoorthough', 'stillnobags', 'stillnotonmyflight', 'stillwaiting', 'stingiest', 'stingy', 'stink', 'stinks', 'stl', 'stl2atl', 'stlbos', 'stlouis', 'stmt', 'stndby', 'stock', 'stocker', 'stocking', 'stoked', 'stole', 'stolen', 'stone', 'stone9956', 'stonewalled', 'stood', 'stop', 'stopclaim', 'stopped', 'stopping', 'stops', 'storage', 'store', 'stories', 'storm', 'storms', 'story', 'stow', 'straight', 'straighten', 'straightened', 'strand', 'stranded', 'strandedattheairport', 'strandedinnashville', 'stranding', 'strandusindenver', 'strange', 'stranger', 'strangers', 'strategy', 'stray', 'straying', 'stream', 'streaming', 'streamline', 'street', 'streetwise', 'strength', 'stress', 'stressed', 'stressful', 'stressors', 'stretching', 'strict', 'strike', 'strikes', 'string', 'strip', 'strips', 'strive', 'strives', 'stroller', 'strollers', 'strong', 'strongly', 'strtd', 'structure', 'structures', 'struggle', 'struggling', 'struts', 'stt', 'stubborn', 'stubbornly', 'stuck', 'stucked', 'stuckinmemphis', 'stuckintampa', 'stuckintheloop', 'stuckon', 'stuckonaplane', 'student', 'students', 'studying', 'stuff', 'stuffing', 'stuffy', 'stunned', 'stunning', 'stupid', 'stupidity', 'stupidly', 'style', 'stylesheets', 'styling', 'sub', 'submit', 'submits', 'submitted', 'submitting', 'suboptimal', 'suboption', 'subpar', 'subscribe', 'subscription', 'subsequent', 'subsequently', 'substandard', 'substantial', 'substitute', 'substitutes', 'subterfuge', 'subtlety', 'success', 'successful', 'suck', 'sucked', 'sucking', 'sucks', 'sucksi', 'sucksusairwayssucks', 'suckwe', 'sudden', 'suddenintlcheckin', 'suddenly', 'sue', 'suffer', 'suffered', 'suffering', 'sufficiently', 'sugar', 'suggest', 'suggested', 'suggesting', 'suggestion', 'suggestions', 'suggests', 'suit', 'suitcase', 'suitcases', 'suite', 'suites', 'suitshirts', 'sukhdeep', 'sum1', 'summer', 'summit', 'sun', 'sunburn', 'sunday', 'sundayfunday', 'sundays', 'sunglasses', 'sunny', 'sunrise', 'sunrises', 'sunset', 'sunshine', 'suntimes', 'suntoshi', 'super', 'superb', 'superben', 'superfast', 'superhero', 'superior', 'superstars', 'supervisor', 'supervisors', 'superyan', 'supp', 'supplies', 'supply', 'support', 'supporter', 'supporting', 'suppose', 'supposed', 'supposedly', 'suprise', 'supv', 'supvrs', 'supvsr', 'surat', 'sure', 'suree', 'surely', 'surf', 'surfboard', 'surfboardbag', 'surfer', 'surgery', 'surgeryhelp', 'surliness', 'surly', 'surname', 'surprise', 'surprised', 'surprisingly', 'surreal', 'surrounding', 'survey', 'surveyemail', 'surveying', 'survive', 'susan', 'suspect', 'suspended', 'suuperg', 'suuuuper', 'sux', 'svc', 'svcs', 'svllindia', 'sw', 'swa', 'swa1004', 'swaculture', 'swair', 'swallowed', 'swamistake', 'swapic', 'swapped', 'swapping', 'swas', 'swear', 'sweat', 'sweatshirt', 'sweaty', 'sweeps', 'sweepstakes', 'sweepstakesit', 'sweet', 'sweetheart', 'sweethearts', 'sweetingr', 'sweetmel', 'swell', 'swfan', 'swift', 'swimsuits', 'swindle', 'swing', 'swipe', 'switch', 'switch2sbux', 'switched', 'switching', 'switchingboth', 'swivel', 'swooped', 'swrr', 'sxm', 'sxmclt', 'sxsw', 'sxu', 'syastem', 'sydney', 'sydneyairport', 'sylvie', 'sylvie75015', 'sympathetic', 'sympathize', 'sympathy', 'sync', 'synch', 'synergy', 'synonymous', 'syr', 'syracuse', 'sys', 'system', 'systems', 'systemsyouareonyourown', 'systemtransferred', 'systemwide', 'sytycd', 'são', 't1', 't5', 't5sparrow', 'ta', 'tab', 'tabitha', 'table', 'tables', 'tablet', 'tablets', 'tabs', 'tacky', 'tactic', 'tactics', 'tad', 'tag', 'tagged', 'tagging', 'tags', 'tahiti', 'tail', 'tailfinthursday', 'tails', 'tailwind', 'tailwinds', 'taiwan', 'take', 'takemeback', 'takemehome', 'taken', 'takeoff', 'takeresponsibility', 'takerswe', 'takes', 'taking', 'takingthistothetop', 'takr', 'talent', 'talents', 'talk', 'talked', 'talking', 'talks', 'talktoahuman', 'tallahassee', 'tamara', 'tammy', 'tampa', 'tandoori', 'tank', 'tanked', 'tanpa', 'tap', 'tara', 'targeting', 'tarmac', 'tarmack', 'tarmacthanks', 'tarmat', 'tasha', 'taste', 'tastes', 'tasty', 'tatiana', 'tatianaking', 'tattoo', 'taxi', 'taxiing', 'taxing', 'taxis', 'taylor', 'taylorlumsden', 'taylormdowns', 'tbd', 'tbt', 'tcf', 'tckt', 'tcunningham10', 'tea', 'teaampnot', 'teach', 'team', 'teamagain', 'teamim', 'teamit', 'teamnkh', 'teams', 'teamspirit', 'teamtreehouse', 'teamusa', 'tear', 'tears', 'tech', 'techcontd', 'technical', 'technically', 'technology', 'teco', 'ted', 'tedious', 'teeming', 'teen', 'teenager', 'teeth', 'tel', 'telaviv', 'telephone', 'telephones', 'teleportation', 'television', 'tell', 'telleveryone', 'telling', 'tellpurchase', 'tells', 'tellyourstory', 'temp', 'temper', 'temperature', 'template', 'temps', 'tempting', 'ten', 'tennetexan', 'tense', 'tequila', 'term', 'terminal', 'terminals', 'terms', 'terra', 'terri', 'terrible', 'terriblebeen', 'terriblecommunication', 'terriblecustomerservice', 'terribleno', 'terribleservice', 'terribly', 'terrific', 'terrifyingly', 'terror', 'terry', 'testing', 'tests', 'texarkana', 'texas', 'texasisclosed', 'text', 'texted', 'texting', 'texts', 'tf', 'tfgreenairport', 'tfw1', 'tgcyalate', 'th', 'thailand', 'thank', 'thanked', 'thankful', 'thankfully', 'thankgoodness', 'thanking', 'thankjesus', 'thankme', 'thanks', 'thanksamericanairlines', 'thanksdave', 'thanksdc', 'thanksjetblue', 'thanksm', 'thanksseat', 'thanksunited', 'thanku', 'thankyou', 'thankyouforeverything', 'thanx', 'that', 'thatbut', 'thatd', 'thatisall', 'thatlol', 'thats', 'thatthis', 'thaw', 'the', 'the15hours', 'the16', 'theacademy', 'theairhelper', 'thebachelor', 'thecandacesmith', 'thee', 'theellenshow', 'theend', 'thefaaonline', 'theflight', 'theft', 'thehaileytate', 'thehipmunk', 'thelodge', 'themed', 'themestimated', 'themon', 'thenatek', 'thenewaa', 'thenewamerican', 'thepoopqueen', 'there', 'therealaviation', 'therefore', 'thereisafirstforeverything', 'theres', 'thete', 'thetroubadour', 'theuso', 'thevdt', 'theverge', 'thevery', 'thewayoftheid', 'theworst', 'theworstairline', 'theworstairlineever', 'they', 'theyareallbetter', 'theycouldatleastofferfreebooze', 'theyd', 'theydontanswer', 'theyll', 'theyre', 'theyve', 'thick', 'thickens', 'thier', 'thieves', 'thin', 'thing', 'things', 'thingsthe', 'thingsyoucantmakeup', 'thingwill', 'think', 'thinkdo', 'thinking', 'thinkof', 'thinks', 'third', 'thirty', 'thirtylives', 'this', 'thisiscoach', 'thislinehasntmovedforanhour', 'thismosaicnothappy', 'thks', 'thng', 'thnk', 'thnkx', 'thnx', 'tho', 'thomas', 'though', 'thoughand', 'thought', 'thoughts', 'thousand', 'thousands', 'thousandth', 'thre', 'thread', 'threat', 'threatened', 'threatens', 'three', 'threehourslate', 'threw', 'thrilled', 'throne', 'throug', 'through', 'throughout', 'throw', 'throwback', 'throwing', 'thrown', 'thru', 'thrueverything', 'thu', 'thur', 'thurs', 'thursday', 'thus', 'thx', 'thy', 'ti2469', 'tic', 'tick', 'ticked', 'ticket', 'ticket12', 'ticket12h', 'ticketed', 'ticketing', 'ticketits', 'ticketnow', 'tickets', 'ticks', 'tickt', 'tier', 'tiffany', 'tiffanyandco', 'tight', 'tightconnection', 'tighter', 'tiks', 'til', 'till', 'tim', 'timbennettg3', 'timbit', 'timco', 'time', 'time2switch', 'timeand', 'timed', 'timedout', 'timehave', 'timei', 'timejust', 'timeliness', 'timely', 'timemoney', 'timenot', 'times', 'timesampstill', 'timeseverytime', 'timeshand', 'timesomeone', 'timezones', 'timieyancey', 'timing', 'tinaisback', 'tinman2ironman', 'tiny', 'tip', 'tips', 'tire', 'tired', 'tiredampfrustrated', 'tiredofthis', 'tiredofwaiting', 'tisk', 'tissues', 'title', 'tix', 'tk', 'tke', 'tks', 'tkt', 'tkts', 'tlc', 'tld', 'tlh', 'tmadcle', 'tminus', 'tmm', 'tmobile', 'tmr', 'tmrw', 'tmw', 'tn', 'tnx', 'to1030', 'to4', 'toarrange', 'toby', 'tock', 'today', 'today12', 'todayall', 'todaychecked', 'todaygiving', 'todayno', 'todayrather', 'todays', 'todaythis', 'todaytomorrow', 'todaywhats', 'toddler', 'toddlers', 'toes', 'tofrom', 'together', 'toilet', 'toiletries', 'toilets', 'token', 'tokyo', 'tokyomarathon2015', 'told', 'toledo', 'tolerable', 'toll', 'tollfree', 'tom', 'tomo', 'tomorrow', 'tomorrows', 'tomorrowwould', 'tomrw', 'ton', 'tone', 'tones', 'tongueincheek', 'tonic', 'tonight', 'tonightgreat', 'tonightnot', 'tonights', 'tonite', 'tonnes', 'tons', 'tonysimsmma', 'too', 'took', 'tool', 'toolittletoolate', 'tools', 'tooooo', 'toothpaste', 'top', 'topdown', 'topflight', 'toplay', 'tops', 'tore', 'toronto', 'torture', 'tortured', 'tory', 'tos', 'toss', 'tossed', 'total', 'totaled', 'totalfail', 'totally', 'touch', 'touchdown', 'touched', 'touching', 'tough', 'toughtomakeplans', 'tour', 'toward', 'towards', 'towed', 'tower', 'town', 'toyingwithouremotions', 'tpa', 'tpadfwaus', 'tpadfwlax', 'tpallini', 'trace', 'tracing', 'track', 'tracker', 'tracking', 'tracks', 'trading', 'traditions', 'traffic', 'trafficfuel', 'train', 'trained', 'training', 'trains', 'transaction', 'transactional', 'transactions', 'transatlantic', 'transcontinental', 'transf', 'transfer', 'transferable', 'transferred', 'transferring', 'transfers', 'transformative', 'transit', 'translation', 'transpacific', 'transparency', 'transparent', 'transpired', 'transport', 'transportation', 'transported', 'trap', 'trapped', 'trappedhouston', 'traps', 'trash', 'trashy', 'travel', 'travelbank', 'traveled', 'traveler', 'travelers', 'travelfail', 'traveling', 'travelled', 'traveller', 'travellers', 'travelling', 'travelocity', 'traveloneworld', 'travelproblems', 'travelpulse', 'travelpurchased', 'travels', 'travelzoo', 'travis', 'travisamex', 'tray', 'trbl', 'treacherous', 'treat', 'treated', 'treating', 'treatment', 'treats', 'tree', 'trees', 'tremendous', 'tremendously', 'trend', 'triage', 'trial', 'trials', 'trick', 'trickling', 'tricks', 'tried', 'triedconsiderable', 'tries', 'triflight', 'trip', 'tripadvisor', 'tripitpro', 'triple', 'tripnever', 'tripofalifetime', 'tripping', 'trips', 'trite', 'trivialize', 'tropic', 'trouble', 'troubles', 'troubleshoot', 'troubleshot', 'troubling', 'troy', 'tru', 'trublue', 'truck', 'true', 'trueblue', 'truebluecolors', 'truebluelove', 'truebluemember4life', 'truebluepoints', 'truly', 'trumping', 'trust', 'trusted', 'trustget', 'truth', 'truthful', 'truthh4', 'truutall', 'trvl', 'trvlno', 'trvlove', 'try', 'tryagain', 'tryin', 'trying', 'tryn', 'tryna', 'tryng', 'trys', 'tsa', 'tsanightmare', 'tsapre', 'tsaprecheck', 'tshirt', 'tsk', 'tt', 'tucking', 'tucson', 'tue', 'tues', 'tuesday', 'tuftsenergyconf', 'tug', 'tul', 'tulsa', 'tulsanot', 'tumitravel', 'tuned', 'turbulence', 'turn', 'turnaround', 'turned', 'turning', 'turns', 'turquoise', 'turrible', 'tus', 'tusdfw', 'tux', 'tv', 'tvmovie', 'tvs', 'tvsmusic', 'tweet', 'tweeted', 'tweeter', 'tweetin', 'tweeting', 'tweets', 'twelve', 'twenty', 'twice', 'twicegot', 'twin', 'twins', 'twist', 'twitter', 'twitterdm', 'twitteremailweb', 'twitterhug', 'twitterliterate', 'twitterz', 'two', 'twtr', 'tx', 'txfd', 'txt', 'txtemail', 'txting', 'ty', 'type', 'typical', 'typically', 'typing', 'typo', 'tyr', 'tys', 'tyspent', 'tysvm', 'tyvm', 'tywinter', 'ua', 'ua1002', 'ua1022', 'ua1023', 'ua1059', 'ua1088', 'ua1116', 'ua1118', 'ua1127', 'ua1130', 'ua1150', 'ua1151', 'ua1157', 'ua1159', 'ua1207', 'ua1266', 'ua1270', 'ua1297', 'ua1416', 'ua1429', 'ua1459', 'ua1470', 'ua1481', 'ua1510', 'ua1516', 'ua1523', 'ua1532', 'ua1534', 'ua1543', 'ua1550', 'ua1565', 'ua1566', 'ua1568', 'ua1589', 'ua1616', 'ua1641', 'ua1665', 'ua1673', 'ua1724', 'ua1731', 'ua1740', 'ua1745', 'ua1758', 'ua1764', 'ua22', 'ua23', 'ua230', 'ua246', 'ua252', 'ua276', 'ua304', 'ua3364', 'ua3388', 'ua3417', 'ua3426', 'ua343', 'ua3462', 'ua3466', 'ua3530', 'ua3576', 'ua3645', 'ua3659', 'ua3710', 'ua3728', 'ua3774', 'ua3782', 'ua3785', 'ua3787', 'ua381', 'ua3882', 'ua415', 'ua423', 'ua4636', 'ua4646', 'ua469', 'ua4727', 'ua475', 'ua4753', 'ua484', 'ua49', 'ua4904', 'ua4935', 'ua5', 'ua5025', 'ua5029', 'ua5037', 'ua507', 'ua5097', 'ua514', 'ua5168', 'ua5184', 'ua5282', 'ua5396', 'ua5525', 'ua5631', 'ua57', 'ua6', 'ua6002', 'ua6016053916', 'ua6076', 'ua6136', 'ua6255', 'ua6259', 'ua63', 'ua6318', 'ua6465', 'ua647', 'ua649', 'ua688', 'ua761', 'ua768', 'ua795', 'ua7985', 'ua82', 'ua862', 'ua863', 'ua871', 'ua90', 'ua922', 'ua936', 'ua938', 'ua978', 'ua992', 'ual', 'uals', 'uas', 'ubetter', 'uctraveladvisor', 'ud', 'udub', 'uggh', 'ugh', 'uh', 'uhi', 'uk', 'ultimately', 'um', 'umm', 'ummmm', 'umosaicmecrazy', 'umpteen', 'un', 'unable', 'unacceptable', 'unacceptablei', 'unaccomidating', 'unaccompanied', 'unaccounted', 'unaccpetable', 'unamerican', 'unamericanairlines', 'unannounced', 'unanswered', 'unansweredquestions', 'unanticipated', 'unapologetic', 'unavailable', 'unavailableto', 'unavoidable', 'unaware', 'unbalanced', 'unbelieavle', 'unbelievable', 'unbelievably', 'uncalled', 'uncaring', 'uncertainty', 'uncharacteristic', 'uncle', 'unclear', 'uncles', 'uncomfortable', 'uncompromising', 'unconscionable', 'uncontrollable', 'uncontrollably', 'uncool', 'uncourteous', 'uncvsduke', 'und', 'undefined', 'undelay', 'undelayed', 'undergoing', 'undermines', 'understaffed', 'understaffing', 'understand', 'understandable', 'understandably', 'understanding', 'understands', 'understatement', 'understood', 'underway', 'underweight', 'undetermined', 'undies', 'undignified', 'undone', 'undrstnd', 'undue', 'uneducated', 'unempathetic', 'unemployment', 'uneventful', 'unexpactable', 'unexpected', 'unexplained', 'unfair', 'unfamiliar', 'unfold', 'unfollowing', 'unforeseeable', 'unfortunate', 'unfortunately', 'unfriendly', 'unfriendlyskies', 'unhappy', 'unhappycustomer', 'unhappyspend', 'unhappytraveler', 'unheard', 'unhelpful', 'unhelpfulness', 'uniform', 'unimpressed', 'uninformed', 'united', 'united1k', 'unitedagainstunited', 'unitedairline', 'unitedairlines', 'unitedairlinessuck', 'unitedairlinessucks', 'unitedairlinessux', 'unitedappeals', 'unitedbreaksguitars', 'unitedexcited', 'unitedfail', 'unitedfailsworsttripofmylife', 'unitedfirst', 'unitedgt', 'unitedhatesusall', 'unitedlies', 'unitedrebooked', 'uniteds', 'unitedsucks', 'unitedsucksdick', 'unitedthats', 'unitedunimpressed', 'unitedvusa', 'unitedwithivy', 'unitedworstever', 'universally', 'universalorl', 'university', 'unknowledgeable', 'unknown', 'unless', 'unlike', 'unlikely', 'unload', 'unloaded', 'unloading', 'unloads', 'unlucky', 'unmanned', 'unmet', 'unmonitored', 'unnecessarily', 'unnecessary', 'unnerving', 'unnoticed', 'unobaseball', 'unorganized', 'unplanned', 'unpleasant', 'unpleased', 'unprecedented', 'unpredictable', 'unprepared', 'unproductive', 'unprofessional', 'unprofessionalism', 'unprofessionally', 'unreachable', 'unreal', 'unrealistic', 'unreasonable', 'unrelate', 'unreliable', 'unresolved', 'unrivalled', 'unsafe', 'unsat', 'unscheduled', 'unsecured', 'unserved', 'unserviceable', 'unsettling', 'unsmiling', 'unsolicited', 'unspecified', 'unsuccessful', 'unsuitable', 'unsure', 'unsympathetic', 'unt', 'untd', 'untrained', 'untrue', 'untruthful', 'unusable', 'unused', 'unusual', 'unwilling', 'unwind', 'unwise', 'up', 'upc', 'upcoming', 'update', 'updated', 'updates', 'updateyourwebsite', 'updating', 'upgd', 'upgrade', 'upgraded', 'upgrademe', 'upgrades', 'upgrading', 'upgrd', 'uphelp', 'upholding', 'upin', 'upinairclaire', 'uplink', 'upload', 'upon', 'uppp', 'ups', 'upsellladen', 'upset', 'upsetting', 'upsmh', 'upstate', 'ur', 'urgency', 'urgent', 'urgently', 'urgentlyget', 'us', 'us1562', 'us1799', 'us1937', 'us2118', 'us2146', 'us2218', 'us3645', 'us3825', 'us4485', 'us4623', 'us5235', 'us5268', 'us558', 'us624', 'us626', 'us628', 'us643', 'us651621', 'us728', 'us733', 'us755aa2595', 'us84', 'usa', 'usaa', 'usable', 'usair', 'usaireays', 'usairheads', 'usairsucks', 'usairway', 'usairways', 'usairwayscenter', 'usairwaysfail', 'usairwaysfailscustomers', 'usairwaysfflyer', 'usairwaysssuck', 'usairwayssuck', 'usairwayssucks', 'usairwis', 'usas', 'uschamber', 'usd', 'usdelayways', 'use', 'useable', 'used', 'useful', 'useles', 'useless', 'user', 'username', 'userperceived', 'users', 'uses', 'usexpresspsa', 'using', 'usingthisword', 'usual', 'usually', 'usuck', 'usurious', 'usxlon', 'utah', 'ute', 'utilize', 'utterly', 'uvf', 'uwont', 'ux', 'va', 'va370', 'vabeatsjblue', 'vaca', 'vacate', 'vacatime', 'vacatinn', 'vacation', 'vacationing', 'vacations', 'vacay', 'vague', 'vaileagle', 'vainglorygame', 'valentine', 'valentines', 'valentinesday', 'valet', 'valid', 'vallarta', 'valley', 'valuable', 'valuables', 'value', 'valued', 'values', 'van', 'vancouver', 'vanessaannz', 'vanished', 'vanity', 'vape', 'various', 'vary', 'vastly', 'vcp', 've', 'veers', 'veg', 'vegan', 'vegas', 'vegaschicago', 'vegetarian', 'veggies', 'velcro', 'velourlive', 'vendor', 'venetia', 'vent', 'ventilation', 'vents', 'venture', 'verbal', 'verbally', 'verified', 'verifies', 'verify', 'vermont', 'versace', 'version', 'versions', 'versus', 'vet', 'veterans', 'vets', 'via', 'viable', 'vibrant', 'vice', 'vicky', 'victim', 'victoria', 'vida', 'video', 'videos', 'vieques', 'view', 'views', 'vile', 'vincenzolandino', 'vineyard', 'vinyl', 'violation', 'vip', 'vipliveinthevieyard', 'viracopos', 'virgin', 'virginamerica', 'virginatlantic', 'virginmedia', 'virgins', 'virtual', 'virtually', 'virus', 'visa', 'visible', 'visibly', 'vision', 'visit', 'visiting', 'visors', 'vital', 'vitaminwater', 'vm', 'vmail', 'vmsgyour', 'vocab', 'vodkatonics', 'voice', 'voicemail', 'voided', 'volkswagen', 'volleyball', 'volume', 'volumecan', 'volumes', 'volunteer', 'volunteers', 'vomit', 'vomited', 'vote', 'voted', 'voucher', 'vouchercompensation', 'voucherconfirmation', 'voucherhotel', 'vouchermiles', 'voucherno', 'vouchers', 'vouchersno', 'vows', 'vp', 'vs', 'vt', 'vulnerable', 'vx', 'vx358', 'vx399', 'vx413', 'w19', 'w25', 'w3', 'w40', 'w4840', 'w8', 'wa', 'waa', 'waaaaaaiting', 'wack', 'wages', 'wah', 'wailing', 'wait', 'waitabout', 'waited', 'waitin', 'waiting', 'waitingagain', 'waitingcan', 'waitinginphilly', 'waitingonapilot', 'waitingsince', 'waitingso', 'waitingyou', 'waitlisted', 'waitlol', 'waits', 'waitstill', 'waive', 'waive200fee', 'waived', 'waiver', 'waivers', 'waiverskeep', 'waives', 'waivethefee', 'wake', 'wakes', 'waking', 'wakinginmemphis', 'waldorf', 'walk', 'walkaround', 'walked', 'walking', 'walks', 'walkway', 'wall', 'wallet', 'walls', 'walls29', 'walmart', 'waltdisneyworld', 'wamo66', 'wampb', 'wandered', 'wanna', 'wannagohome', 'want', 'wantcharge', 'wanted', 'wanting', 'wantmymoneyback', 'wants', 'wantvirginamerica', 'warehouse', 'warm', 'warmer', 'warmth', 'warn', 'warning', 'warnings', 'warrants', 'warriors', 'wasappreciated', 'washington', 'washingtondc', 'wasn', 'wasnt', 'waspaid', 'waste', 'wasted', 'wastedeffort', 'wastedtime', 'wasteoftime', 'wasting', 'wat', 'watch', 'watched', 'watching', 'water', 'waterbury', 'watered', 'waters', 'wating', 'watson', 'wave', 'waved', 'way', 'waybig', 'wayi', 'wayne', 'waynot', 'ways', 'waysilverairwsys', 'wbroken', 'wbuses', 'wc', 'wcancelled', 'wcomm', 'wcompanies', 'wcomputer', 'wconnection', 'wcustomer', 'wcx', 'wd', 'wd40', 'wdeicingthree', 'wdelays', 'we', 'weak', 'weakservice', 'weaktea', 'weappreciateyou', 'wearing', 'weary', 'weasel', 'weather', 'weatherbackup', 'weatherbut', 'weathered', 'weatherless', 'weatherrelate', 'weathers', 'web', 'weblink', 'webpage', 'website', 'websites', 'wed', 'wedding', 'wednesday', 'wedontcarebecauseyoupaidalready', 'weds', 'wee', 'week', 'weekampinbound', 'weekday', 'weekend', 'weekends', 'weekly', 'weekmakes', 'weeks', 'weeksampthose', 'weekthats', 'weigh', 'weighed', 'weighing', 'weight', 'weights', 'weird', 'welcome', 'welcomed', 'welcomes', 'welcoming', 'welfare', 'well', 'wellbeing', 'welldone', 'wellmy', 'wellplayed', 'wemosaictogether', 'wendell', 'wendi', 'went', 'wentook3', 'werenot', 'werenotincalianymore', 'werent', 'wererunning', 'wernicke', 'wervirgin', 'west', 'westagard', 'westchester', 'western', 'westjet', 'westpalmbeach', 'wet', 'wether', 'weve', 'wewantcomps', 'wewanttoknow', 'whacked', 'whammie', 'what', 'whatacluster', 'whatajoke', 'whatcustomerservice', 'whatd', 'whatever', 'whatgives', 'whathappend', 'whats', 'whatsoever', 'whatstatus', 'whatstheholdup', 'whch', 'wheel', 'wheelchair', 'wheelchairs', 'wheels', 'wheelsup', 'whenever', 'whenitsnowsitpours', 'whens', 'whereabouts', 'whereismybag', 'whereisthelove', 'wheres', 'wheresmybag', 'wheresmyrefund', 'wheresthecustomerserviceat', 'wheresthepilot', 'whether', 'whichisworsedenordfw', 'whilst', 'whining', 'whiny', 'whiplash', 'whipped', 'whisper', 'whispering', 'white', 'whitterbug', 'whoa', 'whod', 'whoever', 'whole', 'wholly', 'whoooo', 'whoot', 'whos', 'whose', 'whrsthecoach', 'wht', 'why', 'whyabcwhy', 'whyairtravelsucks', 'whyany', 'whyareyouyelling', 'whybeaaff', 'whydidntiflysouthwest', 'whyisusairalwaysdelayed', 'whyjeff', 'whyso', 'whyyy', 'wichita', 'wide', 'wiedersehen', 'wife', 'wifes', 'wifi', 'wifiand', 'wifihotel', 'wifiless', 'wifimissed', 'wiggle', 'wigs', 'wikipearl', 'wilco', 'will1531', 'willing', 'willl', 'willmake', 'willneverflywithyou', 'wills', 'willsunday', 'wilmington', 'win', 'winclement', 'wind', 'window', 'windows', 'winds', 'wine', 'wing', 'wings', 'winks', 'winkwink', 'winners', 'winning', 'winnipeg', 'wins', 'winston', 'winstonsalem', 'winter', 'winterops', 'winters', 'winterstorm', 'winterstorm2015', 'winterweather', 'wipe', 'wiped', 'wipes', 'wired', 'wireless', 'wise', 'wiser', 'wish', 'wishing', 'wishmyflightwaslonger', 'wit', 'withheld', 'within', 'without', 'witness', 'witnessed', 'witty', 'wiyh', 'wjere', 'wk', 'wkids', 'wknd', 'wks', 'wlcm', 'wld', 'wlil', 'wmass', 'wmiles', 'wmy', 'wn3946', 'wno', 'wnonworking', 'wnothing', 'wo', 'woase2015', 'woeful', 'woke', 'woman', 'women', 'womens', 'won', 'wonder', 'wonderful', 'wonderfully', 'wondering', 'wonderingirritated', 'wong', 'wonked', 'wont', 'wontflyagainwithyou', 'woo', 'woody', 'woof', 'woohoo', 'wopen', 'word', 'worded', 'words', 'work', 'workaround', 'worked', 'worker', 'workers', 'workersinstead', 'workforce', 'workforces', 'working', 'workingfamily', 'workng', 'worknogood', 'works', 'worksnicely', 'world', 'world8', 'worldhungry', 'worlds', 'worldwide', 'worm', 'worn', 'worried', 'worries', 'worrisome', 'worry', 'worrying', 'worse', 'worseas', 'worseoh', 'worst', 'worst2unitedflightsever', 'worstairline', 'worstairlineever', 'worstairlineinamerica', 'worstcustomerservice', 'worstcustomerserviceever', 'worstcustservice', 'worstever', 'worstflight', 'worstflightever', 'worstflightexperienceever', 'worstnever', 'worstservice', 'worstthingever', 'worsttraveldayever', 'worth', 'worthless', 'worthy', 'wother', 'wothers', 'would', 'woulda', 'wouldbe', 'wouldhow', 'wouldnt', 'wouldt', 'wouldve', 'wounded', 'wour', 'wout', 'wow', 'wowthx', 'wpg', 'wproj', 'wrap', 'wrath', 'wreck', 'wrecked', 'wrecking', 'wrench', 'wresos', 'wrestle', 'wretched', 'write', 'writes', 'writing', 'written', 'wrong', 'wronganswer', 'wrongfully', 'wrongiswrong', 'wrote', 'ws', 'wsj', 'wsmall', 'wsupervisor', 'wtf', 'wtfodds', 'wth', 'wthat', 'wthem', 'wthis', 'wtop', 'wtw', 'wu', 'wudda', 'wupgrade', 'wx', 'wyoming', 'wyou', 'x2', 'xfinity', 'xld', 'xmas', 'xna', 'xoxo', 'xt', 'xtra', 'xw', 'xx', 'xzmscw', 'ya', 'yaffasolin', 'yall', 'yards', 'yasss', 'yay', 'yayayay', 'yday', 'yea', 'yeah', 'year', 'yearly', 'yearround', 'years', 'yeehaw', 'yell', 'yelled', 'yelling', 'yellow', 'yeniettelswood', 'yep', 'yepfiled', 'yes', 'yeseniahernandez', 'yesnot', 'yesso', 'yest', 'yesterday', 'yesterdayrubber', 'yesterdays', 'yet', 'yield', 'yikes', 'yo', 'yoga', 'yogurt', 'york', 'yorkshire2002', 'you', 'you3860', 'youareonyourown', 'youcandobetter', 'youcouldntmakethis', 'youd', 'youdidit', 'youdo', 'youknowyouwantto', 'youll', 'young', 'younger', 'youragentshavenoclue', 'yourairlinesucks', 'youre', 'youredoingitwrong', 'youretheworst', 'yourock', 'yourphonesystemsucks', 'yousuck', 'youto', 'youve', 'youyou', 'yow', 'ypu', 'yr', 'yrs', 'ystday', 'ystrdy', 'yuck', 'yucki', 'yuma', 'yummy', 'yup', 'yvonne', 'yvonneokaka', 'yvr', 'yxe', 'yyc', 'yyj', 'yyz', 'yyzua70435', 'z1', 'zabsonre', 'zambia', 'zcc82u', 'zero', 'zfv', 'zigzagging', 'zip', 'zippers', 'zkatcher', 'zombie', 'zone', 'zones', 'zoom', 'zrh', 'zukes', 'zurich']\n"
          ],
          "name": "stdout"
        }
      ]
    },
    {
      "cell_type": "code",
      "metadata": {
        "colab": {
          "base_uri": "https://localhost:8080/"
        },
        "id": "_t_DQPuSUCwC",
        "outputId": "65df2d8d-5f38-45cc-e23d-bd2e43453dc3"
      },
      "source": [
        "len(vectorizer.get_feature_names())"
      ],
      "execution_count": 20,
      "outputs": [
        {
          "output_type": "execute_result",
          "data": {
            "text/plain": [
              "13843"
            ]
          },
          "metadata": {
            "tags": []
          },
          "execution_count": 20
        }
      ]
    },
    {
      "cell_type": "code",
      "metadata": {
        "colab": {
          "base_uri": "https://localhost:8080/"
        },
        "id": "9RZ9IkLLUH3f",
        "outputId": "fe6ed2b1-2fb0-45eb-ef8c-cd6a60296282"
      },
      "source": [
        "X.toarray().shape"
      ],
      "execution_count": 21,
      "outputs": [
        {
          "output_type": "execute_result",
          "data": {
            "text/plain": [
              "(11541, 13843)"
            ]
          },
          "metadata": {
            "tags": []
          },
          "execution_count": 21
        }
      ]
    },
    {
      "cell_type": "code",
      "metadata": {
        "colab": {
          "base_uri": "https://localhost:8080/"
        },
        "id": "tYu9KubTUJ4m",
        "outputId": "0896ccf2-160c-43c1-ed0d-4a07da530198"
      },
      "source": [
        "message_req.shape"
      ],
      "execution_count": 22,
      "outputs": [
        {
          "output_type": "execute_result",
          "data": {
            "text/plain": [
              "(11541, 18)"
            ]
          },
          "metadata": {
            "tags": []
          },
          "execution_count": 22
        }
      ]
    },
    {
      "cell_type": "code",
      "metadata": {
        "id": "r0agu9sYUPW6"
      },
      "source": [
        "from sklearn.model_selection import train_test_split\n",
        "msg_train,msg_test,label_train,label_test = train_test_split(message_req['tokenised_message'],message_req['sentiment'],test_size=0.2)"
      ],
      "execution_count": 23,
      "outputs": []
    },
    {
      "cell_type": "code",
      "metadata": {
        "colab": {
          "base_uri": "https://localhost:8080/"
        },
        "id": "2EzzkqUYUbOn",
        "outputId": "95a461ec-8c9e-4b1e-c4ad-e9054a93fd33"
      },
      "source": [
        "msg_train.head()"
      ],
      "execution_count": 24,
      "outputs": [
        {
          "output_type": "execute_result",
          "data": {
            "text/plain": [
              "550      united iah charlotte Baggage claim rep latrice...\n",
              "2374     united cldnt happier w many plastic wing pins ...\n",
              "13687    AmericanAir offer automated call back option a...\n",
              "1674     united Plane came broken seat Rather fix put b...\n",
              "6388     SouthwestAir big thanks team family emerg day ...\n",
              "Name: tokenised_message, dtype: object"
            ]
          },
          "metadata": {
            "tags": []
          },
          "execution_count": 24
        }
      ]
    },
    {
      "cell_type": "code",
      "metadata": {
        "id": "uMUkPD23V7E2"
      },
      "source": [
        "train_vectorized = vectorizer.transform(msg_train)\n",
        "test_vectorized = vectorizer.transform(msg_test)"
      ],
      "execution_count": 25,
      "outputs": []
    },
    {
      "cell_type": "code",
      "metadata": {
        "id": "tGDJ8pkaVPsL"
      },
      "source": [
        "train_array= train_vectorized.toarray()\n",
        "test_array = test_vectorized.toarray()"
      ],
      "execution_count": 26,
      "outputs": []
    },
    {
      "cell_type": "code",
      "metadata": {
        "id": "TFOzQBGwbhgX"
      },
      "source": [
        "params_grid = {'C': [0.001, 0.01, 0.1, 1, 10, 100],\n",
        "          'gamma': [0.0001, 0.001, 0.01, 0.1],\n",
        "          'kernel':['linear','rbf'] }\n",
        "\n"
      ],
      "execution_count": 27,
      "outputs": []
    },
    {
      "cell_type": "code",
      "metadata": {
        "colab": {
          "base_uri": "https://localhost:8080/"
        },
        "id": "ngHQ6s5ec1tI",
        "outputId": "fe0b5330-7177-4a3c-c5bc-23f9e8373d4f"
      },
      "source": [
        "from sklearn.svm import SVC\n",
        "from sklearn.model_selection import GridSearchCV\n",
        "\n",
        "svc = SVC()\n",
        "parameters = {'C': [0.001, 0.01, 0.1, 1, 10, 100],\n",
        "          'gamma': [0.0001, 0.001, 0.01, 0.1],\n",
        "          'kernel':['linear','rbf','poly'] }\n",
        "svclassifier = GridSearchCV(svc, parameters, scoring='neg_mean_squared_error', cv=3,verbose=True)\n",
        "svclassifier.fit(train_array, label_train)"
      ],
      "execution_count": null,
      "outputs": [
        {
          "output_type": "stream",
          "text": [
            "Fitting 3 folds for each of 48 candidates, totalling 144 fits\n"
          ],
          "name": "stdout"
        },
        {
          "output_type": "stream",
          "text": [
            "[Parallel(n_jobs=1)]: Using backend SequentialBackend with 1 concurrent workers.\n"
          ],
          "name": "stderr"
        }
      ]
    },
    {
      "cell_type": "code",
      "metadata": {
        "id": "P7JP8I8xZIsK"
      },
      "source": [
        "test_pred = svclassifier.predict(test_array)\n",
        "train_pred = svclassifier.predict(train_array)"
      ],
      "execution_count": null,
      "outputs": []
    },
    {
      "cell_type": "code",
      "metadata": {
        "id": "ROgtJzeSba6V"
      },
      "source": [
        "from sklearn.metrics import classification_report,confusion_matrix\n",
        "print(confusion_matrix(label_train,train_preds))\n",
        "print(confusion_matrix(label_test,test_preds))"
      ],
      "execution_count": null,
      "outputs": []
    },
    {
      "cell_type": "code",
      "metadata": {
        "id": "Vc4gchBgZtJd"
      },
      "source": [
        "# Print the classification report for train and test\n",
        "print(classification_report(label_train,train_preds))\n",
        "print(\"\\n\")\n",
        "print(classification_report(label_test,test_preds))"
      ],
      "execution_count": null,
      "outputs": []
    },
    {
      "cell_type": "code",
      "metadata": {
        "id": "VldXHYTleSU0"
      },
      "source": [
        ""
      ],
      "execution_count": null,
      "outputs": []
    }
  ]
}